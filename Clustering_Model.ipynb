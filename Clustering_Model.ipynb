{
  "cells": [
    {
      "cell_type": "markdown",
      "metadata": {},
      "source": [
        "###\n",
        "**Background**\n",
        "\n",
        "Pundi-Pundi is a finance company in one country that wants to build the correct strategy for running telemarketing. The problem is that company doesn't have a strategy for running effectively. Some Divisions have different indicators to analyze potential customers  that make too many offers of products sent to the same customer. As a result, the offer is indicated as a spam by some customers so whatever has to be done are useless.\n",
        "\n",
        "**Goal**\n",
        "\n",
        "Build the model that can analyze correct product for getting effectivity telemarketing.\n",
        "\n",
        "**NOTE**\n",
        "\n",
        "Use older Python version such as 3.10.18 instead of newer python or downgrade your numpy to numpy 2.0 below for running one of this project algorithm(K-Medoids). Module of that algorithm doesn't support a newer numpy for running that algorithm."
      ]
    },
    {
      "cell_type": "markdown",
      "metadata": {
        "id": "jQrI944jjU2R"
      },
      "source": [
        "# **Preparation**"
      ]
    },
    {
      "cell_type": "markdown",
      "metadata": {
        "id": "nP7Ke-UGjveT"
      },
      "source": [
        "## Import Package"
      ]
    },
    {
      "cell_type": "code",
      "execution_count": 1,
      "metadata": {
        "id": "NKNWFv1kHZqi"
      },
      "outputs": [],
      "source": [
        "import pandas as pd\n",
        "import numpy as np\n",
        "import matplotlib.pyplot as plt\n",
        "import seaborn as sns\n",
        "pd.set_option('display.max_columns', None)"
      ]
    },
    {
      "cell_type": "markdown",
      "metadata": {
        "id": "78ctniB4j5sb"
      },
      "source": [
        "## Import Dataset"
      ]
    },
    {
      "cell_type": "code",
      "execution_count": 2,
      "metadata": {
        "colab": {
          "base_uri": "https://localhost:8080/"
        },
        "id": "ORr4bZ4-Haxs",
        "outputId": "9475a81c-825c-4cd9-a4cd-ae56daa88a7a"
      },
      "outputs": [
        {
          "data": {
            "text/html": [
              "<div>\n",
              "<style scoped>\n",
              "    .dataframe tbody tr th:only-of-type {\n",
              "        vertical-align: middle;\n",
              "    }\n",
              "\n",
              "    .dataframe tbody tr th {\n",
              "        vertical-align: top;\n",
              "    }\n",
              "\n",
              "    .dataframe thead th {\n",
              "        text-align: right;\n",
              "    }\n",
              "</style>\n",
              "<table border=\"1\" class=\"dataframe\">\n",
              "  <thead>\n",
              "    <tr style=\"text-align: right;\">\n",
              "      <th></th>\n",
              "      <th>GCIF</th>\n",
              "      <th>Area</th>\n",
              "      <th>Jalur_Pembukaan</th>\n",
              "      <th>Vintage</th>\n",
              "      <th>Usia</th>\n",
              "      <th>Jenis_Kelamin</th>\n",
              "      <th>Status_Perkawinan</th>\n",
              "      <th>Jumlah_Anak</th>\n",
              "      <th>Pendidikan</th>\n",
              "      <th>Produk_Tabungan</th>\n",
              "      <th>Produk_Deposito</th>\n",
              "      <th>Produk_Kartu_Kredit</th>\n",
              "      <th>Produk_Kredit_Rumah</th>\n",
              "      <th>Produk_Kredit_Kendaraan</th>\n",
              "      <th>Produk_Kredit_Dana_Tunai</th>\n",
              "      <th>Total_Kepemilikan_Produk</th>\n",
              "      <th>Pendapatan_Tahunan</th>\n",
              "      <th>Total_Relationship_Balance</th>\n",
              "    </tr>\n",
              "  </thead>\n",
              "  <tbody>\n",
              "    <tr>\n",
              "      <th>0</th>\n",
              "      <td>G28036</td>\n",
              "      <td>Bogor</td>\n",
              "      <td>Internet Banking</td>\n",
              "      <td>&lt; 1 Tahun</td>\n",
              "      <td>69.0</td>\n",
              "      <td>Laki-laki</td>\n",
              "      <td>Menikah</td>\n",
              "      <td>3</td>\n",
              "      <td>Doktor</td>\n",
              "      <td>1</td>\n",
              "      <td>0</td>\n",
              "      <td>0</td>\n",
              "      <td>0</td>\n",
              "      <td>0</td>\n",
              "      <td>0</td>\n",
              "      <td>1</td>\n",
              "      <td>747</td>\n",
              "      <td>44607</td>\n",
              "    </tr>\n",
              "    <tr>\n",
              "      <th>1</th>\n",
              "      <td>G18528</td>\n",
              "      <td>Jakarta</td>\n",
              "      <td>Telemarketing</td>\n",
              "      <td>&lt; 1 Tahun</td>\n",
              "      <td>23.0</td>\n",
              "      <td>Laki-laki</td>\n",
              "      <td>Belum Menikah</td>\n",
              "      <td>0</td>\n",
              "      <td>Doktor</td>\n",
              "      <td>1</td>\n",
              "      <td>0</td>\n",
              "      <td>0</td>\n",
              "      <td>0</td>\n",
              "      <td>0</td>\n",
              "      <td>0</td>\n",
              "      <td>1</td>\n",
              "      <td>198</td>\n",
              "      <td>10668586</td>\n",
              "    </tr>\n",
              "    <tr>\n",
              "      <th>2</th>\n",
              "      <td>G22419</td>\n",
              "      <td>Surabaya</td>\n",
              "      <td>Telemarketing</td>\n",
              "      <td>&lt; 1 Tahun</td>\n",
              "      <td>30.0</td>\n",
              "      <td>Laki-laki</td>\n",
              "      <td>Belum Menikah</td>\n",
              "      <td>0</td>\n",
              "      <td>Doktor</td>\n",
              "      <td>1</td>\n",
              "      <td>0</td>\n",
              "      <td>0</td>\n",
              "      <td>0</td>\n",
              "      <td>0</td>\n",
              "      <td>0</td>\n",
              "      <td>1</td>\n",
              "      <td>280</td>\n",
              "      <td>299076075</td>\n",
              "    </tr>\n",
              "    <tr>\n",
              "      <th>3</th>\n",
              "      <td>G04482</td>\n",
              "      <td>Bandung</td>\n",
              "      <td>Cabang</td>\n",
              "      <td>&lt; 1 Tahun</td>\n",
              "      <td>45.0</td>\n",
              "      <td>Laki-laki</td>\n",
              "      <td>Belum Menikah</td>\n",
              "      <td>0</td>\n",
              "      <td>Doktor</td>\n",
              "      <td>1</td>\n",
              "      <td>0</td>\n",
              "      <td>0</td>\n",
              "      <td>0</td>\n",
              "      <td>0</td>\n",
              "      <td>0</td>\n",
              "      <td>1</td>\n",
              "      <td>431</td>\n",
              "      <td>417250579</td>\n",
              "    </tr>\n",
              "    <tr>\n",
              "      <th>4</th>\n",
              "      <td>G07807</td>\n",
              "      <td>Bandung</td>\n",
              "      <td>Aplikasi Digital</td>\n",
              "      <td>&lt; 1 Tahun</td>\n",
              "      <td>34.0</td>\n",
              "      <td>Perempuan</td>\n",
              "      <td>Belum Menikah</td>\n",
              "      <td>0</td>\n",
              "      <td>Doktor</td>\n",
              "      <td>1</td>\n",
              "      <td>0</td>\n",
              "      <td>0</td>\n",
              "      <td>0</td>\n",
              "      <td>0</td>\n",
              "      <td>0</td>\n",
              "      <td>1</td>\n",
              "      <td>184</td>\n",
              "      <td>453573593</td>\n",
              "    </tr>\n",
              "  </tbody>\n",
              "</table>\n",
              "</div>"
            ],
            "text/plain": [
              "     GCIF      Area   Jalur_Pembukaan    Vintage  Usia Jenis_Kelamin  \\\n",
              "0  G28036     Bogor  Internet Banking  < 1 Tahun  69.0     Laki-laki   \n",
              "1  G18528   Jakarta     Telemarketing  < 1 Tahun  23.0     Laki-laki   \n",
              "2  G22419  Surabaya     Telemarketing  < 1 Tahun  30.0     Laki-laki   \n",
              "3  G04482   Bandung            Cabang  < 1 Tahun  45.0     Laki-laki   \n",
              "4  G07807   Bandung  Aplikasi Digital  < 1 Tahun  34.0     Perempuan   \n",
              "\n",
              "  Status_Perkawinan  Jumlah_Anak Pendidikan  Produk_Tabungan  Produk_Deposito  \\\n",
              "0           Menikah            3     Doktor                1                0   \n",
              "1     Belum Menikah            0     Doktor                1                0   \n",
              "2     Belum Menikah            0     Doktor                1                0   \n",
              "3     Belum Menikah            0     Doktor                1                0   \n",
              "4     Belum Menikah            0     Doktor                1                0   \n",
              "\n",
              "   Produk_Kartu_Kredit  Produk_Kredit_Rumah  Produk_Kredit_Kendaraan  \\\n",
              "0                    0                    0                        0   \n",
              "1                    0                    0                        0   \n",
              "2                    0                    0                        0   \n",
              "3                    0                    0                        0   \n",
              "4                    0                    0                        0   \n",
              "\n",
              "   Produk_Kredit_Dana_Tunai  Total_Kepemilikan_Produk  Pendapatan_Tahunan  \\\n",
              "0                         0                         1                 747   \n",
              "1                         0                         1                 198   \n",
              "2                         0                         1                 280   \n",
              "3                         0                         1                 431   \n",
              "4                         0                         1                 184   \n",
              "\n",
              "   Total_Relationship_Balance  \n",
              "0                       44607  \n",
              "1                    10668586  \n",
              "2                   299076075  \n",
              "3                   417250579  \n",
              "4                   453573593  "
            ]
          },
          "execution_count": 2,
          "metadata": {},
          "output_type": "execute_result"
        }
      ],
      "source": [
        "# Import data\n",
        "source= path_1 = \"https://raw.githubusercontent.com/brainspopper/dataset/main/clustering_data.csv\"\n",
        "data = pd.read_csv(source)\n",
        "data.head()"
      ]
    },
    {
      "cell_type": "code",
      "execution_count": 3,
      "metadata": {
        "colab": {
          "base_uri": "https://localhost:8080/"
        },
        "id": "qgR1lygOjDCq",
        "outputId": "6314e01e-13db-4423-ef7b-9c078cd45fa0"
      },
      "outputs": [
        {
          "name": "stdout",
          "output_type": "stream",
          "text": [
            "<class 'pandas.core.frame.DataFrame'>\n",
            "RangeIndex: 28129 entries, 0 to 28128\n",
            "Data columns (total 18 columns):\n",
            " #   Column                      Non-Null Count  Dtype  \n",
            "---  ------                      --------------  -----  \n",
            " 0   GCIF                        28129 non-null  object \n",
            " 1   Area                        28129 non-null  object \n",
            " 2   Jalur_Pembukaan             28129 non-null  object \n",
            " 3   Vintage                     28129 non-null  object \n",
            " 4   Usia                        24084 non-null  float64\n",
            " 5   Jenis_Kelamin               28129 non-null  object \n",
            " 6   Status_Perkawinan           28129 non-null  object \n",
            " 7   Jumlah_Anak                 28129 non-null  int64  \n",
            " 8   Pendidikan                  28129 non-null  object \n",
            " 9   Produk_Tabungan             28129 non-null  int64  \n",
            " 10  Produk_Deposito             28129 non-null  int64  \n",
            " 11  Produk_Kartu_Kredit         28129 non-null  int64  \n",
            " 12  Produk_Kredit_Rumah         28129 non-null  int64  \n",
            " 13  Produk_Kredit_Kendaraan     28129 non-null  int64  \n",
            " 14  Produk_Kredit_Dana_Tunai    28129 non-null  int64  \n",
            " 15  Total_Kepemilikan_Produk    28129 non-null  int64  \n",
            " 16  Pendapatan_Tahunan          28129 non-null  int64  \n",
            " 17  Total_Relationship_Balance  28129 non-null  int64  \n",
            "dtypes: float64(1), int64(10), object(7)\n",
            "memory usage: 3.9+ MB\n"
          ]
        }
      ],
      "source": [
        "# Data type info\n",
        "data.info()"
      ]
    },
    {
      "cell_type": "markdown",
      "metadata": {
        "id": "bNPjeL3ik40Q"
      },
      "source": [
        "# **Data Understanding**"
      ]
    },
    {
      "cell_type": "code",
      "execution_count": 15,
      "metadata": {
        "colab": {
          "base_uri": "https://localhost:8080/"
        },
        "id": "fjsyyV602uXM",
        "outputId": "6f5b089f-fcdd-42f4-93f2-5bfe470b51ba"
      },
      "outputs": [
        {
          "data": {
            "text/plain": [
              "['GCIF',\n",
              " 'Area',\n",
              " 'Jalur_Pembukaan',\n",
              " 'Vintage',\n",
              " 'Jenis_Kelamin',\n",
              " 'Status_Perkawinan',\n",
              " 'Pendidikan']"
            ]
          },
          "execution_count": 15,
          "metadata": {},
          "output_type": "execute_result"
        }
      ],
      "source": [
        "data.select_dtypes(include=['object']).columns.to_list()"
      ]
    },
    {
      "cell_type": "code",
      "execution_count": 16,
      "metadata": {
        "colab": {
          "base_uri": "https://localhost:8080/"
        },
        "id": "KdSYIUF0oWUS",
        "outputId": "493e3ee0-e10f-4f52-a27e-6bdc6edf9a40"
      },
      "outputs": [
        {
          "name": "stdout",
          "output_type": "stream",
          "text": [
            "       Area  Number of Cust\n",
            "0   Bandung            6917\n",
            "1     Bogor            1191\n",
            "2   Jakarta            7017\n",
            "3     Jogja            3001\n",
            "4      Solo            5001\n",
            "5  Surabaya            5002\n"
          ]
        }
      ],
      "source": [
        "# Distribution Cust Based on Area\n",
        "area= data.groupby('Area')['GCIF'].count().reset_index()\n",
        "area.columns=['Area','Number of Cust']\n",
        "print(area)"
      ]
    },
    {
      "cell_type": "markdown",
      "metadata": {
        "id": "yM9-RHWL5Tfl"
      },
      "source": [
        "**INSIGHT**\n",
        "\n",
        "Mostly Customer residental in Jakarta."
      ]
    },
    {
      "cell_type": "code",
      "execution_count": 17,
      "metadata": {
        "colab": {
          "base_uri": "https://localhost:8080/"
        },
        "id": "vtVdSmUv0gF4",
        "outputId": "ad223823-a0b8-427a-a835-94f6e737c4fb"
      },
      "outputs": [
        {
          "data": {
            "text/html": [
              "<div>\n",
              "<style scoped>\n",
              "    .dataframe tbody tr th:only-of-type {\n",
              "        vertical-align: middle;\n",
              "    }\n",
              "\n",
              "    .dataframe tbody tr th {\n",
              "        vertical-align: top;\n",
              "    }\n",
              "\n",
              "    .dataframe thead th {\n",
              "        text-align: right;\n",
              "    }\n",
              "</style>\n",
              "<table border=\"1\" class=\"dataframe\">\n",
              "  <thead>\n",
              "    <tr style=\"text-align: right;\">\n",
              "      <th></th>\n",
              "      <th>Usia</th>\n",
              "      <th>Jumlah_Anak</th>\n",
              "      <th>Produk_Tabungan</th>\n",
              "      <th>Produk_Deposito</th>\n",
              "      <th>Produk_Kartu_Kredit</th>\n",
              "      <th>Produk_Kredit_Rumah</th>\n",
              "      <th>Produk_Kredit_Kendaraan</th>\n",
              "      <th>Produk_Kredit_Dana_Tunai</th>\n",
              "      <th>Total_Kepemilikan_Produk</th>\n",
              "      <th>Pendapatan_Tahunan</th>\n",
              "      <th>Total_Relationship_Balance</th>\n",
              "    </tr>\n",
              "    <tr>\n",
              "      <th>Area</th>\n",
              "      <th></th>\n",
              "      <th></th>\n",
              "      <th></th>\n",
              "      <th></th>\n",
              "      <th></th>\n",
              "      <th></th>\n",
              "      <th></th>\n",
              "      <th></th>\n",
              "      <th></th>\n",
              "      <th></th>\n",
              "      <th></th>\n",
              "    </tr>\n",
              "  </thead>\n",
              "  <tbody>\n",
              "    <tr>\n",
              "      <th>Bandung</th>\n",
              "      <td>42.562310</td>\n",
              "      <td>1.296516</td>\n",
              "      <td>0.925401</td>\n",
              "      <td>0.599682</td>\n",
              "      <td>0.329767</td>\n",
              "      <td>0.587393</td>\n",
              "      <td>0.163076</td>\n",
              "      <td>0.537516</td>\n",
              "      <td>3.142836</td>\n",
              "      <td>405.124910</td>\n",
              "      <td>2.454722e+08</td>\n",
              "    </tr>\n",
              "    <tr>\n",
              "      <th>Bogor</th>\n",
              "      <td>42.660451</td>\n",
              "      <td>1.366919</td>\n",
              "      <td>0.921075</td>\n",
              "      <td>0.596977</td>\n",
              "      <td>0.324097</td>\n",
              "      <td>0.582704</td>\n",
              "      <td>0.160369</td>\n",
              "      <td>0.554996</td>\n",
              "      <td>3.140218</td>\n",
              "      <td>402.227540</td>\n",
              "      <td>2.499853e+08</td>\n",
              "    </tr>\n",
              "    <tr>\n",
              "      <th>Jakarta</th>\n",
              "      <td>42.696995</td>\n",
              "      <td>1.322930</td>\n",
              "      <td>0.925467</td>\n",
              "      <td>0.603534</td>\n",
              "      <td>0.336184</td>\n",
              "      <td>0.590708</td>\n",
              "      <td>0.169873</td>\n",
              "      <td>0.540829</td>\n",
              "      <td>3.166595</td>\n",
              "      <td>406.478552</td>\n",
              "      <td>2.485876e+08</td>\n",
              "    </tr>\n",
              "    <tr>\n",
              "      <th>Jogja</th>\n",
              "      <td>42.512422</td>\n",
              "      <td>1.309897</td>\n",
              "      <td>0.934355</td>\n",
              "      <td>0.608464</td>\n",
              "      <td>0.333555</td>\n",
              "      <td>0.594469</td>\n",
              "      <td>0.158614</td>\n",
              "      <td>0.535155</td>\n",
              "      <td>3.164612</td>\n",
              "      <td>402.694768</td>\n",
              "      <td>2.496616e+08</td>\n",
              "    </tr>\n",
              "    <tr>\n",
              "      <th>Solo</th>\n",
              "      <td>42.445452</td>\n",
              "      <td>1.270746</td>\n",
              "      <td>0.922416</td>\n",
              "      <td>0.603479</td>\n",
              "      <td>0.337932</td>\n",
              "      <td>0.604679</td>\n",
              "      <td>0.156969</td>\n",
              "      <td>0.540492</td>\n",
              "      <td>3.165967</td>\n",
              "      <td>408.010198</td>\n",
              "      <td>2.507478e+08</td>\n",
              "    </tr>\n",
              "    <tr>\n",
              "      <th>Surabaya</th>\n",
              "      <td>42.768980</td>\n",
              "      <td>1.284486</td>\n",
              "      <td>0.927629</td>\n",
              "      <td>0.608357</td>\n",
              "      <td>0.329668</td>\n",
              "      <td>0.585566</td>\n",
              "      <td>0.168533</td>\n",
              "      <td>0.528589</td>\n",
              "      <td>3.148341</td>\n",
              "      <td>409.074370</td>\n",
              "      <td>2.523277e+08</td>\n",
              "    </tr>\n",
              "  </tbody>\n",
              "</table>\n",
              "</div>"
            ],
            "text/plain": [
              "               Usia  Jumlah_Anak  Produk_Tabungan  Produk_Deposito  \\\n",
              "Area                                                                 \n",
              "Bandung   42.562310     1.296516         0.925401         0.599682   \n",
              "Bogor     42.660451     1.366919         0.921075         0.596977   \n",
              "Jakarta   42.696995     1.322930         0.925467         0.603534   \n",
              "Jogja     42.512422     1.309897         0.934355         0.608464   \n",
              "Solo      42.445452     1.270746         0.922416         0.603479   \n",
              "Surabaya  42.768980     1.284486         0.927629         0.608357   \n",
              "\n",
              "          Produk_Kartu_Kredit  Produk_Kredit_Rumah  Produk_Kredit_Kendaraan  \\\n",
              "Area                                                                          \n",
              "Bandung              0.329767             0.587393                 0.163076   \n",
              "Bogor                0.324097             0.582704                 0.160369   \n",
              "Jakarta              0.336184             0.590708                 0.169873   \n",
              "Jogja                0.333555             0.594469                 0.158614   \n",
              "Solo                 0.337932             0.604679                 0.156969   \n",
              "Surabaya             0.329668             0.585566                 0.168533   \n",
              "\n",
              "          Produk_Kredit_Dana_Tunai  Total_Kepemilikan_Produk  \\\n",
              "Area                                                           \n",
              "Bandung                   0.537516                  3.142836   \n",
              "Bogor                     0.554996                  3.140218   \n",
              "Jakarta                   0.540829                  3.166595   \n",
              "Jogja                     0.535155                  3.164612   \n",
              "Solo                      0.540492                  3.165967   \n",
              "Surabaya                  0.528589                  3.148341   \n",
              "\n",
              "          Pendapatan_Tahunan  Total_Relationship_Balance  \n",
              "Area                                                      \n",
              "Bandung           405.124910                2.454722e+08  \n",
              "Bogor             402.227540                2.499853e+08  \n",
              "Jakarta           406.478552                2.485876e+08  \n",
              "Jogja             402.694768                2.496616e+08  \n",
              "Solo              408.010198                2.507478e+08  \n",
              "Surabaya          409.074370                2.523277e+08  "
            ]
          },
          "execution_count": 17,
          "metadata": {},
          "output_type": "execute_result"
        }
      ],
      "source": [
        "data.groupby('Area')[data.select_dtypes(exclude=['object']).columns].mean()"
      ]
    },
    {
      "cell_type": "code",
      "execution_count": 18,
      "metadata": {
        "colab": {
          "base_uri": "https://localhost:8080/"
        },
        "id": "GFyI38Cio2-e",
        "outputId": "a02ab6ca-41f0-493e-b517-4760a87c6983"
      },
      "outputs": [
        {
          "name": "stdout",
          "output_type": "stream",
          "text": [
            "    Jalur_Pembukaan  Number of Cust\n",
            "0  Aplikasi Digital            6216\n",
            "1            Cabang            5856\n",
            "2  Internet Banking            5795\n",
            "3     Telemarketing           10262\n"
          ]
        }
      ],
      "source": [
        "# Distirbution Cust Bases on Jalur_Pembukaan\n",
        "way = data.groupby('Jalur_Pembukaan')['GCIF'].count().reset_index()\n",
        "way.columns=['Jalur_Pembukaan','Number of Cust']\n",
        "print(way)"
      ]
    },
    {
      "cell_type": "markdown",
      "metadata": {
        "id": "XxzBhLZI6dCD"
      },
      "source": [
        "**INSIGHT**\n",
        "\n",
        "Mostly customers join through Telemarketing Program. There is the reason for this project focus on the Telemarketing strategy only."
      ]
    },
    {
      "cell_type": "code",
      "execution_count": 19,
      "metadata": {
        "colab": {
          "base_uri": "https://localhost:8080/"
        },
        "id": "Fr9Yc3ts6qra",
        "outputId": "d734c24a-bdab-4892-c255-d7c7e12b1992"
      },
      "outputs": [
        {
          "data": {
            "text/html": [
              "<div>\n",
              "<style scoped>\n",
              "    .dataframe tbody tr th:only-of-type {\n",
              "        vertical-align: middle;\n",
              "    }\n",
              "\n",
              "    .dataframe tbody tr th {\n",
              "        vertical-align: top;\n",
              "    }\n",
              "\n",
              "    .dataframe thead th {\n",
              "        text-align: right;\n",
              "    }\n",
              "</style>\n",
              "<table border=\"1\" class=\"dataframe\">\n",
              "  <thead>\n",
              "    <tr style=\"text-align: right;\">\n",
              "      <th></th>\n",
              "      <th>Usia</th>\n",
              "      <th>Jumlah_Anak</th>\n",
              "      <th>Produk_Tabungan</th>\n",
              "      <th>Produk_Deposito</th>\n",
              "      <th>Produk_Kartu_Kredit</th>\n",
              "      <th>Produk_Kredit_Rumah</th>\n",
              "      <th>Produk_Kredit_Kendaraan</th>\n",
              "      <th>Produk_Kredit_Dana_Tunai</th>\n",
              "      <th>Total_Kepemilikan_Produk</th>\n",
              "      <th>Pendapatan_Tahunan</th>\n",
              "      <th>Total_Relationship_Balance</th>\n",
              "    </tr>\n",
              "    <tr>\n",
              "      <th>Jalur_Pembukaan</th>\n",
              "      <th></th>\n",
              "      <th></th>\n",
              "      <th></th>\n",
              "      <th></th>\n",
              "      <th></th>\n",
              "      <th></th>\n",
              "      <th></th>\n",
              "      <th></th>\n",
              "      <th></th>\n",
              "      <th></th>\n",
              "      <th></th>\n",
              "    </tr>\n",
              "  </thead>\n",
              "  <tbody>\n",
              "    <tr>\n",
              "      <th>Aplikasi Digital</th>\n",
              "      <td>42.442089</td>\n",
              "      <td>1.292149</td>\n",
              "      <td>0.930180</td>\n",
              "      <td>0.598456</td>\n",
              "      <td>0.323681</td>\n",
              "      <td>0.593147</td>\n",
              "      <td>0.165541</td>\n",
              "      <td>0.535714</td>\n",
              "      <td>3.146718</td>\n",
              "      <td>405.278314</td>\n",
              "      <td>2.489950e+08</td>\n",
              "    </tr>\n",
              "    <tr>\n",
              "      <th>Cabang</th>\n",
              "      <td>42.560627</td>\n",
              "      <td>1.308743</td>\n",
              "      <td>0.924180</td>\n",
              "      <td>0.610143</td>\n",
              "      <td>0.325478</td>\n",
              "      <td>0.583675</td>\n",
              "      <td>0.153518</td>\n",
              "      <td>0.544740</td>\n",
              "      <td>3.141735</td>\n",
              "      <td>409.923156</td>\n",
              "      <td>2.456661e+08</td>\n",
              "    </tr>\n",
              "    <tr>\n",
              "      <th>Internet Banking</th>\n",
              "      <td>42.723992</td>\n",
              "      <td>1.302502</td>\n",
              "      <td>0.928387</td>\n",
              "      <td>0.597929</td>\n",
              "      <td>0.347368</td>\n",
              "      <td>0.598965</td>\n",
              "      <td>0.169802</td>\n",
              "      <td>0.531493</td>\n",
              "      <td>3.173943</td>\n",
              "      <td>406.593270</td>\n",
              "      <td>2.517532e+08</td>\n",
              "    </tr>\n",
              "    <tr>\n",
              "      <th>Telemarketing</th>\n",
              "      <td>42.676514</td>\n",
              "      <td>1.300526</td>\n",
              "      <td>0.923309</td>\n",
              "      <td>0.606412</td>\n",
              "      <td>0.334730</td>\n",
              "      <td>0.590821</td>\n",
              "      <td>0.165952</td>\n",
              "      <td>0.538589</td>\n",
              "      <td>3.159813</td>\n",
              "      <td>404.674527</td>\n",
              "      <td>2.494725e+08</td>\n",
              "    </tr>\n",
              "  </tbody>\n",
              "</table>\n",
              "</div>"
            ],
            "text/plain": [
              "                       Usia  Jumlah_Anak  Produk_Tabungan  Produk_Deposito  \\\n",
              "Jalur_Pembukaan                                                              \n",
              "Aplikasi Digital  42.442089     1.292149         0.930180         0.598456   \n",
              "Cabang            42.560627     1.308743         0.924180         0.610143   \n",
              "Internet Banking  42.723992     1.302502         0.928387         0.597929   \n",
              "Telemarketing     42.676514     1.300526         0.923309         0.606412   \n",
              "\n",
              "                  Produk_Kartu_Kredit  Produk_Kredit_Rumah  \\\n",
              "Jalur_Pembukaan                                              \n",
              "Aplikasi Digital             0.323681             0.593147   \n",
              "Cabang                       0.325478             0.583675   \n",
              "Internet Banking             0.347368             0.598965   \n",
              "Telemarketing                0.334730             0.590821   \n",
              "\n",
              "                  Produk_Kredit_Kendaraan  Produk_Kredit_Dana_Tunai  \\\n",
              "Jalur_Pembukaan                                                       \n",
              "Aplikasi Digital                 0.165541                  0.535714   \n",
              "Cabang                           0.153518                  0.544740   \n",
              "Internet Banking                 0.169802                  0.531493   \n",
              "Telemarketing                    0.165952                  0.538589   \n",
              "\n",
              "                  Total_Kepemilikan_Produk  Pendapatan_Tahunan  \\\n",
              "Jalur_Pembukaan                                                  \n",
              "Aplikasi Digital                  3.146718          405.278314   \n",
              "Cabang                            3.141735          409.923156   \n",
              "Internet Banking                  3.173943          406.593270   \n",
              "Telemarketing                     3.159813          404.674527   \n",
              "\n",
              "                  Total_Relationship_Balance  \n",
              "Jalur_Pembukaan                               \n",
              "Aplikasi Digital                2.489950e+08  \n",
              "Cabang                          2.456661e+08  \n",
              "Internet Banking                2.517532e+08  \n",
              "Telemarketing                   2.494725e+08  "
            ]
          },
          "execution_count": 19,
          "metadata": {},
          "output_type": "execute_result"
        }
      ],
      "source": [
        "data.groupby('Jalur_Pembukaan')[data.select_dtypes(exclude=['object']).columns].mean()"
      ]
    },
    {
      "cell_type": "code",
      "execution_count": 20,
      "metadata": {
        "colab": {
          "base_uri": "https://localhost:8080/"
        },
        "id": "IzV4YKDd8Cb3",
        "outputId": "856a0003-ccd1-409b-89fa-e3578c3ff004"
      },
      "outputs": [
        {
          "name": "stdout",
          "output_type": "stream",
          "text": [
            "       Vintage  Number of Cust\n",
            "0  2 - 3 Tahun           13953\n",
            "1    < 1 Tahun            9278\n",
            "2    > 4 Tahun            4898\n"
          ]
        }
      ],
      "source": [
        "# Distribution Cust Based on Vinatge\n",
        "vintage= data.groupby('Vintage')['GCIF'].count().reset_index()\n",
        "vintage.columns=['Vintage','Number of Cust']\n",
        "print(vintage)"
      ]
    },
    {
      "cell_type": "code",
      "execution_count": 21,
      "metadata": {
        "colab": {
          "base_uri": "https://localhost:8080/"
        },
        "id": "vVDNlEQc9eD2",
        "outputId": "94ca9e39-0fdf-4abd-e44a-3458fbabd33d"
      },
      "outputs": [
        {
          "data": {
            "text/html": [
              "<div>\n",
              "<style scoped>\n",
              "    .dataframe tbody tr th:only-of-type {\n",
              "        vertical-align: middle;\n",
              "    }\n",
              "\n",
              "    .dataframe tbody tr th {\n",
              "        vertical-align: top;\n",
              "    }\n",
              "\n",
              "    .dataframe thead th {\n",
              "        text-align: right;\n",
              "    }\n",
              "</style>\n",
              "<table border=\"1\" class=\"dataframe\">\n",
              "  <thead>\n",
              "    <tr style=\"text-align: right;\">\n",
              "      <th></th>\n",
              "      <th>Usia</th>\n",
              "      <th>Jumlah_Anak</th>\n",
              "      <th>Produk_Tabungan</th>\n",
              "      <th>Produk_Deposito</th>\n",
              "      <th>Produk_Kartu_Kredit</th>\n",
              "      <th>Produk_Kredit_Rumah</th>\n",
              "      <th>Produk_Kredit_Kendaraan</th>\n",
              "      <th>Produk_Kredit_Dana_Tunai</th>\n",
              "      <th>Total_Kepemilikan_Produk</th>\n",
              "      <th>Pendapatan_Tahunan</th>\n",
              "      <th>Total_Relationship_Balance</th>\n",
              "    </tr>\n",
              "    <tr>\n",
              "      <th>Vintage</th>\n",
              "      <th></th>\n",
              "      <th></th>\n",
              "      <th></th>\n",
              "      <th></th>\n",
              "      <th></th>\n",
              "      <th></th>\n",
              "      <th></th>\n",
              "      <th></th>\n",
              "      <th></th>\n",
              "      <th></th>\n",
              "      <th></th>\n",
              "    </tr>\n",
              "  </thead>\n",
              "  <tbody>\n",
              "    <tr>\n",
              "      <th>2 - 3 Tahun</th>\n",
              "      <td>42.578850</td>\n",
              "      <td>1.291694</td>\n",
              "      <td>0.927256</td>\n",
              "      <td>0.607755</td>\n",
              "      <td>0.328531</td>\n",
              "      <td>0.589336</td>\n",
              "      <td>0.163764</td>\n",
              "      <td>0.539311</td>\n",
              "      <td>3.155952</td>\n",
              "      <td>407.679639</td>\n",
              "      <td>2.489367e+08</td>\n",
              "    </tr>\n",
              "    <tr>\n",
              "      <th>&lt; 1 Tahun</th>\n",
              "      <td>42.689341</td>\n",
              "      <td>1.294676</td>\n",
              "      <td>0.931235</td>\n",
              "      <td>0.592585</td>\n",
              "      <td>0.336495</td>\n",
              "      <td>0.594201</td>\n",
              "      <td>0.164798</td>\n",
              "      <td>0.523389</td>\n",
              "      <td>3.142703</td>\n",
              "      <td>395.611231</td>\n",
              "      <td>2.486679e+08</td>\n",
              "    </tr>\n",
              "    <tr>\n",
              "      <th>&gt; 4 Tahun</th>\n",
              "      <td>42.571866</td>\n",
              "      <td>1.338301</td>\n",
              "      <td>0.912822</td>\n",
              "      <td>0.613107</td>\n",
              "      <td>0.338914</td>\n",
              "      <td>0.592691</td>\n",
              "      <td>0.163536</td>\n",
              "      <td>0.560637</td>\n",
              "      <td>3.181707</td>\n",
              "      <td>422.593508</td>\n",
              "      <td>2.500646e+08</td>\n",
              "    </tr>\n",
              "  </tbody>\n",
              "</table>\n",
              "</div>"
            ],
            "text/plain": [
              "                  Usia  Jumlah_Anak  Produk_Tabungan  Produk_Deposito  \\\n",
              "Vintage                                                                 \n",
              "2 - 3 Tahun  42.578850     1.291694         0.927256         0.607755   \n",
              "< 1 Tahun    42.689341     1.294676         0.931235         0.592585   \n",
              "> 4 Tahun    42.571866     1.338301         0.912822         0.613107   \n",
              "\n",
              "             Produk_Kartu_Kredit  Produk_Kredit_Rumah  \\\n",
              "Vintage                                                 \n",
              "2 - 3 Tahun             0.328531             0.589336   \n",
              "< 1 Tahun               0.336495             0.594201   \n",
              "> 4 Tahun               0.338914             0.592691   \n",
              "\n",
              "             Produk_Kredit_Kendaraan  Produk_Kredit_Dana_Tunai  \\\n",
              "Vintage                                                          \n",
              "2 - 3 Tahun                 0.163764                  0.539311   \n",
              "< 1 Tahun                   0.164798                  0.523389   \n",
              "> 4 Tahun                   0.163536                  0.560637   \n",
              "\n",
              "             Total_Kepemilikan_Produk  Pendapatan_Tahunan  \\\n",
              "Vintage                                                     \n",
              "2 - 3 Tahun                  3.155952          407.679639   \n",
              "< 1 Tahun                    3.142703          395.611231   \n",
              "> 4 Tahun                    3.181707          422.593508   \n",
              "\n",
              "             Total_Relationship_Balance  \n",
              "Vintage                                  \n",
              "2 - 3 Tahun                2.489367e+08  \n",
              "< 1 Tahun                  2.486679e+08  \n",
              "> 4 Tahun                  2.500646e+08  "
            ]
          },
          "execution_count": 21,
          "metadata": {},
          "output_type": "execute_result"
        }
      ],
      "source": [
        "data.groupby('Vintage')[data.select_dtypes(exclude=['object']).columns].mean()"
      ]
    },
    {
      "cell_type": "markdown",
      "metadata": {
        "id": "NDZ6bKSB8gHF"
      },
      "source": [
        "**INSIGHT**\n",
        "\n",
        "Mostly have been customers for 2-3 tahun."
      ]
    },
    {
      "cell_type": "code",
      "execution_count": 22,
      "metadata": {
        "colab": {
          "base_uri": "https://localhost:8080/"
        },
        "id": "MHtVyyBr9tRb",
        "outputId": "7036dd9e-56e4-4172-8fff-151497bec6d5"
      },
      "outputs": [
        {
          "name": "stdout",
          "output_type": "stream",
          "text": [
            "          Status  Number of Cust\n",
            "0  Belum Menikah            8168\n",
            "1          Cerai            4077\n",
            "2     Janda/Duda            4045\n",
            "3        Menikah           11839\n"
          ]
        }
      ],
      "source": [
        "# Distribution Based on Status Pernikahan\n",
        "status= data.groupby('Status_Perkawinan')['GCIF'].count().reset_index()\n",
        "status.columns=['Status','Number of Cust']\n",
        "print(status)"
      ]
    },
    {
      "cell_type": "markdown",
      "metadata": {
        "id": "wMmGd9lN_bwf"
      },
      "source": [
        "**INSIGHT**\n",
        "\n",
        "Mostly customers have been maried."
      ]
    },
    {
      "cell_type": "code",
      "execution_count": 23,
      "metadata": {
        "colab": {
          "base_uri": "https://localhost:8080/"
        },
        "id": "9wvzBPxj-TIt",
        "outputId": "6f793215-a9b6-4e07-955a-2228ab3e37d3"
      },
      "outputs": [
        {
          "data": {
            "text/html": [
              "<div>\n",
              "<style scoped>\n",
              "    .dataframe tbody tr th:only-of-type {\n",
              "        vertical-align: middle;\n",
              "    }\n",
              "\n",
              "    .dataframe tbody tr th {\n",
              "        vertical-align: top;\n",
              "    }\n",
              "\n",
              "    .dataframe thead th {\n",
              "        text-align: right;\n",
              "    }\n",
              "</style>\n",
              "<table border=\"1\" class=\"dataframe\">\n",
              "  <thead>\n",
              "    <tr style=\"text-align: right;\">\n",
              "      <th></th>\n",
              "      <th>Usia</th>\n",
              "      <th>Jumlah_Anak</th>\n",
              "      <th>Produk_Tabungan</th>\n",
              "      <th>Produk_Deposito</th>\n",
              "      <th>Produk_Kartu_Kredit</th>\n",
              "      <th>Produk_Kredit_Rumah</th>\n",
              "      <th>Produk_Kredit_Kendaraan</th>\n",
              "      <th>Produk_Kredit_Dana_Tunai</th>\n",
              "      <th>Total_Kepemilikan_Produk</th>\n",
              "      <th>Pendapatan_Tahunan</th>\n",
              "      <th>Total_Relationship_Balance</th>\n",
              "    </tr>\n",
              "    <tr>\n",
              "      <th>Status_Perkawinan</th>\n",
              "      <th></th>\n",
              "      <th></th>\n",
              "      <th></th>\n",
              "      <th></th>\n",
              "      <th></th>\n",
              "      <th></th>\n",
              "      <th></th>\n",
              "      <th></th>\n",
              "      <th></th>\n",
              "      <th></th>\n",
              "      <th></th>\n",
              "    </tr>\n",
              "  </thead>\n",
              "  <tbody>\n",
              "    <tr>\n",
              "      <th>Belum Menikah</th>\n",
              "      <td>39.571621</td>\n",
              "      <td>0.000000</td>\n",
              "      <td>1.000000</td>\n",
              "      <td>0.596107</td>\n",
              "      <td>0.333374</td>\n",
              "      <td>0.331660</td>\n",
              "      <td>0.160749</td>\n",
              "      <td>0.499633</td>\n",
              "      <td>2.921523</td>\n",
              "      <td>420.636141</td>\n",
              "      <td>2.423448e+08</td>\n",
              "    </tr>\n",
              "    <tr>\n",
              "      <th>Cerai</th>\n",
              "      <td>50.226883</td>\n",
              "      <td>2.003679</td>\n",
              "      <td>1.000000</td>\n",
              "      <td>0.607555</td>\n",
              "      <td>0.337258</td>\n",
              "      <td>0.509688</td>\n",
              "      <td>0.172676</td>\n",
              "      <td>0.389747</td>\n",
              "      <td>3.016924</td>\n",
              "      <td>426.269070</td>\n",
              "      <td>2.393499e+08</td>\n",
              "    </tr>\n",
              "    <tr>\n",
              "      <th>Janda/Duda</th>\n",
              "      <td>NaN</td>\n",
              "      <td>1.201978</td>\n",
              "      <td>1.000000</td>\n",
              "      <td>0.609889</td>\n",
              "      <td>0.337948</td>\n",
              "      <td>0.597281</td>\n",
              "      <td>0.161187</td>\n",
              "      <td>0.401731</td>\n",
              "      <td>3.108035</td>\n",
              "      <td>289.648208</td>\n",
              "      <td>2.474754e+08</td>\n",
              "    </tr>\n",
              "    <tr>\n",
              "      <th>Menikah</th>\n",
              "      <td>42.084467</td>\n",
              "      <td>1.989948</td>\n",
              "      <td>0.824309</td>\n",
              "      <td>0.605457</td>\n",
              "      <td>0.329504</td>\n",
              "      <td>0.797027</td>\n",
              "      <td>0.164372</td>\n",
              "      <td>0.661542</td>\n",
              "      <td>3.382211</td>\n",
              "      <td>429.378833</td>\n",
              "      <td>2.575412e+08</td>\n",
              "    </tr>\n",
              "  </tbody>\n",
              "</table>\n",
              "</div>"
            ],
            "text/plain": [
              "                        Usia  Jumlah_Anak  Produk_Tabungan  Produk_Deposito  \\\n",
              "Status_Perkawinan                                                             \n",
              "Belum Menikah      39.571621     0.000000         1.000000         0.596107   \n",
              "Cerai              50.226883     2.003679         1.000000         0.607555   \n",
              "Janda/Duda               NaN     1.201978         1.000000         0.609889   \n",
              "Menikah            42.084467     1.989948         0.824309         0.605457   \n",
              "\n",
              "                   Produk_Kartu_Kredit  Produk_Kredit_Rumah  \\\n",
              "Status_Perkawinan                                             \n",
              "Belum Menikah                 0.333374             0.331660   \n",
              "Cerai                         0.337258             0.509688   \n",
              "Janda/Duda                    0.337948             0.597281   \n",
              "Menikah                       0.329504             0.797027   \n",
              "\n",
              "                   Produk_Kredit_Kendaraan  Produk_Kredit_Dana_Tunai  \\\n",
              "Status_Perkawinan                                                      \n",
              "Belum Menikah                     0.160749                  0.499633   \n",
              "Cerai                             0.172676                  0.389747   \n",
              "Janda/Duda                        0.161187                  0.401731   \n",
              "Menikah                           0.164372                  0.661542   \n",
              "\n",
              "                   Total_Kepemilikan_Produk  Pendapatan_Tahunan  \\\n",
              "Status_Perkawinan                                                 \n",
              "Belum Menikah                      2.921523          420.636141   \n",
              "Cerai                              3.016924          426.269070   \n",
              "Janda/Duda                         3.108035          289.648208   \n",
              "Menikah                            3.382211          429.378833   \n",
              "\n",
              "                   Total_Relationship_Balance  \n",
              "Status_Perkawinan                              \n",
              "Belum Menikah                    2.423448e+08  \n",
              "Cerai                            2.393499e+08  \n",
              "Janda/Duda                       2.474754e+08  \n",
              "Menikah                          2.575412e+08  "
            ]
          },
          "execution_count": 23,
          "metadata": {},
          "output_type": "execute_result"
        }
      ],
      "source": [
        "data.groupby('Status_Perkawinan')[data.select_dtypes(exclude=['object']).columns].mean()"
      ]
    },
    {
      "cell_type": "code",
      "execution_count": 24,
      "metadata": {
        "colab": {
          "base_uri": "https://localhost:8080/"
        },
        "id": "4Q-w182u-mRG",
        "outputId": "433608f0-bce7-4170-e113-e1ec1d87212c"
      },
      "outputs": [
        {
          "name": "stdout",
          "output_type": "stream",
          "text": [
            "              Education  Number of Cust\n",
            "0                Doktor            2605\n",
            "1              Magister            2468\n",
            "2                    SD            5229\n",
            "3                   SMA            5085\n",
            "4                   SMP            2538\n",
            "5               Sarjana            7691\n",
            "6  Tidak Sekolah Formal            2513\n"
          ]
        }
      ],
      "source": [
        "# Distribution Based on Pendidikan\n",
        "edu= data.groupby('Pendidikan')['GCIF'].count().reset_index()\n",
        "edu.columns=['Education','Number of Cust']\n",
        "print(edu)"
      ]
    },
    {
      "cell_type": "markdown",
      "metadata": {
        "id": "AFobBpn7_kxq"
      },
      "source": [
        "**INSIGHT**\n",
        "\n",
        "Mostly customers have been bachelor degree."
      ]
    },
    {
      "cell_type": "code",
      "execution_count": 25,
      "metadata": {
        "colab": {
          "base_uri": "https://localhost:8080/"
        },
        "id": "sZhbLDr5_Bgo",
        "outputId": "4296dfc0-3194-48e7-efd4-92596ccd14ec"
      },
      "outputs": [
        {
          "data": {
            "text/html": [
              "<div>\n",
              "<style scoped>\n",
              "    .dataframe tbody tr th:only-of-type {\n",
              "        vertical-align: middle;\n",
              "    }\n",
              "\n",
              "    .dataframe tbody tr th {\n",
              "        vertical-align: top;\n",
              "    }\n",
              "\n",
              "    .dataframe thead th {\n",
              "        text-align: right;\n",
              "    }\n",
              "</style>\n",
              "<table border=\"1\" class=\"dataframe\">\n",
              "  <thead>\n",
              "    <tr style=\"text-align: right;\">\n",
              "      <th></th>\n",
              "      <th>Usia</th>\n",
              "      <th>Jumlah_Anak</th>\n",
              "      <th>Produk_Tabungan</th>\n",
              "      <th>Produk_Deposito</th>\n",
              "      <th>Produk_Kartu_Kredit</th>\n",
              "      <th>Produk_Kredit_Rumah</th>\n",
              "      <th>Produk_Kredit_Kendaraan</th>\n",
              "      <th>Produk_Kredit_Dana_Tunai</th>\n",
              "      <th>Total_Kepemilikan_Produk</th>\n",
              "      <th>Pendapatan_Tahunan</th>\n",
              "      <th>Total_Relationship_Balance</th>\n",
              "    </tr>\n",
              "    <tr>\n",
              "      <th>Pendidikan</th>\n",
              "      <th></th>\n",
              "      <th></th>\n",
              "      <th></th>\n",
              "      <th></th>\n",
              "      <th></th>\n",
              "      <th></th>\n",
              "      <th></th>\n",
              "      <th></th>\n",
              "      <th></th>\n",
              "      <th></th>\n",
              "      <th></th>\n",
              "    </tr>\n",
              "  </thead>\n",
              "  <tbody>\n",
              "    <tr>\n",
              "      <th>Doktor</th>\n",
              "      <td>41.941468</td>\n",
              "      <td>1.280998</td>\n",
              "      <td>0.929750</td>\n",
              "      <td>0.593474</td>\n",
              "      <td>0.345489</td>\n",
              "      <td>0.602303</td>\n",
              "      <td>0.174280</td>\n",
              "      <td>0.534741</td>\n",
              "      <td>3.180038</td>\n",
              "      <td>401.396545</td>\n",
              "      <td>2.461291e+08</td>\n",
              "    </tr>\n",
              "    <tr>\n",
              "      <th>Magister</th>\n",
              "      <td>42.659112</td>\n",
              "      <td>1.286467</td>\n",
              "      <td>0.927472</td>\n",
              "      <td>0.605754</td>\n",
              "      <td>0.352917</td>\n",
              "      <td>0.592788</td>\n",
              "      <td>0.156807</td>\n",
              "      <td>0.558752</td>\n",
              "      <td>3.194489</td>\n",
              "      <td>402.770665</td>\n",
              "      <td>2.518470e+08</td>\n",
              "    </tr>\n",
              "    <tr>\n",
              "      <th>SD</th>\n",
              "      <td>42.842732</td>\n",
              "      <td>1.272901</td>\n",
              "      <td>0.924651</td>\n",
              "      <td>0.603748</td>\n",
              "      <td>0.335437</td>\n",
              "      <td>0.585389</td>\n",
              "      <td>0.165232</td>\n",
              "      <td>0.538918</td>\n",
              "      <td>3.153375</td>\n",
              "      <td>408.624402</td>\n",
              "      <td>2.487423e+08</td>\n",
              "    </tr>\n",
              "    <tr>\n",
              "      <th>SMA</th>\n",
              "      <td>42.808137</td>\n",
              "      <td>1.304621</td>\n",
              "      <td>0.922517</td>\n",
              "      <td>0.609833</td>\n",
              "      <td>0.332350</td>\n",
              "      <td>0.589971</td>\n",
              "      <td>0.161652</td>\n",
              "      <td>0.523304</td>\n",
              "      <td>3.139626</td>\n",
              "      <td>403.406096</td>\n",
              "      <td>2.513348e+08</td>\n",
              "    </tr>\n",
              "    <tr>\n",
              "      <th>SMP</th>\n",
              "      <td>42.837314</td>\n",
              "      <td>1.352640</td>\n",
              "      <td>0.923956</td>\n",
              "      <td>0.597715</td>\n",
              "      <td>0.325453</td>\n",
              "      <td>0.602837</td>\n",
              "      <td>0.160757</td>\n",
              "      <td>0.544917</td>\n",
              "      <td>3.155634</td>\n",
              "      <td>410.273050</td>\n",
              "      <td>2.478497e+08</td>\n",
              "    </tr>\n",
              "    <tr>\n",
              "      <th>Sarjana</th>\n",
              "      <td>42.458725</td>\n",
              "      <td>1.313223</td>\n",
              "      <td>0.929138</td>\n",
              "      <td>0.604993</td>\n",
              "      <td>0.325055</td>\n",
              "      <td>0.589780</td>\n",
              "      <td>0.167078</td>\n",
              "      <td>0.538812</td>\n",
              "      <td>3.154856</td>\n",
              "      <td>408.991549</td>\n",
              "      <td>2.500305e+08</td>\n",
              "    </tr>\n",
              "    <tr>\n",
              "      <th>Tidak Sekolah Formal</th>\n",
              "      <td>42.607689</td>\n",
              "      <td>1.295265</td>\n",
              "      <td>0.923597</td>\n",
              "      <td>0.601671</td>\n",
              "      <td>0.328293</td>\n",
              "      <td>0.588938</td>\n",
              "      <td>0.157183</td>\n",
              "      <td>0.536809</td>\n",
              "      <td>3.136490</td>\n",
              "      <td>403.572622</td>\n",
              "      <td>2.434971e+08</td>\n",
              "    </tr>\n",
              "  </tbody>\n",
              "</table>\n",
              "</div>"
            ],
            "text/plain": [
              "                           Usia  Jumlah_Anak  Produk_Tabungan  \\\n",
              "Pendidikan                                                      \n",
              "Doktor                41.941468     1.280998         0.929750   \n",
              "Magister              42.659112     1.286467         0.927472   \n",
              "SD                    42.842732     1.272901         0.924651   \n",
              "SMA                   42.808137     1.304621         0.922517   \n",
              "SMP                   42.837314     1.352640         0.923956   \n",
              "Sarjana               42.458725     1.313223         0.929138   \n",
              "Tidak Sekolah Formal  42.607689     1.295265         0.923597   \n",
              "\n",
              "                      Produk_Deposito  Produk_Kartu_Kredit  \\\n",
              "Pendidikan                                                   \n",
              "Doktor                       0.593474             0.345489   \n",
              "Magister                     0.605754             0.352917   \n",
              "SD                           0.603748             0.335437   \n",
              "SMA                          0.609833             0.332350   \n",
              "SMP                          0.597715             0.325453   \n",
              "Sarjana                      0.604993             0.325055   \n",
              "Tidak Sekolah Formal         0.601671             0.328293   \n",
              "\n",
              "                      Produk_Kredit_Rumah  Produk_Kredit_Kendaraan  \\\n",
              "Pendidikan                                                           \n",
              "Doktor                           0.602303                 0.174280   \n",
              "Magister                         0.592788                 0.156807   \n",
              "SD                               0.585389                 0.165232   \n",
              "SMA                              0.589971                 0.161652   \n",
              "SMP                              0.602837                 0.160757   \n",
              "Sarjana                          0.589780                 0.167078   \n",
              "Tidak Sekolah Formal             0.588938                 0.157183   \n",
              "\n",
              "                      Produk_Kredit_Dana_Tunai  Total_Kepemilikan_Produk  \\\n",
              "Pendidikan                                                                 \n",
              "Doktor                                0.534741                  3.180038   \n",
              "Magister                              0.558752                  3.194489   \n",
              "SD                                    0.538918                  3.153375   \n",
              "SMA                                   0.523304                  3.139626   \n",
              "SMP                                   0.544917                  3.155634   \n",
              "Sarjana                               0.538812                  3.154856   \n",
              "Tidak Sekolah Formal                  0.536809                  3.136490   \n",
              "\n",
              "                      Pendapatan_Tahunan  Total_Relationship_Balance  \n",
              "Pendidikan                                                            \n",
              "Doktor                        401.396545                2.461291e+08  \n",
              "Magister                      402.770665                2.518470e+08  \n",
              "SD                            408.624402                2.487423e+08  \n",
              "SMA                           403.406096                2.513348e+08  \n",
              "SMP                           410.273050                2.478497e+08  \n",
              "Sarjana                       408.991549                2.500305e+08  \n",
              "Tidak Sekolah Formal          403.572622                2.434971e+08  "
            ]
          },
          "execution_count": 25,
          "metadata": {},
          "output_type": "execute_result"
        }
      ],
      "source": [
        "data.groupby('Pendidikan')[data.select_dtypes(exclude='object').columns].mean()"
      ]
    },
    {
      "cell_type": "markdown",
      "metadata": {
        "id": "j38bQnJU_xf7"
      },
      "source": [
        "# **Data Preparation**"
      ]
    },
    {
      "cell_type": "markdown",
      "metadata": {
        "id": "dGklzjTP_53a"
      },
      "source": [
        "## Duplicate and Missing Data Check"
      ]
    },
    {
      "cell_type": "code",
      "execution_count": 26,
      "metadata": {
        "colab": {
          "base_uri": "https://localhost:8080/"
        },
        "id": "8wrJYJ0s_z-n",
        "outputId": "c369c466-d1ce-47bc-9ea5-befda595272b"
      },
      "outputs": [
        {
          "data": {
            "text/plain": [
              "0"
            ]
          },
          "execution_count": 26,
          "metadata": {},
          "output_type": "execute_result"
        }
      ],
      "source": [
        "# Check duplicate\n",
        "data.duplicated().sum()"
      ]
    },
    {
      "cell_type": "code",
      "execution_count": 27,
      "metadata": {
        "colab": {
          "base_uri": "https://localhost:8080/"
        },
        "id": "Qe2hvwXaAy6k",
        "outputId": "f756491b-f71f-4b0f-811a-20169207cc85"
      },
      "outputs": [
        {
          "data": {
            "text/plain": [
              "GCIF                             0\n",
              "Area                             0\n",
              "Jalur_Pembukaan                  0\n",
              "Vintage                          0\n",
              "Usia                          4045\n",
              "Jenis_Kelamin                    0\n",
              "Status_Perkawinan                0\n",
              "Jumlah_Anak                      0\n",
              "Pendidikan                       0\n",
              "Produk_Tabungan                  0\n",
              "Produk_Deposito                  0\n",
              "Produk_Kartu_Kredit              0\n",
              "Produk_Kredit_Rumah              0\n",
              "Produk_Kredit_Kendaraan          0\n",
              "Produk_Kredit_Dana_Tunai         0\n",
              "Total_Kepemilikan_Produk         0\n",
              "Pendapatan_Tahunan               0\n",
              "Total_Relationship_Balance       0\n",
              "dtype: int64"
            ]
          },
          "execution_count": 27,
          "metadata": {},
          "output_type": "execute_result"
        }
      ],
      "source": [
        "# Cek Missing Data\n",
        "data.isnull().sum()"
      ]
    },
    {
      "cell_type": "code",
      "execution_count": 28,
      "metadata": {
        "colab": {
          "base_uri": "https://localhost:8080/"
        },
        "id": "LBmV-mW8BG-k",
        "outputId": "bd82dfdc-b255-42d0-a750-6c48171471f2"
      },
      "outputs": [
        {
          "data": {
            "text/plain": [
              "GCIF                          0\n",
              "Area                          0\n",
              "Jalur_Pembukaan               0\n",
              "Vintage                       0\n",
              "Usia                          0\n",
              "Jenis_Kelamin                 0\n",
              "Status_Perkawinan             0\n",
              "Jumlah_Anak                   0\n",
              "Pendidikan                    0\n",
              "Produk_Tabungan               0\n",
              "Produk_Deposito               0\n",
              "Produk_Kartu_Kredit           0\n",
              "Produk_Kredit_Rumah           0\n",
              "Produk_Kredit_Kendaraan       0\n",
              "Produk_Kredit_Dana_Tunai      0\n",
              "Total_Kepemilikan_Produk      0\n",
              "Pendapatan_Tahunan            0\n",
              "Total_Relationship_Balance    0\n",
              "dtype: int64"
            ]
          },
          "execution_count": 28,
          "metadata": {},
          "output_type": "execute_result"
        }
      ],
      "source": [
        "# Deletion Missing Data\n",
        "data= data.dropna()\n",
        "data.isnull().sum()"
      ]
    },
    {
      "cell_type": "markdown",
      "metadata": {
        "id": "byea_b-ccxDi"
      },
      "source": [
        "## Outlier Check"
      ]
    },
    {
      "cell_type": "code",
      "execution_count": 29,
      "metadata": {
        "colab": {
          "base_uri": "https://localhost:8080/"
        },
        "id": "_VicTXdLgsqh",
        "outputId": "5350dab4-7486-486b-cb72-01da7933913c"
      },
      "outputs": [
        {
          "data": {
            "text/plain": [
              "GCIF                          24084\n",
              "Area                          24084\n",
              "Jalur_Pembukaan               24084\n",
              "Vintage                       24084\n",
              "Usia                          24084\n",
              "Jenis_Kelamin                 24084\n",
              "Status_Perkawinan             24084\n",
              "Jumlah_Anak                   24084\n",
              "Pendidikan                    24084\n",
              "Produk_Tabungan               24084\n",
              "Produk_Deposito               24084\n",
              "Produk_Kartu_Kredit           24084\n",
              "Produk_Kredit_Rumah           24084\n",
              "Produk_Kredit_Kendaraan       24084\n",
              "Produk_Kredit_Dana_Tunai      24084\n",
              "Total_Kepemilikan_Produk      24084\n",
              "Pendapatan_Tahunan            24084\n",
              "Total_Relationship_Balance    24084\n",
              "dtype: int64"
            ]
          },
          "execution_count": 29,
          "metadata": {},
          "output_type": "execute_result"
        }
      ],
      "source": [
        "data.count()"
      ]
    },
    {
      "cell_type": "code",
      "execution_count": 30,
      "metadata": {
        "id": "i1PAcf01c5kC"
      },
      "outputs": [],
      "source": [
        "# Ourlier Handling with zscore\n",
        "from scipy import stats\n",
        "zscore= stats.zscore(data[['Usia','Pendapatan_Tahunan','Total_Relationship_Balance']])  # Use Numerical data only\n",
        "# filter data to remove outlier from dataset\n",
        "data= data[(zscore<3).all(axis=1)]"
      ]
    },
    {
      "cell_type": "markdown",
      "metadata": {
        "id": "5papAudJkJHE"
      },
      "source": [
        "**NOTE**\n",
        "\n",
        "Oulier data have zscore out of range between -3 and 3."
      ]
    },
    {
      "cell_type": "code",
      "execution_count": 31,
      "metadata": {
        "colab": {
          "base_uri": "https://localhost:8080/"
        },
        "id": "LahPwvbkeZjI",
        "outputId": "105cd181-805f-4367-e51d-da1f431198a6"
      },
      "outputs": [
        {
          "name": "stdout",
          "output_type": "stream",
          "text": [
            "4.080913124259092\n",
            "-1.9091609809090295\n"
          ]
        }
      ],
      "source": [
        "print(zscore.max())\n",
        "print(zscore.min())"
      ]
    },
    {
      "cell_type": "code",
      "execution_count": 32,
      "metadata": {
        "colab": {
          "base_uri": "https://localhost:8080/"
        },
        "id": "MDptMVtiioRn",
        "outputId": "14936cc1-c0ae-47ea-e257-e19df62b94cf"
      },
      "outputs": [
        {
          "data": {
            "text/plain": [
              "GCIF                          23704\n",
              "Area                          23704\n",
              "Jalur_Pembukaan               23704\n",
              "Vintage                       23704\n",
              "Usia                          23704\n",
              "Jenis_Kelamin                 23704\n",
              "Status_Perkawinan             23704\n",
              "Jumlah_Anak                   23704\n",
              "Pendidikan                    23704\n",
              "Produk_Tabungan               23704\n",
              "Produk_Deposito               23704\n",
              "Produk_Kartu_Kredit           23704\n",
              "Produk_Kredit_Rumah           23704\n",
              "Produk_Kredit_Kendaraan       23704\n",
              "Produk_Kredit_Dana_Tunai      23704\n",
              "Total_Kepemilikan_Produk      23704\n",
              "Pendapatan_Tahunan            23704\n",
              "Total_Relationship_Balance    23704\n",
              "dtype: int64"
            ]
          },
          "execution_count": 32,
          "metadata": {},
          "output_type": "execute_result"
        }
      ],
      "source": [
        "data.count()"
      ]
    },
    {
      "cell_type": "markdown",
      "metadata": {
        "id": "UIM_Vr_zlLt4"
      },
      "source": [
        "## Filtering Data for Analyze"
      ]
    },
    {
      "cell_type": "code",
      "execution_count": 33,
      "metadata": {
        "colab": {
          "base_uri": "https://localhost:8080/"
        },
        "id": "iOEHuCKWlUno",
        "outputId": "1a32d785-b51b-4f40-e477-d9efe452f9a2"
      },
      "outputs": [
        {
          "data": {
            "text/html": [
              "<div>\n",
              "<style scoped>\n",
              "    .dataframe tbody tr th:only-of-type {\n",
              "        vertical-align: middle;\n",
              "    }\n",
              "\n",
              "    .dataframe tbody tr th {\n",
              "        vertical-align: top;\n",
              "    }\n",
              "\n",
              "    .dataframe thead th {\n",
              "        text-align: right;\n",
              "    }\n",
              "</style>\n",
              "<table border=\"1\" class=\"dataframe\">\n",
              "  <thead>\n",
              "    <tr style=\"text-align: right;\">\n",
              "      <th></th>\n",
              "      <th>GCIF</th>\n",
              "      <th>Area</th>\n",
              "      <th>Jalur_Pembukaan</th>\n",
              "      <th>Vintage</th>\n",
              "      <th>Usia</th>\n",
              "      <th>Jenis_Kelamin</th>\n",
              "      <th>Status_Perkawinan</th>\n",
              "      <th>Jumlah_Anak</th>\n",
              "      <th>Pendidikan</th>\n",
              "      <th>Produk_Tabungan</th>\n",
              "      <th>Produk_Deposito</th>\n",
              "      <th>Produk_Kartu_Kredit</th>\n",
              "      <th>Produk_Kredit_Rumah</th>\n",
              "      <th>Produk_Kredit_Kendaraan</th>\n",
              "      <th>Produk_Kredit_Dana_Tunai</th>\n",
              "      <th>Total_Kepemilikan_Produk</th>\n",
              "      <th>Pendapatan_Tahunan</th>\n",
              "      <th>Total_Relationship_Balance</th>\n",
              "    </tr>\n",
              "  </thead>\n",
              "  <tbody>\n",
              "    <tr>\n",
              "      <th>1</th>\n",
              "      <td>G18528</td>\n",
              "      <td>Jakarta</td>\n",
              "      <td>Telemarketing</td>\n",
              "      <td>&lt; 1 Tahun</td>\n",
              "      <td>23.0</td>\n",
              "      <td>Laki-laki</td>\n",
              "      <td>Belum Menikah</td>\n",
              "      <td>0</td>\n",
              "      <td>Doktor</td>\n",
              "      <td>1</td>\n",
              "      <td>0</td>\n",
              "      <td>0</td>\n",
              "      <td>0</td>\n",
              "      <td>0</td>\n",
              "      <td>0</td>\n",
              "      <td>1</td>\n",
              "      <td>198</td>\n",
              "      <td>10668586</td>\n",
              "    </tr>\n",
              "    <tr>\n",
              "      <th>2</th>\n",
              "      <td>G22419</td>\n",
              "      <td>Surabaya</td>\n",
              "      <td>Telemarketing</td>\n",
              "      <td>&lt; 1 Tahun</td>\n",
              "      <td>30.0</td>\n",
              "      <td>Laki-laki</td>\n",
              "      <td>Belum Menikah</td>\n",
              "      <td>0</td>\n",
              "      <td>Doktor</td>\n",
              "      <td>1</td>\n",
              "      <td>0</td>\n",
              "      <td>0</td>\n",
              "      <td>0</td>\n",
              "      <td>0</td>\n",
              "      <td>0</td>\n",
              "      <td>1</td>\n",
              "      <td>280</td>\n",
              "      <td>299076075</td>\n",
              "    </tr>\n",
              "    <tr>\n",
              "      <th>7</th>\n",
              "      <td>G13193</td>\n",
              "      <td>Solo</td>\n",
              "      <td>Telemarketing</td>\n",
              "      <td>&lt; 1 Tahun</td>\n",
              "      <td>29.0</td>\n",
              "      <td>Laki-laki</td>\n",
              "      <td>Belum Menikah</td>\n",
              "      <td>0</td>\n",
              "      <td>Doktor</td>\n",
              "      <td>1</td>\n",
              "      <td>0</td>\n",
              "      <td>0</td>\n",
              "      <td>0</td>\n",
              "      <td>0</td>\n",
              "      <td>0</td>\n",
              "      <td>1</td>\n",
              "      <td>295</td>\n",
              "      <td>76653088</td>\n",
              "    </tr>\n",
              "    <tr>\n",
              "      <th>8</th>\n",
              "      <td>G09296</td>\n",
              "      <td>Jakarta</td>\n",
              "      <td>Telemarketing</td>\n",
              "      <td>&lt; 1 Tahun</td>\n",
              "      <td>49.0</td>\n",
              "      <td>Laki-laki</td>\n",
              "      <td>Belum Menikah</td>\n",
              "      <td>0</td>\n",
              "      <td>Doktor</td>\n",
              "      <td>1</td>\n",
              "      <td>0</td>\n",
              "      <td>0</td>\n",
              "      <td>0</td>\n",
              "      <td>0</td>\n",
              "      <td>0</td>\n",
              "      <td>1</td>\n",
              "      <td>443</td>\n",
              "      <td>247157199</td>\n",
              "    </tr>\n",
              "    <tr>\n",
              "      <th>9</th>\n",
              "      <td>G09228</td>\n",
              "      <td>Jakarta</td>\n",
              "      <td>Telemarketing</td>\n",
              "      <td>&lt; 1 Tahun</td>\n",
              "      <td>21.0</td>\n",
              "      <td>Perempuan</td>\n",
              "      <td>Belum Menikah</td>\n",
              "      <td>0</td>\n",
              "      <td>Doktor</td>\n",
              "      <td>1</td>\n",
              "      <td>0</td>\n",
              "      <td>0</td>\n",
              "      <td>0</td>\n",
              "      <td>0</td>\n",
              "      <td>0</td>\n",
              "      <td>1</td>\n",
              "      <td>257</td>\n",
              "      <td>27585562</td>\n",
              "    </tr>\n",
              "  </tbody>\n",
              "</table>\n",
              "</div>"
            ],
            "text/plain": [
              "     GCIF      Area Jalur_Pembukaan    Vintage  Usia Jenis_Kelamin  \\\n",
              "1  G18528   Jakarta   Telemarketing  < 1 Tahun  23.0     Laki-laki   \n",
              "2  G22419  Surabaya   Telemarketing  < 1 Tahun  30.0     Laki-laki   \n",
              "7  G13193      Solo   Telemarketing  < 1 Tahun  29.0     Laki-laki   \n",
              "8  G09296   Jakarta   Telemarketing  < 1 Tahun  49.0     Laki-laki   \n",
              "9  G09228   Jakarta   Telemarketing  < 1 Tahun  21.0     Perempuan   \n",
              "\n",
              "  Status_Perkawinan  Jumlah_Anak Pendidikan  Produk_Tabungan  Produk_Deposito  \\\n",
              "1     Belum Menikah            0     Doktor                1                0   \n",
              "2     Belum Menikah            0     Doktor                1                0   \n",
              "7     Belum Menikah            0     Doktor                1                0   \n",
              "8     Belum Menikah            0     Doktor                1                0   \n",
              "9     Belum Menikah            0     Doktor                1                0   \n",
              "\n",
              "   Produk_Kartu_Kredit  Produk_Kredit_Rumah  Produk_Kredit_Kendaraan  \\\n",
              "1                    0                    0                        0   \n",
              "2                    0                    0                        0   \n",
              "7                    0                    0                        0   \n",
              "8                    0                    0                        0   \n",
              "9                    0                    0                        0   \n",
              "\n",
              "   Produk_Kredit_Dana_Tunai  Total_Kepemilikan_Produk  Pendapatan_Tahunan  \\\n",
              "1                         0                         1                 198   \n",
              "2                         0                         1                 280   \n",
              "7                         0                         1                 295   \n",
              "8                         0                         1                 443   \n",
              "9                         0                         1                 257   \n",
              "\n",
              "   Total_Relationship_Balance  \n",
              "1                    10668586  \n",
              "2                   299076075  \n",
              "7                    76653088  \n",
              "8                   247157199  \n",
              "9                    27585562  "
            ]
          },
          "execution_count": 33,
          "metadata": {},
          "output_type": "execute_result"
        }
      ],
      "source": [
        "# Filter dataset to create new data for Telemarketing Only\n",
        "anal= data[data['Jalur_Pembukaan']=='Telemarketing']\n",
        "anal.head()"
      ]
    },
    {
      "cell_type": "code",
      "execution_count": 34,
      "metadata": {
        "colab": {
          "base_uri": "https://localhost:8080/"
        },
        "id": "hgaHfV78mWN4",
        "outputId": "c4c3afcd-5a02-40e2-971e-7e51f6fb31e9"
      },
      "outputs": [
        {
          "data": {
            "text/html": [
              "<div>\n",
              "<style scoped>\n",
              "    .dataframe tbody tr th:only-of-type {\n",
              "        vertical-align: middle;\n",
              "    }\n",
              "\n",
              "    .dataframe tbody tr th {\n",
              "        vertical-align: top;\n",
              "    }\n",
              "\n",
              "    .dataframe thead th {\n",
              "        text-align: right;\n",
              "    }\n",
              "</style>\n",
              "<table border=\"1\" class=\"dataframe\">\n",
              "  <thead>\n",
              "    <tr style=\"text-align: right;\">\n",
              "      <th></th>\n",
              "      <th>index</th>\n",
              "      <th>Area</th>\n",
              "      <th>Vintage</th>\n",
              "      <th>Usia</th>\n",
              "      <th>Jenis_Kelamin</th>\n",
              "      <th>Status_Perkawinan</th>\n",
              "      <th>Jumlah_Anak</th>\n",
              "      <th>Pendidikan</th>\n",
              "      <th>Produk_Tabungan</th>\n",
              "      <th>Produk_Deposito</th>\n",
              "      <th>Produk_Kartu_Kredit</th>\n",
              "      <th>Produk_Kredit_Rumah</th>\n",
              "      <th>Produk_Kredit_Kendaraan</th>\n",
              "      <th>Produk_Kredit_Dana_Tunai</th>\n",
              "      <th>Total_Kepemilikan_Produk</th>\n",
              "      <th>Pendapatan_Tahunan</th>\n",
              "      <th>Total_Relationship_Balance</th>\n",
              "    </tr>\n",
              "  </thead>\n",
              "  <tbody>\n",
              "    <tr>\n",
              "      <th>0</th>\n",
              "      <td>1</td>\n",
              "      <td>Jakarta</td>\n",
              "      <td>&lt; 1 Tahun</td>\n",
              "      <td>23.0</td>\n",
              "      <td>Laki-laki</td>\n",
              "      <td>Belum Menikah</td>\n",
              "      <td>0</td>\n",
              "      <td>Doktor</td>\n",
              "      <td>1</td>\n",
              "      <td>0</td>\n",
              "      <td>0</td>\n",
              "      <td>0</td>\n",
              "      <td>0</td>\n",
              "      <td>0</td>\n",
              "      <td>1</td>\n",
              "      <td>198</td>\n",
              "      <td>10668586</td>\n",
              "    </tr>\n",
              "    <tr>\n",
              "      <th>1</th>\n",
              "      <td>2</td>\n",
              "      <td>Surabaya</td>\n",
              "      <td>&lt; 1 Tahun</td>\n",
              "      <td>30.0</td>\n",
              "      <td>Laki-laki</td>\n",
              "      <td>Belum Menikah</td>\n",
              "      <td>0</td>\n",
              "      <td>Doktor</td>\n",
              "      <td>1</td>\n",
              "      <td>0</td>\n",
              "      <td>0</td>\n",
              "      <td>0</td>\n",
              "      <td>0</td>\n",
              "      <td>0</td>\n",
              "      <td>1</td>\n",
              "      <td>280</td>\n",
              "      <td>299076075</td>\n",
              "    </tr>\n",
              "    <tr>\n",
              "      <th>2</th>\n",
              "      <td>7</td>\n",
              "      <td>Solo</td>\n",
              "      <td>&lt; 1 Tahun</td>\n",
              "      <td>29.0</td>\n",
              "      <td>Laki-laki</td>\n",
              "      <td>Belum Menikah</td>\n",
              "      <td>0</td>\n",
              "      <td>Doktor</td>\n",
              "      <td>1</td>\n",
              "      <td>0</td>\n",
              "      <td>0</td>\n",
              "      <td>0</td>\n",
              "      <td>0</td>\n",
              "      <td>0</td>\n",
              "      <td>1</td>\n",
              "      <td>295</td>\n",
              "      <td>76653088</td>\n",
              "    </tr>\n",
              "    <tr>\n",
              "      <th>3</th>\n",
              "      <td>8</td>\n",
              "      <td>Jakarta</td>\n",
              "      <td>&lt; 1 Tahun</td>\n",
              "      <td>49.0</td>\n",
              "      <td>Laki-laki</td>\n",
              "      <td>Belum Menikah</td>\n",
              "      <td>0</td>\n",
              "      <td>Doktor</td>\n",
              "      <td>1</td>\n",
              "      <td>0</td>\n",
              "      <td>0</td>\n",
              "      <td>0</td>\n",
              "      <td>0</td>\n",
              "      <td>0</td>\n",
              "      <td>1</td>\n",
              "      <td>443</td>\n",
              "      <td>247157199</td>\n",
              "    </tr>\n",
              "    <tr>\n",
              "      <th>4</th>\n",
              "      <td>9</td>\n",
              "      <td>Jakarta</td>\n",
              "      <td>&lt; 1 Tahun</td>\n",
              "      <td>21.0</td>\n",
              "      <td>Perempuan</td>\n",
              "      <td>Belum Menikah</td>\n",
              "      <td>0</td>\n",
              "      <td>Doktor</td>\n",
              "      <td>1</td>\n",
              "      <td>0</td>\n",
              "      <td>0</td>\n",
              "      <td>0</td>\n",
              "      <td>0</td>\n",
              "      <td>0</td>\n",
              "      <td>1</td>\n",
              "      <td>257</td>\n",
              "      <td>27585562</td>\n",
              "    </tr>\n",
              "    <tr>\n",
              "      <th>...</th>\n",
              "      <td>...</td>\n",
              "      <td>...</td>\n",
              "      <td>...</td>\n",
              "      <td>...</td>\n",
              "      <td>...</td>\n",
              "      <td>...</td>\n",
              "      <td>...</td>\n",
              "      <td>...</td>\n",
              "      <td>...</td>\n",
              "      <td>...</td>\n",
              "      <td>...</td>\n",
              "      <td>...</td>\n",
              "      <td>...</td>\n",
              "      <td>...</td>\n",
              "      <td>...</td>\n",
              "      <td>...</td>\n",
              "      <td>...</td>\n",
              "    </tr>\n",
              "    <tr>\n",
              "      <th>8648</th>\n",
              "      <td>28089</td>\n",
              "      <td>Bandung</td>\n",
              "      <td>2 - 3 Tahun</td>\n",
              "      <td>54.0</td>\n",
              "      <td>Laki-laki</td>\n",
              "      <td>Menikah</td>\n",
              "      <td>0</td>\n",
              "      <td>Tidak Sekolah Formal</td>\n",
              "      <td>1</td>\n",
              "      <td>1</td>\n",
              "      <td>1</td>\n",
              "      <td>1</td>\n",
              "      <td>0</td>\n",
              "      <td>1</td>\n",
              "      <td>5</td>\n",
              "      <td>489</td>\n",
              "      <td>321693904</td>\n",
              "    </tr>\n",
              "    <tr>\n",
              "      <th>8649</th>\n",
              "      <td>28090</td>\n",
              "      <td>Jakarta</td>\n",
              "      <td>2 - 3 Tahun</td>\n",
              "      <td>58.0</td>\n",
              "      <td>Laki-laki</td>\n",
              "      <td>Belum Menikah</td>\n",
              "      <td>0</td>\n",
              "      <td>Tidak Sekolah Formal</td>\n",
              "      <td>1</td>\n",
              "      <td>1</td>\n",
              "      <td>1</td>\n",
              "      <td>1</td>\n",
              "      <td>1</td>\n",
              "      <td>0</td>\n",
              "      <td>5</td>\n",
              "      <td>658</td>\n",
              "      <td>224477967</td>\n",
              "    </tr>\n",
              "    <tr>\n",
              "      <th>8650</th>\n",
              "      <td>28092</td>\n",
              "      <td>Bandung</td>\n",
              "      <td>2 - 3 Tahun</td>\n",
              "      <td>42.0</td>\n",
              "      <td>Laki-laki</td>\n",
              "      <td>Cerai</td>\n",
              "      <td>3</td>\n",
              "      <td>Tidak Sekolah Formal</td>\n",
              "      <td>1</td>\n",
              "      <td>1</td>\n",
              "      <td>1</td>\n",
              "      <td>1</td>\n",
              "      <td>0</td>\n",
              "      <td>1</td>\n",
              "      <td>5</td>\n",
              "      <td>585</td>\n",
              "      <td>411871605</td>\n",
              "    </tr>\n",
              "    <tr>\n",
              "      <th>8651</th>\n",
              "      <td>28095</td>\n",
              "      <td>Jogja</td>\n",
              "      <td>2 - 3 Tahun</td>\n",
              "      <td>44.0</td>\n",
              "      <td>Laki-laki</td>\n",
              "      <td>Cerai</td>\n",
              "      <td>1</td>\n",
              "      <td>Tidak Sekolah Formal</td>\n",
              "      <td>1</td>\n",
              "      <td>1</td>\n",
              "      <td>0</td>\n",
              "      <td>1</td>\n",
              "      <td>1</td>\n",
              "      <td>1</td>\n",
              "      <td>5</td>\n",
              "      <td>279</td>\n",
              "      <td>161744694</td>\n",
              "    </tr>\n",
              "    <tr>\n",
              "      <th>8652</th>\n",
              "      <td>28119</td>\n",
              "      <td>Solo</td>\n",
              "      <td>2 - 3 Tahun</td>\n",
              "      <td>33.0</td>\n",
              "      <td>Laki-laki</td>\n",
              "      <td>Menikah</td>\n",
              "      <td>2</td>\n",
              "      <td>Tidak Sekolah Formal</td>\n",
              "      <td>1</td>\n",
              "      <td>1</td>\n",
              "      <td>1</td>\n",
              "      <td>1</td>\n",
              "      <td>1</td>\n",
              "      <td>1</td>\n",
              "      <td>6</td>\n",
              "      <td>366</td>\n",
              "      <td>146178244</td>\n",
              "    </tr>\n",
              "  </tbody>\n",
              "</table>\n",
              "<p>8653 rows × 17 columns</p>\n",
              "</div>"
            ],
            "text/plain": [
              "      index      Area      Vintage  Usia Jenis_Kelamin Status_Perkawinan  \\\n",
              "0         1   Jakarta    < 1 Tahun  23.0     Laki-laki     Belum Menikah   \n",
              "1         2  Surabaya    < 1 Tahun  30.0     Laki-laki     Belum Menikah   \n",
              "2         7      Solo    < 1 Tahun  29.0     Laki-laki     Belum Menikah   \n",
              "3         8   Jakarta    < 1 Tahun  49.0     Laki-laki     Belum Menikah   \n",
              "4         9   Jakarta    < 1 Tahun  21.0     Perempuan     Belum Menikah   \n",
              "...     ...       ...          ...   ...           ...               ...   \n",
              "8648  28089   Bandung  2 - 3 Tahun  54.0     Laki-laki           Menikah   \n",
              "8649  28090   Jakarta  2 - 3 Tahun  58.0     Laki-laki     Belum Menikah   \n",
              "8650  28092   Bandung  2 - 3 Tahun  42.0     Laki-laki             Cerai   \n",
              "8651  28095     Jogja  2 - 3 Tahun  44.0     Laki-laki             Cerai   \n",
              "8652  28119      Solo  2 - 3 Tahun  33.0     Laki-laki           Menikah   \n",
              "\n",
              "      Jumlah_Anak            Pendidikan  Produk_Tabungan  Produk_Deposito  \\\n",
              "0               0                Doktor                1                0   \n",
              "1               0                Doktor                1                0   \n",
              "2               0                Doktor                1                0   \n",
              "3               0                Doktor                1                0   \n",
              "4               0                Doktor                1                0   \n",
              "...           ...                   ...              ...              ...   \n",
              "8648            0  Tidak Sekolah Formal                1                1   \n",
              "8649            0  Tidak Sekolah Formal                1                1   \n",
              "8650            3  Tidak Sekolah Formal                1                1   \n",
              "8651            1  Tidak Sekolah Formal                1                1   \n",
              "8652            2  Tidak Sekolah Formal                1                1   \n",
              "\n",
              "      Produk_Kartu_Kredit  Produk_Kredit_Rumah  Produk_Kredit_Kendaraan  \\\n",
              "0                       0                    0                        0   \n",
              "1                       0                    0                        0   \n",
              "2                       0                    0                        0   \n",
              "3                       0                    0                        0   \n",
              "4                       0                    0                        0   \n",
              "...                   ...                  ...                      ...   \n",
              "8648                    1                    1                        0   \n",
              "8649                    1                    1                        1   \n",
              "8650                    1                    1                        0   \n",
              "8651                    0                    1                        1   \n",
              "8652                    1                    1                        1   \n",
              "\n",
              "      Produk_Kredit_Dana_Tunai  Total_Kepemilikan_Produk  Pendapatan_Tahunan  \\\n",
              "0                            0                         1                 198   \n",
              "1                            0                         1                 280   \n",
              "2                            0                         1                 295   \n",
              "3                            0                         1                 443   \n",
              "4                            0                         1                 257   \n",
              "...                        ...                       ...                 ...   \n",
              "8648                         1                         5                 489   \n",
              "8649                         0                         5                 658   \n",
              "8650                         1                         5                 585   \n",
              "8651                         1                         5                 279   \n",
              "8652                         1                         6                 366   \n",
              "\n",
              "      Total_Relationship_Balance  \n",
              "0                       10668586  \n",
              "1                      299076075  \n",
              "2                       76653088  \n",
              "3                      247157199  \n",
              "4                       27585562  \n",
              "...                          ...  \n",
              "8648                   321693904  \n",
              "8649                   224477967  \n",
              "8650                   411871605  \n",
              "8651                   161744694  \n",
              "8652                   146178244  \n",
              "\n",
              "[8653 rows x 17 columns]"
            ]
          },
          "execution_count": 34,
          "metadata": {},
          "output_type": "execute_result"
        }
      ],
      "source": [
        "# Drop Unnecessary Column\n",
        "anal= anal.drop(columns=['GCIF','Jalur_Pembukaan']).reset_index()\n",
        "anal"
      ]
    },
    {
      "cell_type": "markdown",
      "metadata": {
        "id": "ty_i7S8gp8AN"
      },
      "source": [
        "## Splitting Dataset"
      ]
    },
    {
      "cell_type": "markdown",
      "metadata": {
        "id": "xZZAHQrbqA_L"
      },
      "source": [
        "There is three Dataset for experiment:\n",
        "- Experiment 0 : Use All of varibael\n",
        "- Experiemnt 1 : Use demographic variabel\n",
        "- Experimetn 2 : Use Financial Variabel"
      ]
    },
    {
      "cell_type": "code",
      "execution_count": 35,
      "metadata": {
        "colab": {
          "base_uri": "https://localhost:8080/"
        },
        "id": "rep6K9jwqAFu",
        "outputId": "f37bf1c6-ec3c-4c20-eb4b-1f0d08425abf"
      },
      "outputs": [
        {
          "data": {
            "text/html": [
              "<div>\n",
              "<style scoped>\n",
              "    .dataframe tbody tr th:only-of-type {\n",
              "        vertical-align: middle;\n",
              "    }\n",
              "\n",
              "    .dataframe tbody tr th {\n",
              "        vertical-align: top;\n",
              "    }\n",
              "\n",
              "    .dataframe thead th {\n",
              "        text-align: right;\n",
              "    }\n",
              "</style>\n",
              "<table border=\"1\" class=\"dataframe\">\n",
              "  <thead>\n",
              "    <tr style=\"text-align: right;\">\n",
              "      <th></th>\n",
              "      <th>Area</th>\n",
              "      <th>Vintage</th>\n",
              "      <th>Usia</th>\n",
              "      <th>Jenis_Kelamin</th>\n",
              "      <th>Status_Perkawinan</th>\n",
              "      <th>Jumlah_Anak</th>\n",
              "      <th>Pendidikan</th>\n",
              "    </tr>\n",
              "  </thead>\n",
              "  <tbody>\n",
              "    <tr>\n",
              "      <th>0</th>\n",
              "      <td>Jakarta</td>\n",
              "      <td>&lt; 1 Tahun</td>\n",
              "      <td>23.0</td>\n",
              "      <td>Laki-laki</td>\n",
              "      <td>Belum Menikah</td>\n",
              "      <td>0</td>\n",
              "      <td>Doktor</td>\n",
              "    </tr>\n",
              "    <tr>\n",
              "      <th>1</th>\n",
              "      <td>Surabaya</td>\n",
              "      <td>&lt; 1 Tahun</td>\n",
              "      <td>30.0</td>\n",
              "      <td>Laki-laki</td>\n",
              "      <td>Belum Menikah</td>\n",
              "      <td>0</td>\n",
              "      <td>Doktor</td>\n",
              "    </tr>\n",
              "    <tr>\n",
              "      <th>2</th>\n",
              "      <td>Solo</td>\n",
              "      <td>&lt; 1 Tahun</td>\n",
              "      <td>29.0</td>\n",
              "      <td>Laki-laki</td>\n",
              "      <td>Belum Menikah</td>\n",
              "      <td>0</td>\n",
              "      <td>Doktor</td>\n",
              "    </tr>\n",
              "    <tr>\n",
              "      <th>3</th>\n",
              "      <td>Jakarta</td>\n",
              "      <td>&lt; 1 Tahun</td>\n",
              "      <td>49.0</td>\n",
              "      <td>Laki-laki</td>\n",
              "      <td>Belum Menikah</td>\n",
              "      <td>0</td>\n",
              "      <td>Doktor</td>\n",
              "    </tr>\n",
              "    <tr>\n",
              "      <th>4</th>\n",
              "      <td>Jakarta</td>\n",
              "      <td>&lt; 1 Tahun</td>\n",
              "      <td>21.0</td>\n",
              "      <td>Perempuan</td>\n",
              "      <td>Belum Menikah</td>\n",
              "      <td>0</td>\n",
              "      <td>Doktor</td>\n",
              "    </tr>\n",
              "    <tr>\n",
              "      <th>...</th>\n",
              "      <td>...</td>\n",
              "      <td>...</td>\n",
              "      <td>...</td>\n",
              "      <td>...</td>\n",
              "      <td>...</td>\n",
              "      <td>...</td>\n",
              "      <td>...</td>\n",
              "    </tr>\n",
              "    <tr>\n",
              "      <th>8648</th>\n",
              "      <td>Bandung</td>\n",
              "      <td>2 - 3 Tahun</td>\n",
              "      <td>54.0</td>\n",
              "      <td>Laki-laki</td>\n",
              "      <td>Menikah</td>\n",
              "      <td>0</td>\n",
              "      <td>Tidak Sekolah Formal</td>\n",
              "    </tr>\n",
              "    <tr>\n",
              "      <th>8649</th>\n",
              "      <td>Jakarta</td>\n",
              "      <td>2 - 3 Tahun</td>\n",
              "      <td>58.0</td>\n",
              "      <td>Laki-laki</td>\n",
              "      <td>Belum Menikah</td>\n",
              "      <td>0</td>\n",
              "      <td>Tidak Sekolah Formal</td>\n",
              "    </tr>\n",
              "    <tr>\n",
              "      <th>8650</th>\n",
              "      <td>Bandung</td>\n",
              "      <td>2 - 3 Tahun</td>\n",
              "      <td>42.0</td>\n",
              "      <td>Laki-laki</td>\n",
              "      <td>Cerai</td>\n",
              "      <td>3</td>\n",
              "      <td>Tidak Sekolah Formal</td>\n",
              "    </tr>\n",
              "    <tr>\n",
              "      <th>8651</th>\n",
              "      <td>Jogja</td>\n",
              "      <td>2 - 3 Tahun</td>\n",
              "      <td>44.0</td>\n",
              "      <td>Laki-laki</td>\n",
              "      <td>Cerai</td>\n",
              "      <td>1</td>\n",
              "      <td>Tidak Sekolah Formal</td>\n",
              "    </tr>\n",
              "    <tr>\n",
              "      <th>8652</th>\n",
              "      <td>Solo</td>\n",
              "      <td>2 - 3 Tahun</td>\n",
              "      <td>33.0</td>\n",
              "      <td>Laki-laki</td>\n",
              "      <td>Menikah</td>\n",
              "      <td>2</td>\n",
              "      <td>Tidak Sekolah Formal</td>\n",
              "    </tr>\n",
              "  </tbody>\n",
              "</table>\n",
              "<p>8653 rows × 7 columns</p>\n",
              "</div>"
            ],
            "text/plain": [
              "          Area      Vintage  Usia Jenis_Kelamin Status_Perkawinan  \\\n",
              "0      Jakarta    < 1 Tahun  23.0     Laki-laki     Belum Menikah   \n",
              "1     Surabaya    < 1 Tahun  30.0     Laki-laki     Belum Menikah   \n",
              "2         Solo    < 1 Tahun  29.0     Laki-laki     Belum Menikah   \n",
              "3      Jakarta    < 1 Tahun  49.0     Laki-laki     Belum Menikah   \n",
              "4      Jakarta    < 1 Tahun  21.0     Perempuan     Belum Menikah   \n",
              "...        ...          ...   ...           ...               ...   \n",
              "8648   Bandung  2 - 3 Tahun  54.0     Laki-laki           Menikah   \n",
              "8649   Jakarta  2 - 3 Tahun  58.0     Laki-laki     Belum Menikah   \n",
              "8650   Bandung  2 - 3 Tahun  42.0     Laki-laki             Cerai   \n",
              "8651     Jogja  2 - 3 Tahun  44.0     Laki-laki             Cerai   \n",
              "8652      Solo  2 - 3 Tahun  33.0     Laki-laki           Menikah   \n",
              "\n",
              "      Jumlah_Anak            Pendidikan  \n",
              "0               0                Doktor  \n",
              "1               0                Doktor  \n",
              "2               0                Doktor  \n",
              "3               0                Doktor  \n",
              "4               0                Doktor  \n",
              "...           ...                   ...  \n",
              "8648            0  Tidak Sekolah Formal  \n",
              "8649            0  Tidak Sekolah Formal  \n",
              "8650            3  Tidak Sekolah Formal  \n",
              "8651            1  Tidak Sekolah Formal  \n",
              "8652            2  Tidak Sekolah Formal  \n",
              "\n",
              "[8653 rows x 7 columns]"
            ]
          },
          "execution_count": 35,
          "metadata": {},
          "output_type": "execute_result"
        }
      ],
      "source": [
        "# Define Experiment 1 Dataset (Demographic)\n",
        "exp1= anal.iloc[:,1:8]\n",
        "exp1"
      ]
    },
    {
      "cell_type": "code",
      "execution_count": 36,
      "metadata": {
        "colab": {
          "base_uri": "https://localhost:8080/"
        },
        "id": "EmmUIVmpuVgd",
        "outputId": "157a0148-26e8-46f4-875d-f4efbd817c18"
      },
      "outputs": [
        {
          "data": {
            "text/html": [
              "<div>\n",
              "<style scoped>\n",
              "    .dataframe tbody tr th:only-of-type {\n",
              "        vertical-align: middle;\n",
              "    }\n",
              "\n",
              "    .dataframe tbody tr th {\n",
              "        vertical-align: top;\n",
              "    }\n",
              "\n",
              "    .dataframe thead th {\n",
              "        text-align: right;\n",
              "    }\n",
              "</style>\n",
              "<table border=\"1\" class=\"dataframe\">\n",
              "  <thead>\n",
              "    <tr style=\"text-align: right;\">\n",
              "      <th></th>\n",
              "      <th>Produk_Tabungan</th>\n",
              "      <th>Produk_Deposito</th>\n",
              "      <th>Produk_Kartu_Kredit</th>\n",
              "      <th>Produk_Kredit_Rumah</th>\n",
              "      <th>Produk_Kredit_Kendaraan</th>\n",
              "      <th>Produk_Kredit_Dana_Tunai</th>\n",
              "      <th>Total_Kepemilikan_Produk</th>\n",
              "      <th>Pendapatan_Tahunan</th>\n",
              "      <th>Total_Relationship_Balance</th>\n",
              "    </tr>\n",
              "  </thead>\n",
              "  <tbody>\n",
              "    <tr>\n",
              "      <th>0</th>\n",
              "      <td>1</td>\n",
              "      <td>0</td>\n",
              "      <td>0</td>\n",
              "      <td>0</td>\n",
              "      <td>0</td>\n",
              "      <td>0</td>\n",
              "      <td>1</td>\n",
              "      <td>198</td>\n",
              "      <td>10668586</td>\n",
              "    </tr>\n",
              "    <tr>\n",
              "      <th>1</th>\n",
              "      <td>1</td>\n",
              "      <td>0</td>\n",
              "      <td>0</td>\n",
              "      <td>0</td>\n",
              "      <td>0</td>\n",
              "      <td>0</td>\n",
              "      <td>1</td>\n",
              "      <td>280</td>\n",
              "      <td>299076075</td>\n",
              "    </tr>\n",
              "    <tr>\n",
              "      <th>2</th>\n",
              "      <td>1</td>\n",
              "      <td>0</td>\n",
              "      <td>0</td>\n",
              "      <td>0</td>\n",
              "      <td>0</td>\n",
              "      <td>0</td>\n",
              "      <td>1</td>\n",
              "      <td>295</td>\n",
              "      <td>76653088</td>\n",
              "    </tr>\n",
              "    <tr>\n",
              "      <th>3</th>\n",
              "      <td>1</td>\n",
              "      <td>0</td>\n",
              "      <td>0</td>\n",
              "      <td>0</td>\n",
              "      <td>0</td>\n",
              "      <td>0</td>\n",
              "      <td>1</td>\n",
              "      <td>443</td>\n",
              "      <td>247157199</td>\n",
              "    </tr>\n",
              "    <tr>\n",
              "      <th>4</th>\n",
              "      <td>1</td>\n",
              "      <td>0</td>\n",
              "      <td>0</td>\n",
              "      <td>0</td>\n",
              "      <td>0</td>\n",
              "      <td>0</td>\n",
              "      <td>1</td>\n",
              "      <td>257</td>\n",
              "      <td>27585562</td>\n",
              "    </tr>\n",
              "    <tr>\n",
              "      <th>...</th>\n",
              "      <td>...</td>\n",
              "      <td>...</td>\n",
              "      <td>...</td>\n",
              "      <td>...</td>\n",
              "      <td>...</td>\n",
              "      <td>...</td>\n",
              "      <td>...</td>\n",
              "      <td>...</td>\n",
              "      <td>...</td>\n",
              "    </tr>\n",
              "    <tr>\n",
              "      <th>8648</th>\n",
              "      <td>1</td>\n",
              "      <td>1</td>\n",
              "      <td>1</td>\n",
              "      <td>1</td>\n",
              "      <td>0</td>\n",
              "      <td>1</td>\n",
              "      <td>5</td>\n",
              "      <td>489</td>\n",
              "      <td>321693904</td>\n",
              "    </tr>\n",
              "    <tr>\n",
              "      <th>8649</th>\n",
              "      <td>1</td>\n",
              "      <td>1</td>\n",
              "      <td>1</td>\n",
              "      <td>1</td>\n",
              "      <td>1</td>\n",
              "      <td>0</td>\n",
              "      <td>5</td>\n",
              "      <td>658</td>\n",
              "      <td>224477967</td>\n",
              "    </tr>\n",
              "    <tr>\n",
              "      <th>8650</th>\n",
              "      <td>1</td>\n",
              "      <td>1</td>\n",
              "      <td>1</td>\n",
              "      <td>1</td>\n",
              "      <td>0</td>\n",
              "      <td>1</td>\n",
              "      <td>5</td>\n",
              "      <td>585</td>\n",
              "      <td>411871605</td>\n",
              "    </tr>\n",
              "    <tr>\n",
              "      <th>8651</th>\n",
              "      <td>1</td>\n",
              "      <td>1</td>\n",
              "      <td>0</td>\n",
              "      <td>1</td>\n",
              "      <td>1</td>\n",
              "      <td>1</td>\n",
              "      <td>5</td>\n",
              "      <td>279</td>\n",
              "      <td>161744694</td>\n",
              "    </tr>\n",
              "    <tr>\n",
              "      <th>8652</th>\n",
              "      <td>1</td>\n",
              "      <td>1</td>\n",
              "      <td>1</td>\n",
              "      <td>1</td>\n",
              "      <td>1</td>\n",
              "      <td>1</td>\n",
              "      <td>6</td>\n",
              "      <td>366</td>\n",
              "      <td>146178244</td>\n",
              "    </tr>\n",
              "  </tbody>\n",
              "</table>\n",
              "<p>8653 rows × 9 columns</p>\n",
              "</div>"
            ],
            "text/plain": [
              "      Produk_Tabungan  Produk_Deposito  Produk_Kartu_Kredit  \\\n",
              "0                   1                0                    0   \n",
              "1                   1                0                    0   \n",
              "2                   1                0                    0   \n",
              "3                   1                0                    0   \n",
              "4                   1                0                    0   \n",
              "...               ...              ...                  ...   \n",
              "8648                1                1                    1   \n",
              "8649                1                1                    1   \n",
              "8650                1                1                    1   \n",
              "8651                1                1                    0   \n",
              "8652                1                1                    1   \n",
              "\n",
              "      Produk_Kredit_Rumah  Produk_Kredit_Kendaraan  Produk_Kredit_Dana_Tunai  \\\n",
              "0                       0                        0                         0   \n",
              "1                       0                        0                         0   \n",
              "2                       0                        0                         0   \n",
              "3                       0                        0                         0   \n",
              "4                       0                        0                         0   \n",
              "...                   ...                      ...                       ...   \n",
              "8648                    1                        0                         1   \n",
              "8649                    1                        1                         0   \n",
              "8650                    1                        0                         1   \n",
              "8651                    1                        1                         1   \n",
              "8652                    1                        1                         1   \n",
              "\n",
              "      Total_Kepemilikan_Produk  Pendapatan_Tahunan  Total_Relationship_Balance  \n",
              "0                            1                 198                    10668586  \n",
              "1                            1                 280                   299076075  \n",
              "2                            1                 295                    76653088  \n",
              "3                            1                 443                   247157199  \n",
              "4                            1                 257                    27585562  \n",
              "...                        ...                 ...                         ...  \n",
              "8648                         5                 489                   321693904  \n",
              "8649                         5                 658                   224477967  \n",
              "8650                         5                 585                   411871605  \n",
              "8651                         5                 279                   161744694  \n",
              "8652                         6                 366                   146178244  \n",
              "\n",
              "[8653 rows x 9 columns]"
            ]
          },
          "execution_count": 36,
          "metadata": {},
          "output_type": "execute_result"
        }
      ],
      "source": [
        "# Define Experiment 2 Dataaset (Financial)\n",
        "exp2= anal.iloc[:,8:]\n",
        "exp2"
      ]
    },
    {
      "cell_type": "markdown",
      "metadata": {
        "id": "Fz8hTFkgvcRk"
      },
      "source": [
        "## Encoding Categorical Variabel"
      ]
    },
    {
      "cell_type": "code",
      "execution_count": 37,
      "metadata": {
        "colab": {
          "base_uri": "https://localhost:8080/"
        },
        "id": "Td06PxoVvf2I",
        "outputId": "b6bd5f81-3ae5-4057-fc1c-8c750de050ac"
      },
      "outputs": [
        {
          "data": {
            "text/plain": [
              "['Area', 'Vintage', 'Jenis_Kelamin', 'Status_Perkawinan', 'Pendidikan']"
            ]
          },
          "execution_count": 37,
          "metadata": {},
          "output_type": "execute_result"
        }
      ],
      "source": [
        "# Categorical Data Column check (Demographic Variabel)\n",
        "exp1.select_dtypes(include='object').columns.to_list()"
      ]
    },
    {
      "cell_type": "code",
      "execution_count": 38,
      "metadata": {
        "colab": {
          "base_uri": "https://localhost:8080/"
        },
        "id": "WhHWho_vwBl6",
        "outputId": "d087fff1-e6f1-46e3-8c2a-d0a030bd06d9"
      },
      "outputs": [
        {
          "data": {
            "text/html": [
              "<div>\n",
              "<style scoped>\n",
              "    .dataframe tbody tr th:only-of-type {\n",
              "        vertical-align: middle;\n",
              "    }\n",
              "\n",
              "    .dataframe tbody tr th {\n",
              "        vertical-align: top;\n",
              "    }\n",
              "\n",
              "    .dataframe thead th {\n",
              "        text-align: right;\n",
              "    }\n",
              "</style>\n",
              "<table border=\"1\" class=\"dataframe\">\n",
              "  <thead>\n",
              "    <tr style=\"text-align: right;\">\n",
              "      <th></th>\n",
              "      <th>Usia</th>\n",
              "      <th>Jumlah_Anak</th>\n",
              "      <th>Area_Bandung</th>\n",
              "      <th>Area_Bogor</th>\n",
              "      <th>Area_Jakarta</th>\n",
              "      <th>Area_Jogja</th>\n",
              "      <th>Area_Solo</th>\n",
              "      <th>Area_Surabaya</th>\n",
              "      <th>Vintage_2 - 3 Tahun</th>\n",
              "      <th>Vintage_&lt; 1 Tahun</th>\n",
              "      <th>Vintage_&gt; 4 Tahun</th>\n",
              "      <th>Jenis_Kelamin_Laki-laki</th>\n",
              "      <th>Jenis_Kelamin_Perempuan</th>\n",
              "      <th>Status_Perkawinan_Belum Menikah</th>\n",
              "      <th>Status_Perkawinan_Cerai</th>\n",
              "      <th>Status_Perkawinan_Menikah</th>\n",
              "      <th>Pendidikan_Doktor</th>\n",
              "      <th>Pendidikan_Magister</th>\n",
              "      <th>Pendidikan_SD</th>\n",
              "      <th>Pendidikan_SMA</th>\n",
              "      <th>Pendidikan_SMP</th>\n",
              "      <th>Pendidikan_Sarjana</th>\n",
              "      <th>Pendidikan_Tidak Sekolah Formal</th>\n",
              "    </tr>\n",
              "  </thead>\n",
              "  <tbody>\n",
              "    <tr>\n",
              "      <th>0</th>\n",
              "      <td>23</td>\n",
              "      <td>0</td>\n",
              "      <td>0</td>\n",
              "      <td>0</td>\n",
              "      <td>1</td>\n",
              "      <td>0</td>\n",
              "      <td>0</td>\n",
              "      <td>0</td>\n",
              "      <td>0</td>\n",
              "      <td>1</td>\n",
              "      <td>0</td>\n",
              "      <td>1</td>\n",
              "      <td>0</td>\n",
              "      <td>1</td>\n",
              "      <td>0</td>\n",
              "      <td>0</td>\n",
              "      <td>1</td>\n",
              "      <td>0</td>\n",
              "      <td>0</td>\n",
              "      <td>0</td>\n",
              "      <td>0</td>\n",
              "      <td>0</td>\n",
              "      <td>0</td>\n",
              "    </tr>\n",
              "    <tr>\n",
              "      <th>1</th>\n",
              "      <td>30</td>\n",
              "      <td>0</td>\n",
              "      <td>0</td>\n",
              "      <td>0</td>\n",
              "      <td>0</td>\n",
              "      <td>0</td>\n",
              "      <td>0</td>\n",
              "      <td>1</td>\n",
              "      <td>0</td>\n",
              "      <td>1</td>\n",
              "      <td>0</td>\n",
              "      <td>1</td>\n",
              "      <td>0</td>\n",
              "      <td>1</td>\n",
              "      <td>0</td>\n",
              "      <td>0</td>\n",
              "      <td>1</td>\n",
              "      <td>0</td>\n",
              "      <td>0</td>\n",
              "      <td>0</td>\n",
              "      <td>0</td>\n",
              "      <td>0</td>\n",
              "      <td>0</td>\n",
              "    </tr>\n",
              "    <tr>\n",
              "      <th>2</th>\n",
              "      <td>29</td>\n",
              "      <td>0</td>\n",
              "      <td>0</td>\n",
              "      <td>0</td>\n",
              "      <td>0</td>\n",
              "      <td>0</td>\n",
              "      <td>1</td>\n",
              "      <td>0</td>\n",
              "      <td>0</td>\n",
              "      <td>1</td>\n",
              "      <td>0</td>\n",
              "      <td>1</td>\n",
              "      <td>0</td>\n",
              "      <td>1</td>\n",
              "      <td>0</td>\n",
              "      <td>0</td>\n",
              "      <td>1</td>\n",
              "      <td>0</td>\n",
              "      <td>0</td>\n",
              "      <td>0</td>\n",
              "      <td>0</td>\n",
              "      <td>0</td>\n",
              "      <td>0</td>\n",
              "    </tr>\n",
              "    <tr>\n",
              "      <th>3</th>\n",
              "      <td>49</td>\n",
              "      <td>0</td>\n",
              "      <td>0</td>\n",
              "      <td>0</td>\n",
              "      <td>1</td>\n",
              "      <td>0</td>\n",
              "      <td>0</td>\n",
              "      <td>0</td>\n",
              "      <td>0</td>\n",
              "      <td>1</td>\n",
              "      <td>0</td>\n",
              "      <td>1</td>\n",
              "      <td>0</td>\n",
              "      <td>1</td>\n",
              "      <td>0</td>\n",
              "      <td>0</td>\n",
              "      <td>1</td>\n",
              "      <td>0</td>\n",
              "      <td>0</td>\n",
              "      <td>0</td>\n",
              "      <td>0</td>\n",
              "      <td>0</td>\n",
              "      <td>0</td>\n",
              "    </tr>\n",
              "    <tr>\n",
              "      <th>4</th>\n",
              "      <td>21</td>\n",
              "      <td>0</td>\n",
              "      <td>0</td>\n",
              "      <td>0</td>\n",
              "      <td>1</td>\n",
              "      <td>0</td>\n",
              "      <td>0</td>\n",
              "      <td>0</td>\n",
              "      <td>0</td>\n",
              "      <td>1</td>\n",
              "      <td>0</td>\n",
              "      <td>0</td>\n",
              "      <td>1</td>\n",
              "      <td>1</td>\n",
              "      <td>0</td>\n",
              "      <td>0</td>\n",
              "      <td>1</td>\n",
              "      <td>0</td>\n",
              "      <td>0</td>\n",
              "      <td>0</td>\n",
              "      <td>0</td>\n",
              "      <td>0</td>\n",
              "      <td>0</td>\n",
              "    </tr>\n",
              "    <tr>\n",
              "      <th>...</th>\n",
              "      <td>...</td>\n",
              "      <td>...</td>\n",
              "      <td>...</td>\n",
              "      <td>...</td>\n",
              "      <td>...</td>\n",
              "      <td>...</td>\n",
              "      <td>...</td>\n",
              "      <td>...</td>\n",
              "      <td>...</td>\n",
              "      <td>...</td>\n",
              "      <td>...</td>\n",
              "      <td>...</td>\n",
              "      <td>...</td>\n",
              "      <td>...</td>\n",
              "      <td>...</td>\n",
              "      <td>...</td>\n",
              "      <td>...</td>\n",
              "      <td>...</td>\n",
              "      <td>...</td>\n",
              "      <td>...</td>\n",
              "      <td>...</td>\n",
              "      <td>...</td>\n",
              "      <td>...</td>\n",
              "    </tr>\n",
              "    <tr>\n",
              "      <th>8648</th>\n",
              "      <td>54</td>\n",
              "      <td>0</td>\n",
              "      <td>1</td>\n",
              "      <td>0</td>\n",
              "      <td>0</td>\n",
              "      <td>0</td>\n",
              "      <td>0</td>\n",
              "      <td>0</td>\n",
              "      <td>1</td>\n",
              "      <td>0</td>\n",
              "      <td>0</td>\n",
              "      <td>1</td>\n",
              "      <td>0</td>\n",
              "      <td>0</td>\n",
              "      <td>0</td>\n",
              "      <td>1</td>\n",
              "      <td>0</td>\n",
              "      <td>0</td>\n",
              "      <td>0</td>\n",
              "      <td>0</td>\n",
              "      <td>0</td>\n",
              "      <td>0</td>\n",
              "      <td>1</td>\n",
              "    </tr>\n",
              "    <tr>\n",
              "      <th>8649</th>\n",
              "      <td>58</td>\n",
              "      <td>0</td>\n",
              "      <td>0</td>\n",
              "      <td>0</td>\n",
              "      <td>1</td>\n",
              "      <td>0</td>\n",
              "      <td>0</td>\n",
              "      <td>0</td>\n",
              "      <td>1</td>\n",
              "      <td>0</td>\n",
              "      <td>0</td>\n",
              "      <td>1</td>\n",
              "      <td>0</td>\n",
              "      <td>1</td>\n",
              "      <td>0</td>\n",
              "      <td>0</td>\n",
              "      <td>0</td>\n",
              "      <td>0</td>\n",
              "      <td>0</td>\n",
              "      <td>0</td>\n",
              "      <td>0</td>\n",
              "      <td>0</td>\n",
              "      <td>1</td>\n",
              "    </tr>\n",
              "    <tr>\n",
              "      <th>8650</th>\n",
              "      <td>42</td>\n",
              "      <td>3</td>\n",
              "      <td>1</td>\n",
              "      <td>0</td>\n",
              "      <td>0</td>\n",
              "      <td>0</td>\n",
              "      <td>0</td>\n",
              "      <td>0</td>\n",
              "      <td>1</td>\n",
              "      <td>0</td>\n",
              "      <td>0</td>\n",
              "      <td>1</td>\n",
              "      <td>0</td>\n",
              "      <td>0</td>\n",
              "      <td>1</td>\n",
              "      <td>0</td>\n",
              "      <td>0</td>\n",
              "      <td>0</td>\n",
              "      <td>0</td>\n",
              "      <td>0</td>\n",
              "      <td>0</td>\n",
              "      <td>0</td>\n",
              "      <td>1</td>\n",
              "    </tr>\n",
              "    <tr>\n",
              "      <th>8651</th>\n",
              "      <td>44</td>\n",
              "      <td>1</td>\n",
              "      <td>0</td>\n",
              "      <td>0</td>\n",
              "      <td>0</td>\n",
              "      <td>1</td>\n",
              "      <td>0</td>\n",
              "      <td>0</td>\n",
              "      <td>1</td>\n",
              "      <td>0</td>\n",
              "      <td>0</td>\n",
              "      <td>1</td>\n",
              "      <td>0</td>\n",
              "      <td>0</td>\n",
              "      <td>1</td>\n",
              "      <td>0</td>\n",
              "      <td>0</td>\n",
              "      <td>0</td>\n",
              "      <td>0</td>\n",
              "      <td>0</td>\n",
              "      <td>0</td>\n",
              "      <td>0</td>\n",
              "      <td>1</td>\n",
              "    </tr>\n",
              "    <tr>\n",
              "      <th>8652</th>\n",
              "      <td>33</td>\n",
              "      <td>2</td>\n",
              "      <td>0</td>\n",
              "      <td>0</td>\n",
              "      <td>0</td>\n",
              "      <td>0</td>\n",
              "      <td>1</td>\n",
              "      <td>0</td>\n",
              "      <td>1</td>\n",
              "      <td>0</td>\n",
              "      <td>0</td>\n",
              "      <td>1</td>\n",
              "      <td>0</td>\n",
              "      <td>0</td>\n",
              "      <td>0</td>\n",
              "      <td>1</td>\n",
              "      <td>0</td>\n",
              "      <td>0</td>\n",
              "      <td>0</td>\n",
              "      <td>0</td>\n",
              "      <td>0</td>\n",
              "      <td>0</td>\n",
              "      <td>1</td>\n",
              "    </tr>\n",
              "  </tbody>\n",
              "</table>\n",
              "<p>8653 rows × 23 columns</p>\n",
              "</div>"
            ],
            "text/plain": [
              "      Usia  Jumlah_Anak  Area_Bandung  Area_Bogor  Area_Jakarta  Area_Jogja  \\\n",
              "0       23            0             0           0             1           0   \n",
              "1       30            0             0           0             0           0   \n",
              "2       29            0             0           0             0           0   \n",
              "3       49            0             0           0             1           0   \n",
              "4       21            0             0           0             1           0   \n",
              "...    ...          ...           ...         ...           ...         ...   \n",
              "8648    54            0             1           0             0           0   \n",
              "8649    58            0             0           0             1           0   \n",
              "8650    42            3             1           0             0           0   \n",
              "8651    44            1             0           0             0           1   \n",
              "8652    33            2             0           0             0           0   \n",
              "\n",
              "      Area_Solo  Area_Surabaya  Vintage_2 - 3 Tahun  Vintage_< 1 Tahun  \\\n",
              "0             0              0                    0                  1   \n",
              "1             0              1                    0                  1   \n",
              "2             1              0                    0                  1   \n",
              "3             0              0                    0                  1   \n",
              "4             0              0                    0                  1   \n",
              "...         ...            ...                  ...                ...   \n",
              "8648          0              0                    1                  0   \n",
              "8649          0              0                    1                  0   \n",
              "8650          0              0                    1                  0   \n",
              "8651          0              0                    1                  0   \n",
              "8652          1              0                    1                  0   \n",
              "\n",
              "      Vintage_> 4 Tahun  Jenis_Kelamin_Laki-laki  Jenis_Kelamin_Perempuan  \\\n",
              "0                     0                        1                        0   \n",
              "1                     0                        1                        0   \n",
              "2                     0                        1                        0   \n",
              "3                     0                        1                        0   \n",
              "4                     0                        0                        1   \n",
              "...                 ...                      ...                      ...   \n",
              "8648                  0                        1                        0   \n",
              "8649                  0                        1                        0   \n",
              "8650                  0                        1                        0   \n",
              "8651                  0                        1                        0   \n",
              "8652                  0                        1                        0   \n",
              "\n",
              "      Status_Perkawinan_Belum Menikah  Status_Perkawinan_Cerai  \\\n",
              "0                                   1                        0   \n",
              "1                                   1                        0   \n",
              "2                                   1                        0   \n",
              "3                                   1                        0   \n",
              "4                                   1                        0   \n",
              "...                               ...                      ...   \n",
              "8648                                0                        0   \n",
              "8649                                1                        0   \n",
              "8650                                0                        1   \n",
              "8651                                0                        1   \n",
              "8652                                0                        0   \n",
              "\n",
              "      Status_Perkawinan_Menikah  Pendidikan_Doktor  Pendidikan_Magister  \\\n",
              "0                             0                  1                    0   \n",
              "1                             0                  1                    0   \n",
              "2                             0                  1                    0   \n",
              "3                             0                  1                    0   \n",
              "4                             0                  1                    0   \n",
              "...                         ...                ...                  ...   \n",
              "8648                          1                  0                    0   \n",
              "8649                          0                  0                    0   \n",
              "8650                          0                  0                    0   \n",
              "8651                          0                  0                    0   \n",
              "8652                          1                  0                    0   \n",
              "\n",
              "      Pendidikan_SD  Pendidikan_SMA  Pendidikan_SMP  Pendidikan_Sarjana  \\\n",
              "0                 0               0               0                   0   \n",
              "1                 0               0               0                   0   \n",
              "2                 0               0               0                   0   \n",
              "3                 0               0               0                   0   \n",
              "4                 0               0               0                   0   \n",
              "...             ...             ...             ...                 ...   \n",
              "8648              0               0               0                   0   \n",
              "8649              0               0               0                   0   \n",
              "8650              0               0               0                   0   \n",
              "8651              0               0               0                   0   \n",
              "8652              0               0               0                   0   \n",
              "\n",
              "      Pendidikan_Tidak Sekolah Formal  \n",
              "0                                   0  \n",
              "1                                   0  \n",
              "2                                   0  \n",
              "3                                   0  \n",
              "4                                   0  \n",
              "...                               ...  \n",
              "8648                                1  \n",
              "8649                                1  \n",
              "8650                                1  \n",
              "8651                                1  \n",
              "8652                                1  \n",
              "\n",
              "[8653 rows x 23 columns]"
            ]
          },
          "execution_count": 38,
          "metadata": {},
          "output_type": "execute_result"
        }
      ],
      "source": [
        "# Encoding Categorical VAriabel\n",
        "exp1= pd.get_dummies(exp1, columns=['Area','Vintage','Jenis_Kelamin','Status_Perkawinan','Pendidikan']).astype(int)\n",
        "exp1"
      ]
    },
    {
      "cell_type": "markdown",
      "metadata": {
        "id": "wxQb--0GxhD4"
      },
      "source": [
        "## Standardization for Numerical Variabel (Financial)"
      ]
    },
    {
      "cell_type": "code",
      "execution_count": 39,
      "metadata": {
        "colab": {
          "base_uri": "https://localhost:8080/"
        },
        "id": "1du4CcJsx_D2",
        "outputId": "1b598172-14af-44d1-d6c1-73f238261532"
      },
      "outputs": [
        {
          "data": {
            "text/plain": [
              "Index(['Produk_Tabungan', 'Produk_Deposito', 'Produk_Kartu_Kredit',\n",
              "       'Produk_Kredit_Rumah', 'Produk_Kredit_Kendaraan',\n",
              "       'Produk_Kredit_Dana_Tunai', 'Total_Kepemilikan_Produk',\n",
              "       'Pendapatan_Tahunan', 'Total_Relationship_Balance'],\n",
              "      dtype='object')"
            ]
          },
          "execution_count": 39,
          "metadata": {},
          "output_type": "execute_result"
        }
      ],
      "source": [
        "# Numerical Data Column check (Financial Variabel)\n",
        "col_name= exp2.columns\n",
        "col_name"
      ]
    },
    {
      "cell_type": "code",
      "execution_count": 40,
      "metadata": {
        "colab": {
          "base_uri": "https://localhost:8080/"
        },
        "id": "JOK0FXTnxr3o",
        "outputId": "279dd169-6c9e-497c-d599-2eaff96fe573"
      },
      "outputs": [
        {
          "data": {
            "text/html": [
              "<div>\n",
              "<style scoped>\n",
              "    .dataframe tbody tr th:only-of-type {\n",
              "        vertical-align: middle;\n",
              "    }\n",
              "\n",
              "    .dataframe tbody tr th {\n",
              "        vertical-align: top;\n",
              "    }\n",
              "\n",
              "    .dataframe thead th {\n",
              "        text-align: right;\n",
              "    }\n",
              "</style>\n",
              "<table border=\"1\" class=\"dataframe\">\n",
              "  <thead>\n",
              "    <tr style=\"text-align: right;\">\n",
              "      <th></th>\n",
              "      <th>0</th>\n",
              "      <th>1</th>\n",
              "      <th>2</th>\n",
              "      <th>3</th>\n",
              "      <th>4</th>\n",
              "      <th>5</th>\n",
              "      <th>6</th>\n",
              "      <th>7</th>\n",
              "      <th>8</th>\n",
              "    </tr>\n",
              "  </thead>\n",
              "  <tbody>\n",
              "    <tr>\n",
              "      <th>0</th>\n",
              "      <td>0.315645</td>\n",
              "      <td>-1.220392</td>\n",
              "      <td>-0.695676</td>\n",
              "      <td>-1.184178</td>\n",
              "      <td>-0.436158</td>\n",
              "      <td>-1.121909</td>\n",
              "      <td>-2.057258</td>\n",
              "      <td>-1.256170</td>\n",
              "      <td>-1.607805</td>\n",
              "    </tr>\n",
              "    <tr>\n",
              "      <th>1</th>\n",
              "      <td>0.315645</td>\n",
              "      <td>-1.220392</td>\n",
              "      <td>-0.695676</td>\n",
              "      <td>-1.184178</td>\n",
              "      <td>-0.436158</td>\n",
              "      <td>-1.121909</td>\n",
              "      <td>-2.057258</td>\n",
              "      <td>-0.800973</td>\n",
              "      <td>0.410538</td>\n",
              "    </tr>\n",
              "    <tr>\n",
              "      <th>2</th>\n",
              "      <td>0.315645</td>\n",
              "      <td>-1.220392</td>\n",
              "      <td>-0.695676</td>\n",
              "      <td>-1.184178</td>\n",
              "      <td>-0.436158</td>\n",
              "      <td>-1.121909</td>\n",
              "      <td>-2.057258</td>\n",
              "      <td>-0.717705</td>\n",
              "      <td>-1.146030</td>\n",
              "    </tr>\n",
              "    <tr>\n",
              "      <th>3</th>\n",
              "      <td>0.315645</td>\n",
              "      <td>-1.220392</td>\n",
              "      <td>-0.695676</td>\n",
              "      <td>-1.184178</td>\n",
              "      <td>-0.436158</td>\n",
              "      <td>-1.121909</td>\n",
              "      <td>-2.057258</td>\n",
              "      <td>0.103871</td>\n",
              "      <td>0.047197</td>\n",
              "    </tr>\n",
              "    <tr>\n",
              "      <th>4</th>\n",
              "      <td>0.315645</td>\n",
              "      <td>-1.220392</td>\n",
              "      <td>-0.695676</td>\n",
              "      <td>-1.184178</td>\n",
              "      <td>-0.436158</td>\n",
              "      <td>-1.121909</td>\n",
              "      <td>-2.057258</td>\n",
              "      <td>-0.928650</td>\n",
              "      <td>-1.489416</td>\n",
              "    </tr>\n",
              "    <tr>\n",
              "      <th>...</th>\n",
              "      <td>...</td>\n",
              "      <td>...</td>\n",
              "      <td>...</td>\n",
              "      <td>...</td>\n",
              "      <td>...</td>\n",
              "      <td>...</td>\n",
              "      <td>...</td>\n",
              "      <td>...</td>\n",
              "      <td>...</td>\n",
              "    </tr>\n",
              "    <tr>\n",
              "      <th>8648</th>\n",
              "      <td>0.315645</td>\n",
              "      <td>0.819409</td>\n",
              "      <td>1.437451</td>\n",
              "      <td>0.844468</td>\n",
              "      <td>-0.436158</td>\n",
              "      <td>0.891338</td>\n",
              "      <td>1.797748</td>\n",
              "      <td>0.359225</td>\n",
              "      <td>0.568823</td>\n",
              "    </tr>\n",
              "    <tr>\n",
              "      <th>8649</th>\n",
              "      <td>0.315645</td>\n",
              "      <td>0.819409</td>\n",
              "      <td>1.437451</td>\n",
              "      <td>0.844468</td>\n",
              "      <td>2.292747</td>\n",
              "      <td>-1.121909</td>\n",
              "      <td>1.797748</td>\n",
              "      <td>1.297376</td>\n",
              "      <td>-0.111517</td>\n",
              "    </tr>\n",
              "    <tr>\n",
              "      <th>8650</th>\n",
              "      <td>0.315645</td>\n",
              "      <td>0.819409</td>\n",
              "      <td>1.437451</td>\n",
              "      <td>0.844468</td>\n",
              "      <td>-0.436158</td>\n",
              "      <td>0.891338</td>\n",
              "      <td>1.797748</td>\n",
              "      <td>0.892139</td>\n",
              "      <td>1.199907</td>\n",
              "    </tr>\n",
              "    <tr>\n",
              "      <th>8651</th>\n",
              "      <td>0.315645</td>\n",
              "      <td>0.819409</td>\n",
              "      <td>-0.695676</td>\n",
              "      <td>0.844468</td>\n",
              "      <td>2.292747</td>\n",
              "      <td>0.891338</td>\n",
              "      <td>1.797748</td>\n",
              "      <td>-0.806524</td>\n",
              "      <td>-0.550539</td>\n",
              "    </tr>\n",
              "    <tr>\n",
              "      <th>8652</th>\n",
              "      <td>0.315645</td>\n",
              "      <td>0.819409</td>\n",
              "      <td>1.437451</td>\n",
              "      <td>0.844468</td>\n",
              "      <td>2.292747</td>\n",
              "      <td>0.891338</td>\n",
              "      <td>2.761500</td>\n",
              "      <td>-0.323571</td>\n",
              "      <td>-0.659477</td>\n",
              "    </tr>\n",
              "  </tbody>\n",
              "</table>\n",
              "<p>8653 rows × 9 columns</p>\n",
              "</div>"
            ],
            "text/plain": [
              "             0         1         2         3         4         5         6  \\\n",
              "0     0.315645 -1.220392 -0.695676 -1.184178 -0.436158 -1.121909 -2.057258   \n",
              "1     0.315645 -1.220392 -0.695676 -1.184178 -0.436158 -1.121909 -2.057258   \n",
              "2     0.315645 -1.220392 -0.695676 -1.184178 -0.436158 -1.121909 -2.057258   \n",
              "3     0.315645 -1.220392 -0.695676 -1.184178 -0.436158 -1.121909 -2.057258   \n",
              "4     0.315645 -1.220392 -0.695676 -1.184178 -0.436158 -1.121909 -2.057258   \n",
              "...        ...       ...       ...       ...       ...       ...       ...   \n",
              "8648  0.315645  0.819409  1.437451  0.844468 -0.436158  0.891338  1.797748   \n",
              "8649  0.315645  0.819409  1.437451  0.844468  2.292747 -1.121909  1.797748   \n",
              "8650  0.315645  0.819409  1.437451  0.844468 -0.436158  0.891338  1.797748   \n",
              "8651  0.315645  0.819409 -0.695676  0.844468  2.292747  0.891338  1.797748   \n",
              "8652  0.315645  0.819409  1.437451  0.844468  2.292747  0.891338  2.761500   \n",
              "\n",
              "             7         8  \n",
              "0    -1.256170 -1.607805  \n",
              "1    -0.800973  0.410538  \n",
              "2    -0.717705 -1.146030  \n",
              "3     0.103871  0.047197  \n",
              "4    -0.928650 -1.489416  \n",
              "...        ...       ...  \n",
              "8648  0.359225  0.568823  \n",
              "8649  1.297376 -0.111517  \n",
              "8650  0.892139  1.199907  \n",
              "8651 -0.806524 -0.550539  \n",
              "8652 -0.323571 -0.659477  \n",
              "\n",
              "[8653 rows x 9 columns]"
            ]
          },
          "execution_count": 40,
          "metadata": {},
          "output_type": "execute_result"
        }
      ],
      "source": [
        "# Standardization\n",
        "from sklearn.preprocessing import StandardScaler\n",
        "std= StandardScaler()\n",
        "exp2= pd.DataFrame(std.fit_transform(exp2))\n",
        "exp2"
      ]
    },
    {
      "cell_type": "code",
      "execution_count": 41,
      "metadata": {
        "colab": {
          "base_uri": "https://localhost:8080/"
        },
        "id": "ph4N6LM2yeKc",
        "outputId": "24c9b4da-ca91-471c-b294-530223401cf0"
      },
      "outputs": [
        {
          "data": {
            "text/html": [
              "<div>\n",
              "<style scoped>\n",
              "    .dataframe tbody tr th:only-of-type {\n",
              "        vertical-align: middle;\n",
              "    }\n",
              "\n",
              "    .dataframe tbody tr th {\n",
              "        vertical-align: top;\n",
              "    }\n",
              "\n",
              "    .dataframe thead th {\n",
              "        text-align: right;\n",
              "    }\n",
              "</style>\n",
              "<table border=\"1\" class=\"dataframe\">\n",
              "  <thead>\n",
              "    <tr style=\"text-align: right;\">\n",
              "      <th></th>\n",
              "      <th>Produk_Tabungan</th>\n",
              "      <th>Produk_Deposito</th>\n",
              "      <th>Produk_Kartu_Kredit</th>\n",
              "      <th>Produk_Kredit_Rumah</th>\n",
              "      <th>Produk_Kredit_Kendaraan</th>\n",
              "      <th>Produk_Kredit_Dana_Tunai</th>\n",
              "      <th>Total_Kepemilikan_Produk</th>\n",
              "      <th>Pendapatan_Tahunan</th>\n",
              "      <th>Total_Relationship_Balance</th>\n",
              "    </tr>\n",
              "  </thead>\n",
              "  <tbody>\n",
              "    <tr>\n",
              "      <th>0</th>\n",
              "      <td>0.315645</td>\n",
              "      <td>-1.220392</td>\n",
              "      <td>-0.695676</td>\n",
              "      <td>-1.184178</td>\n",
              "      <td>-0.436158</td>\n",
              "      <td>-1.121909</td>\n",
              "      <td>-2.057258</td>\n",
              "      <td>-1.256170</td>\n",
              "      <td>-1.607805</td>\n",
              "    </tr>\n",
              "    <tr>\n",
              "      <th>1</th>\n",
              "      <td>0.315645</td>\n",
              "      <td>-1.220392</td>\n",
              "      <td>-0.695676</td>\n",
              "      <td>-1.184178</td>\n",
              "      <td>-0.436158</td>\n",
              "      <td>-1.121909</td>\n",
              "      <td>-2.057258</td>\n",
              "      <td>-0.800973</td>\n",
              "      <td>0.410538</td>\n",
              "    </tr>\n",
              "    <tr>\n",
              "      <th>2</th>\n",
              "      <td>0.315645</td>\n",
              "      <td>-1.220392</td>\n",
              "      <td>-0.695676</td>\n",
              "      <td>-1.184178</td>\n",
              "      <td>-0.436158</td>\n",
              "      <td>-1.121909</td>\n",
              "      <td>-2.057258</td>\n",
              "      <td>-0.717705</td>\n",
              "      <td>-1.146030</td>\n",
              "    </tr>\n",
              "    <tr>\n",
              "      <th>3</th>\n",
              "      <td>0.315645</td>\n",
              "      <td>-1.220392</td>\n",
              "      <td>-0.695676</td>\n",
              "      <td>-1.184178</td>\n",
              "      <td>-0.436158</td>\n",
              "      <td>-1.121909</td>\n",
              "      <td>-2.057258</td>\n",
              "      <td>0.103871</td>\n",
              "      <td>0.047197</td>\n",
              "    </tr>\n",
              "    <tr>\n",
              "      <th>4</th>\n",
              "      <td>0.315645</td>\n",
              "      <td>-1.220392</td>\n",
              "      <td>-0.695676</td>\n",
              "      <td>-1.184178</td>\n",
              "      <td>-0.436158</td>\n",
              "      <td>-1.121909</td>\n",
              "      <td>-2.057258</td>\n",
              "      <td>-0.928650</td>\n",
              "      <td>-1.489416</td>\n",
              "    </tr>\n",
              "  </tbody>\n",
              "</table>\n",
              "</div>"
            ],
            "text/plain": [
              "   Produk_Tabungan  Produk_Deposito  Produk_Kartu_Kredit  Produk_Kredit_Rumah  \\\n",
              "0         0.315645        -1.220392            -0.695676            -1.184178   \n",
              "1         0.315645        -1.220392            -0.695676            -1.184178   \n",
              "2         0.315645        -1.220392            -0.695676            -1.184178   \n",
              "3         0.315645        -1.220392            -0.695676            -1.184178   \n",
              "4         0.315645        -1.220392            -0.695676            -1.184178   \n",
              "\n",
              "   Produk_Kredit_Kendaraan  Produk_Kredit_Dana_Tunai  \\\n",
              "0                -0.436158                 -1.121909   \n",
              "1                -0.436158                 -1.121909   \n",
              "2                -0.436158                 -1.121909   \n",
              "3                -0.436158                 -1.121909   \n",
              "4                -0.436158                 -1.121909   \n",
              "\n",
              "   Total_Kepemilikan_Produk  Pendapatan_Tahunan  Total_Relationship_Balance  \n",
              "0                 -2.057258           -1.256170                   -1.607805  \n",
              "1                 -2.057258           -0.800973                    0.410538  \n",
              "2                 -2.057258           -0.717705                   -1.146030  \n",
              "3                 -2.057258            0.103871                    0.047197  \n",
              "4                 -2.057258           -0.928650                   -1.489416  "
            ]
          },
          "execution_count": 41,
          "metadata": {},
          "output_type": "execute_result"
        }
      ],
      "source": [
        "# Change Columns to defalut\n",
        "exp2.columns= col_name\n",
        "exp2.head()"
      ]
    },
    {
      "cell_type": "markdown",
      "metadata": {
        "id": "Ik8vOL1Gy29S"
      },
      "source": [
        "# **Corelation Checker**"
      ]
    },
    {
      "cell_type": "markdown",
      "metadata": {
        "id": "ZepliTfK6j7o"
      },
      "source": [
        "## Check and Drop"
      ]
    },
    {
      "cell_type": "markdown",
      "metadata": {
        "id": "23bYJ5rOy_Qz"
      },
      "source": [
        "The idea is when some variabel have high correaltion, only one of them in use instead of both of them for efficiency analysis. High correalation indicated that two variabel have high relationship. For Example, if value in one of them increases then value in another should increase to0.\n",
        "\n",
        "High correlation marked by correlation value between variabel more than 0.7(positive correlation) or less than -0.7(negative correlation)\n",
        "\n",
        "In this project we will ignore direction of correlation, so we put all correlation value to absolute number."
      ]
    },
    {
      "cell_type": "code",
      "execution_count": 42,
      "metadata": {
        "id": "3iWNKgFEy8HP"
      },
      "outputs": [],
      "source": [
        "# Define Correlation\n",
        "cor1= exp1.corr().abs()\n",
        "cor2= exp2.corr().abs()"
      ]
    },
    {
      "cell_type": "code",
      "execution_count": 43,
      "metadata": {
        "id": "PLMwJ_8E1ffS"
      },
      "outputs": [],
      "source": [
        "# Remove Redundant Value From Matrix\n",
        "upper1= cor1.where(np.triu(np.ones(cor1.shape),k=1).astype(bool))\n",
        "upper2= cor2.where(np.triu(np.ones(cor2.shape),k=1).astype(bool))\n",
        "\n",
        "# Search value that corr more than 0.7\n",
        "high1= [col for col in upper1.columns if any(upper1[col]>0.7)]\n",
        "high2= [col for col in upper2.columns if any(upper2[col]>0.7)]\n",
        "\n",
        "# Drop data that have high correaltion\n",
        "exp1= exp1.drop(high1,axis=1)\n",
        "exp2= exp2.drop(high2,axis=1)"
      ]
    },
    {
      "cell_type": "code",
      "execution_count": 44,
      "metadata": {
        "colab": {
          "base_uri": "https://localhost:8080/"
        },
        "id": "95b-4lCd19G2",
        "outputId": "bff81a16-ee82-4c28-d5b5-6d9164288f71"
      },
      "outputs": [
        {
          "name": "stdout",
          "output_type": "stream",
          "text": [
            "['Jenis_Kelamin_Perempuan', 'Status_Perkawinan_Menikah']\n",
            "[]\n"
          ]
        }
      ],
      "source": [
        "# Check what columns were dropped\n",
        "print(high1)\n",
        "print(high2)"
      ]
    },
    {
      "cell_type": "markdown",
      "metadata": {
        "id": "4nm1KkQq6nU-"
      },
      "source": [
        "## Merge All Data Final"
      ]
    },
    {
      "cell_type": "code",
      "execution_count": 45,
      "metadata": {
        "colab": {
          "base_uri": "https://localhost:8080/"
        },
        "id": "DmULZbsL6q_h",
        "outputId": "03eb43ae-206f-4123-f889-16a62a3304ff"
      },
      "outputs": [
        {
          "data": {
            "text/html": [
              "<div>\n",
              "<style scoped>\n",
              "    .dataframe tbody tr th:only-of-type {\n",
              "        vertical-align: middle;\n",
              "    }\n",
              "\n",
              "    .dataframe tbody tr th {\n",
              "        vertical-align: top;\n",
              "    }\n",
              "\n",
              "    .dataframe thead th {\n",
              "        text-align: right;\n",
              "    }\n",
              "</style>\n",
              "<table border=\"1\" class=\"dataframe\">\n",
              "  <thead>\n",
              "    <tr style=\"text-align: right;\">\n",
              "      <th></th>\n",
              "      <th>Usia</th>\n",
              "      <th>Jumlah_Anak</th>\n",
              "      <th>Area_Bandung</th>\n",
              "      <th>Area_Bogor</th>\n",
              "      <th>Area_Jakarta</th>\n",
              "      <th>Area_Jogja</th>\n",
              "      <th>Area_Solo</th>\n",
              "      <th>Area_Surabaya</th>\n",
              "      <th>Vintage_2 - 3 Tahun</th>\n",
              "      <th>Vintage_&lt; 1 Tahun</th>\n",
              "      <th>Vintage_&gt; 4 Tahun</th>\n",
              "      <th>Jenis_Kelamin_Laki-laki</th>\n",
              "      <th>Status_Perkawinan_Belum Menikah</th>\n",
              "      <th>Status_Perkawinan_Cerai</th>\n",
              "      <th>Pendidikan_Doktor</th>\n",
              "      <th>Pendidikan_Magister</th>\n",
              "      <th>Pendidikan_SD</th>\n",
              "      <th>Pendidikan_SMA</th>\n",
              "      <th>Pendidikan_SMP</th>\n",
              "      <th>Pendidikan_Sarjana</th>\n",
              "      <th>Pendidikan_Tidak Sekolah Formal</th>\n",
              "      <th>Produk_Tabungan</th>\n",
              "      <th>Produk_Deposito</th>\n",
              "      <th>Produk_Kartu_Kredit</th>\n",
              "      <th>Produk_Kredit_Rumah</th>\n",
              "      <th>Produk_Kredit_Kendaraan</th>\n",
              "      <th>Produk_Kredit_Dana_Tunai</th>\n",
              "      <th>Total_Kepemilikan_Produk</th>\n",
              "      <th>Pendapatan_Tahunan</th>\n",
              "      <th>Total_Relationship_Balance</th>\n",
              "    </tr>\n",
              "  </thead>\n",
              "  <tbody>\n",
              "    <tr>\n",
              "      <th>0</th>\n",
              "      <td>23</td>\n",
              "      <td>0</td>\n",
              "      <td>0</td>\n",
              "      <td>0</td>\n",
              "      <td>1</td>\n",
              "      <td>0</td>\n",
              "      <td>0</td>\n",
              "      <td>0</td>\n",
              "      <td>0</td>\n",
              "      <td>1</td>\n",
              "      <td>0</td>\n",
              "      <td>1</td>\n",
              "      <td>1</td>\n",
              "      <td>0</td>\n",
              "      <td>1</td>\n",
              "      <td>0</td>\n",
              "      <td>0</td>\n",
              "      <td>0</td>\n",
              "      <td>0</td>\n",
              "      <td>0</td>\n",
              "      <td>0</td>\n",
              "      <td>0.315645</td>\n",
              "      <td>-1.220392</td>\n",
              "      <td>-0.695676</td>\n",
              "      <td>-1.184178</td>\n",
              "      <td>-0.436158</td>\n",
              "      <td>-1.121909</td>\n",
              "      <td>-2.057258</td>\n",
              "      <td>-1.256170</td>\n",
              "      <td>-1.607805</td>\n",
              "    </tr>\n",
              "    <tr>\n",
              "      <th>1</th>\n",
              "      <td>30</td>\n",
              "      <td>0</td>\n",
              "      <td>0</td>\n",
              "      <td>0</td>\n",
              "      <td>0</td>\n",
              "      <td>0</td>\n",
              "      <td>0</td>\n",
              "      <td>1</td>\n",
              "      <td>0</td>\n",
              "      <td>1</td>\n",
              "      <td>0</td>\n",
              "      <td>1</td>\n",
              "      <td>1</td>\n",
              "      <td>0</td>\n",
              "      <td>1</td>\n",
              "      <td>0</td>\n",
              "      <td>0</td>\n",
              "      <td>0</td>\n",
              "      <td>0</td>\n",
              "      <td>0</td>\n",
              "      <td>0</td>\n",
              "      <td>0.315645</td>\n",
              "      <td>-1.220392</td>\n",
              "      <td>-0.695676</td>\n",
              "      <td>-1.184178</td>\n",
              "      <td>-0.436158</td>\n",
              "      <td>-1.121909</td>\n",
              "      <td>-2.057258</td>\n",
              "      <td>-0.800973</td>\n",
              "      <td>0.410538</td>\n",
              "    </tr>\n",
              "    <tr>\n",
              "      <th>2</th>\n",
              "      <td>29</td>\n",
              "      <td>0</td>\n",
              "      <td>0</td>\n",
              "      <td>0</td>\n",
              "      <td>0</td>\n",
              "      <td>0</td>\n",
              "      <td>1</td>\n",
              "      <td>0</td>\n",
              "      <td>0</td>\n",
              "      <td>1</td>\n",
              "      <td>0</td>\n",
              "      <td>1</td>\n",
              "      <td>1</td>\n",
              "      <td>0</td>\n",
              "      <td>1</td>\n",
              "      <td>0</td>\n",
              "      <td>0</td>\n",
              "      <td>0</td>\n",
              "      <td>0</td>\n",
              "      <td>0</td>\n",
              "      <td>0</td>\n",
              "      <td>0.315645</td>\n",
              "      <td>-1.220392</td>\n",
              "      <td>-0.695676</td>\n",
              "      <td>-1.184178</td>\n",
              "      <td>-0.436158</td>\n",
              "      <td>-1.121909</td>\n",
              "      <td>-2.057258</td>\n",
              "      <td>-0.717705</td>\n",
              "      <td>-1.146030</td>\n",
              "    </tr>\n",
              "    <tr>\n",
              "      <th>3</th>\n",
              "      <td>49</td>\n",
              "      <td>0</td>\n",
              "      <td>0</td>\n",
              "      <td>0</td>\n",
              "      <td>1</td>\n",
              "      <td>0</td>\n",
              "      <td>0</td>\n",
              "      <td>0</td>\n",
              "      <td>0</td>\n",
              "      <td>1</td>\n",
              "      <td>0</td>\n",
              "      <td>1</td>\n",
              "      <td>1</td>\n",
              "      <td>0</td>\n",
              "      <td>1</td>\n",
              "      <td>0</td>\n",
              "      <td>0</td>\n",
              "      <td>0</td>\n",
              "      <td>0</td>\n",
              "      <td>0</td>\n",
              "      <td>0</td>\n",
              "      <td>0.315645</td>\n",
              "      <td>-1.220392</td>\n",
              "      <td>-0.695676</td>\n",
              "      <td>-1.184178</td>\n",
              "      <td>-0.436158</td>\n",
              "      <td>-1.121909</td>\n",
              "      <td>-2.057258</td>\n",
              "      <td>0.103871</td>\n",
              "      <td>0.047197</td>\n",
              "    </tr>\n",
              "    <tr>\n",
              "      <th>4</th>\n",
              "      <td>21</td>\n",
              "      <td>0</td>\n",
              "      <td>0</td>\n",
              "      <td>0</td>\n",
              "      <td>1</td>\n",
              "      <td>0</td>\n",
              "      <td>0</td>\n",
              "      <td>0</td>\n",
              "      <td>0</td>\n",
              "      <td>1</td>\n",
              "      <td>0</td>\n",
              "      <td>0</td>\n",
              "      <td>1</td>\n",
              "      <td>0</td>\n",
              "      <td>1</td>\n",
              "      <td>0</td>\n",
              "      <td>0</td>\n",
              "      <td>0</td>\n",
              "      <td>0</td>\n",
              "      <td>0</td>\n",
              "      <td>0</td>\n",
              "      <td>0.315645</td>\n",
              "      <td>-1.220392</td>\n",
              "      <td>-0.695676</td>\n",
              "      <td>-1.184178</td>\n",
              "      <td>-0.436158</td>\n",
              "      <td>-1.121909</td>\n",
              "      <td>-2.057258</td>\n",
              "      <td>-0.928650</td>\n",
              "      <td>-1.489416</td>\n",
              "    </tr>\n",
              "    <tr>\n",
              "      <th>...</th>\n",
              "      <td>...</td>\n",
              "      <td>...</td>\n",
              "      <td>...</td>\n",
              "      <td>...</td>\n",
              "      <td>...</td>\n",
              "      <td>...</td>\n",
              "      <td>...</td>\n",
              "      <td>...</td>\n",
              "      <td>...</td>\n",
              "      <td>...</td>\n",
              "      <td>...</td>\n",
              "      <td>...</td>\n",
              "      <td>...</td>\n",
              "      <td>...</td>\n",
              "      <td>...</td>\n",
              "      <td>...</td>\n",
              "      <td>...</td>\n",
              "      <td>...</td>\n",
              "      <td>...</td>\n",
              "      <td>...</td>\n",
              "      <td>...</td>\n",
              "      <td>...</td>\n",
              "      <td>...</td>\n",
              "      <td>...</td>\n",
              "      <td>...</td>\n",
              "      <td>...</td>\n",
              "      <td>...</td>\n",
              "      <td>...</td>\n",
              "      <td>...</td>\n",
              "      <td>...</td>\n",
              "    </tr>\n",
              "    <tr>\n",
              "      <th>8648</th>\n",
              "      <td>54</td>\n",
              "      <td>0</td>\n",
              "      <td>1</td>\n",
              "      <td>0</td>\n",
              "      <td>0</td>\n",
              "      <td>0</td>\n",
              "      <td>0</td>\n",
              "      <td>0</td>\n",
              "      <td>1</td>\n",
              "      <td>0</td>\n",
              "      <td>0</td>\n",
              "      <td>1</td>\n",
              "      <td>0</td>\n",
              "      <td>0</td>\n",
              "      <td>0</td>\n",
              "      <td>0</td>\n",
              "      <td>0</td>\n",
              "      <td>0</td>\n",
              "      <td>0</td>\n",
              "      <td>0</td>\n",
              "      <td>1</td>\n",
              "      <td>0.315645</td>\n",
              "      <td>0.819409</td>\n",
              "      <td>1.437451</td>\n",
              "      <td>0.844468</td>\n",
              "      <td>-0.436158</td>\n",
              "      <td>0.891338</td>\n",
              "      <td>1.797748</td>\n",
              "      <td>0.359225</td>\n",
              "      <td>0.568823</td>\n",
              "    </tr>\n",
              "    <tr>\n",
              "      <th>8649</th>\n",
              "      <td>58</td>\n",
              "      <td>0</td>\n",
              "      <td>0</td>\n",
              "      <td>0</td>\n",
              "      <td>1</td>\n",
              "      <td>0</td>\n",
              "      <td>0</td>\n",
              "      <td>0</td>\n",
              "      <td>1</td>\n",
              "      <td>0</td>\n",
              "      <td>0</td>\n",
              "      <td>1</td>\n",
              "      <td>1</td>\n",
              "      <td>0</td>\n",
              "      <td>0</td>\n",
              "      <td>0</td>\n",
              "      <td>0</td>\n",
              "      <td>0</td>\n",
              "      <td>0</td>\n",
              "      <td>0</td>\n",
              "      <td>1</td>\n",
              "      <td>0.315645</td>\n",
              "      <td>0.819409</td>\n",
              "      <td>1.437451</td>\n",
              "      <td>0.844468</td>\n",
              "      <td>2.292747</td>\n",
              "      <td>-1.121909</td>\n",
              "      <td>1.797748</td>\n",
              "      <td>1.297376</td>\n",
              "      <td>-0.111517</td>\n",
              "    </tr>\n",
              "    <tr>\n",
              "      <th>8650</th>\n",
              "      <td>42</td>\n",
              "      <td>3</td>\n",
              "      <td>1</td>\n",
              "      <td>0</td>\n",
              "      <td>0</td>\n",
              "      <td>0</td>\n",
              "      <td>0</td>\n",
              "      <td>0</td>\n",
              "      <td>1</td>\n",
              "      <td>0</td>\n",
              "      <td>0</td>\n",
              "      <td>1</td>\n",
              "      <td>0</td>\n",
              "      <td>1</td>\n",
              "      <td>0</td>\n",
              "      <td>0</td>\n",
              "      <td>0</td>\n",
              "      <td>0</td>\n",
              "      <td>0</td>\n",
              "      <td>0</td>\n",
              "      <td>1</td>\n",
              "      <td>0.315645</td>\n",
              "      <td>0.819409</td>\n",
              "      <td>1.437451</td>\n",
              "      <td>0.844468</td>\n",
              "      <td>-0.436158</td>\n",
              "      <td>0.891338</td>\n",
              "      <td>1.797748</td>\n",
              "      <td>0.892139</td>\n",
              "      <td>1.199907</td>\n",
              "    </tr>\n",
              "    <tr>\n",
              "      <th>8651</th>\n",
              "      <td>44</td>\n",
              "      <td>1</td>\n",
              "      <td>0</td>\n",
              "      <td>0</td>\n",
              "      <td>0</td>\n",
              "      <td>1</td>\n",
              "      <td>0</td>\n",
              "      <td>0</td>\n",
              "      <td>1</td>\n",
              "      <td>0</td>\n",
              "      <td>0</td>\n",
              "      <td>1</td>\n",
              "      <td>0</td>\n",
              "      <td>1</td>\n",
              "      <td>0</td>\n",
              "      <td>0</td>\n",
              "      <td>0</td>\n",
              "      <td>0</td>\n",
              "      <td>0</td>\n",
              "      <td>0</td>\n",
              "      <td>1</td>\n",
              "      <td>0.315645</td>\n",
              "      <td>0.819409</td>\n",
              "      <td>-0.695676</td>\n",
              "      <td>0.844468</td>\n",
              "      <td>2.292747</td>\n",
              "      <td>0.891338</td>\n",
              "      <td>1.797748</td>\n",
              "      <td>-0.806524</td>\n",
              "      <td>-0.550539</td>\n",
              "    </tr>\n",
              "    <tr>\n",
              "      <th>8652</th>\n",
              "      <td>33</td>\n",
              "      <td>2</td>\n",
              "      <td>0</td>\n",
              "      <td>0</td>\n",
              "      <td>0</td>\n",
              "      <td>0</td>\n",
              "      <td>1</td>\n",
              "      <td>0</td>\n",
              "      <td>1</td>\n",
              "      <td>0</td>\n",
              "      <td>0</td>\n",
              "      <td>1</td>\n",
              "      <td>0</td>\n",
              "      <td>0</td>\n",
              "      <td>0</td>\n",
              "      <td>0</td>\n",
              "      <td>0</td>\n",
              "      <td>0</td>\n",
              "      <td>0</td>\n",
              "      <td>0</td>\n",
              "      <td>1</td>\n",
              "      <td>0.315645</td>\n",
              "      <td>0.819409</td>\n",
              "      <td>1.437451</td>\n",
              "      <td>0.844468</td>\n",
              "      <td>2.292747</td>\n",
              "      <td>0.891338</td>\n",
              "      <td>2.761500</td>\n",
              "      <td>-0.323571</td>\n",
              "      <td>-0.659477</td>\n",
              "    </tr>\n",
              "  </tbody>\n",
              "</table>\n",
              "<p>8653 rows × 30 columns</p>\n",
              "</div>"
            ],
            "text/plain": [
              "      Usia  Jumlah_Anak  Area_Bandung  Area_Bogor  Area_Jakarta  Area_Jogja  \\\n",
              "0       23            0             0           0             1           0   \n",
              "1       30            0             0           0             0           0   \n",
              "2       29            0             0           0             0           0   \n",
              "3       49            0             0           0             1           0   \n",
              "4       21            0             0           0             1           0   \n",
              "...    ...          ...           ...         ...           ...         ...   \n",
              "8648    54            0             1           0             0           0   \n",
              "8649    58            0             0           0             1           0   \n",
              "8650    42            3             1           0             0           0   \n",
              "8651    44            1             0           0             0           1   \n",
              "8652    33            2             0           0             0           0   \n",
              "\n",
              "      Area_Solo  Area_Surabaya  Vintage_2 - 3 Tahun  Vintage_< 1 Tahun  \\\n",
              "0             0              0                    0                  1   \n",
              "1             0              1                    0                  1   \n",
              "2             1              0                    0                  1   \n",
              "3             0              0                    0                  1   \n",
              "4             0              0                    0                  1   \n",
              "...         ...            ...                  ...                ...   \n",
              "8648          0              0                    1                  0   \n",
              "8649          0              0                    1                  0   \n",
              "8650          0              0                    1                  0   \n",
              "8651          0              0                    1                  0   \n",
              "8652          1              0                    1                  0   \n",
              "\n",
              "      Vintage_> 4 Tahun  Jenis_Kelamin_Laki-laki  \\\n",
              "0                     0                        1   \n",
              "1                     0                        1   \n",
              "2                     0                        1   \n",
              "3                     0                        1   \n",
              "4                     0                        0   \n",
              "...                 ...                      ...   \n",
              "8648                  0                        1   \n",
              "8649                  0                        1   \n",
              "8650                  0                        1   \n",
              "8651                  0                        1   \n",
              "8652                  0                        1   \n",
              "\n",
              "      Status_Perkawinan_Belum Menikah  Status_Perkawinan_Cerai  \\\n",
              "0                                   1                        0   \n",
              "1                                   1                        0   \n",
              "2                                   1                        0   \n",
              "3                                   1                        0   \n",
              "4                                   1                        0   \n",
              "...                               ...                      ...   \n",
              "8648                                0                        0   \n",
              "8649                                1                        0   \n",
              "8650                                0                        1   \n",
              "8651                                0                        1   \n",
              "8652                                0                        0   \n",
              "\n",
              "      Pendidikan_Doktor  Pendidikan_Magister  Pendidikan_SD  Pendidikan_SMA  \\\n",
              "0                     1                    0              0               0   \n",
              "1                     1                    0              0               0   \n",
              "2                     1                    0              0               0   \n",
              "3                     1                    0              0               0   \n",
              "4                     1                    0              0               0   \n",
              "...                 ...                  ...            ...             ...   \n",
              "8648                  0                    0              0               0   \n",
              "8649                  0                    0              0               0   \n",
              "8650                  0                    0              0               0   \n",
              "8651                  0                    0              0               0   \n",
              "8652                  0                    0              0               0   \n",
              "\n",
              "      Pendidikan_SMP  Pendidikan_Sarjana  Pendidikan_Tidak Sekolah Formal  \\\n",
              "0                  0                   0                                0   \n",
              "1                  0                   0                                0   \n",
              "2                  0                   0                                0   \n",
              "3                  0                   0                                0   \n",
              "4                  0                   0                                0   \n",
              "...              ...                 ...                              ...   \n",
              "8648               0                   0                                1   \n",
              "8649               0                   0                                1   \n",
              "8650               0                   0                                1   \n",
              "8651               0                   0                                1   \n",
              "8652               0                   0                                1   \n",
              "\n",
              "      Produk_Tabungan  Produk_Deposito  Produk_Kartu_Kredit  \\\n",
              "0            0.315645        -1.220392            -0.695676   \n",
              "1            0.315645        -1.220392            -0.695676   \n",
              "2            0.315645        -1.220392            -0.695676   \n",
              "3            0.315645        -1.220392            -0.695676   \n",
              "4            0.315645        -1.220392            -0.695676   \n",
              "...               ...              ...                  ...   \n",
              "8648         0.315645         0.819409             1.437451   \n",
              "8649         0.315645         0.819409             1.437451   \n",
              "8650         0.315645         0.819409             1.437451   \n",
              "8651         0.315645         0.819409            -0.695676   \n",
              "8652         0.315645         0.819409             1.437451   \n",
              "\n",
              "      Produk_Kredit_Rumah  Produk_Kredit_Kendaraan  Produk_Kredit_Dana_Tunai  \\\n",
              "0               -1.184178                -0.436158                 -1.121909   \n",
              "1               -1.184178                -0.436158                 -1.121909   \n",
              "2               -1.184178                -0.436158                 -1.121909   \n",
              "3               -1.184178                -0.436158                 -1.121909   \n",
              "4               -1.184178                -0.436158                 -1.121909   \n",
              "...                   ...                      ...                       ...   \n",
              "8648             0.844468                -0.436158                  0.891338   \n",
              "8649             0.844468                 2.292747                 -1.121909   \n",
              "8650             0.844468                -0.436158                  0.891338   \n",
              "8651             0.844468                 2.292747                  0.891338   \n",
              "8652             0.844468                 2.292747                  0.891338   \n",
              "\n",
              "      Total_Kepemilikan_Produk  Pendapatan_Tahunan  Total_Relationship_Balance  \n",
              "0                    -2.057258           -1.256170                   -1.607805  \n",
              "1                    -2.057258           -0.800973                    0.410538  \n",
              "2                    -2.057258           -0.717705                   -1.146030  \n",
              "3                    -2.057258            0.103871                    0.047197  \n",
              "4                    -2.057258           -0.928650                   -1.489416  \n",
              "...                        ...                 ...                         ...  \n",
              "8648                  1.797748            0.359225                    0.568823  \n",
              "8649                  1.797748            1.297376                   -0.111517  \n",
              "8650                  1.797748            0.892139                    1.199907  \n",
              "8651                  1.797748           -0.806524                   -0.550539  \n",
              "8652                  2.761500           -0.323571                   -0.659477  \n",
              "\n",
              "[8653 rows x 30 columns]"
            ]
          },
          "execution_count": 45,
          "metadata": {},
          "output_type": "execute_result"
        }
      ],
      "source": [
        "# Merge final data from exp1 and exp2 for define exp0 dataset\n",
        "exp0= pd.concat([exp1,exp2],axis=1)\n",
        "exp0"
      ]
    },
    {
      "cell_type": "markdown",
      "metadata": {
        "id": "GpZuXTqZ8YMK"
      },
      "source": [
        "# **Modelling**"
      ]
    },
    {
      "cell_type": "markdown",
      "metadata": {
        "id": "GLWzAv8E8a45"
      },
      "source": [
        "Build a model with two types algorithm:\n",
        "- K-Means\n",
        "- K-Medoid*\n",
        "\n",
        "Check quality of clustering with silhouette score.\n",
        "\n",
        "*Need older numpy version for run this algorithm. I use virtual enviroment with pyhton version 3.10.18 to run it."
      ]
    },
    {
      "cell_type": "markdown",
      "metadata": {
        "id": "yZI8XoSi9Dm2"
      },
      "source": [
        "## K-Means"
      ]
    },
    {
      "cell_type": "code",
      "execution_count": 46,
      "metadata": {
        "id": "JGNOJW457fcm"
      },
      "outputs": [],
      "source": [
        "from sklearn.cluster import KMeans\n",
        "from sklearn.metrics import silhouette_score"
      ]
    },
    {
      "cell_type": "code",
      "execution_count": 47,
      "metadata": {
        "colab": {
          "base_uri": "https://localhost:8080/"
        },
        "id": "ir5qwiVR9T40",
        "outputId": "fe28ba3b-d053-4375-b919-e6716035b17e"
      },
      "outputs": [
        {
          "name": "stdout",
          "output_type": "stream",
          "text": [
            "K-MEans n-cluster=3 have silhouette score=0.4373\n",
            "K-MEans n-cluster=4 have silhouette score=0.3799\n",
            "K-MEans n-cluster=5 have silhouette score=0.3231\n"
          ]
        }
      ],
      "source": [
        "# Experiment 0\n",
        "\n",
        "# Run with several variation hyperparameter (number of cluster)\n",
        "for n_clusters in range(3, 6):\n",
        "    kmeans = KMeans(n_clusters=n_clusters, random_state=0)\n",
        "    cluster_labels = kmeans.fit_predict(exp0)\n",
        "    silhouette_avg = silhouette_score(exp0, cluster_labels)\n",
        "    print(f\"K-MEans n-cluster={n_clusters} have silhouette score={silhouette_avg:.4f}\")\n",
        "    anal['Clustering_KMeans_Exp0_'+str(n_clusters)] = cluster_labels"
      ]
    },
    {
      "cell_type": "markdown",
      "metadata": {
        "id": "LuwU5VPfC2wp"
      },
      "source": [
        "**NOTE**\n",
        "\n",
        "- Silhouette score close to 1 means well clustered data.Data within a cluster have closely distance while to another data outside cluster is widely.\n",
        "- Silhuoette score close to 0 means there is overlap of one cluster to another.\n",
        "- Silhuoette score negative means there is missplaced data in a cluster."
      ]
    },
    {
      "cell_type": "code",
      "execution_count": 48,
      "metadata": {
        "colab": {
          "base_uri": "https://localhost:8080/"
        },
        "id": "3PHsKgGhB8Gn",
        "outputId": "35ce6e09-a417-448c-e301-d2e89874934f"
      },
      "outputs": [
        {
          "name": "stdout",
          "output_type": "stream",
          "text": [
            "K-MEans n-cluster=3 have silhouette score=0.5022\n",
            "K-MEans n-cluster=4 have silhouette score=0.4888\n",
            "K-MEans n-cluster=5 have silhouette score=0.4210\n"
          ]
        }
      ],
      "source": [
        "# Experiment 1\n",
        "\n",
        "# Run with several variation hyperparameter (number of cluster)\n",
        "for n_clusters in range(3, 6):\n",
        "    kmeans = KMeans(n_clusters=n_clusters, random_state=0)\n",
        "    cluster_labels = kmeans.fit_predict(exp1)\n",
        "    silhouette_avg = silhouette_score(exp1, cluster_labels)\n",
        "    print(f\"K-MEans n-cluster={n_clusters} have silhouette score={silhouette_avg:.4f}\")\n",
        "    anal['Clustering_KMeans_Exp1_'+str(n_clusters)] = cluster_labels"
      ]
    },
    {
      "cell_type": "code",
      "execution_count": 49,
      "metadata": {
        "colab": {
          "base_uri": "https://localhost:8080/"
        },
        "id": "e35sqVCtCt8c",
        "outputId": "5017ef86-fa8e-43f1-b220-3887071b06e1"
      },
      "outputs": [
        {
          "name": "stdout",
          "output_type": "stream",
          "text": [
            "K-MEans n-cluster=3 have silhouette score=0.1757\n",
            "K-MEans n-cluster=4 have silhouette score=0.1750\n",
            "K-MEans n-cluster=5 have silhouette score=0.1881\n"
          ]
        }
      ],
      "source": [
        "# Experiment 2\n",
        "\n",
        "# Run with several variation hyperparameter (number of cluster)\n",
        "for n_clusters in range(3, 6):\n",
        "    kmeans = KMeans(n_clusters=n_clusters, random_state=0)\n",
        "    cluster_labels = kmeans.fit_predict(exp2)\n",
        "    silhouette_avg = silhouette_score(exp2, cluster_labels)\n",
        "    print(f\"K-MEans n-cluster={n_clusters} have silhouette score={silhouette_avg:.4f}\")\n",
        "    anal['Clustering_KMeans_Exp2_'+str(n_clusters)] = cluster_labels"
      ]
    },
    {
      "cell_type": "markdown",
      "metadata": {
        "id": "nx6hRQCIs75O"
      },
      "source": [
        "## K-Medoids"
      ]
    },
    {
      "cell_type": "code",
      "execution_count": 50,
      "metadata": {
        "colab": {
          "base_uri": "https://localhost:8080/"
        },
        "id": "2ibbciTxwgzc",
        "outputId": "ddb765e7-442d-48d9-f956-34a2f1f2c0b4"
      },
      "outputs": [
        {
          "name": "stdout",
          "output_type": "stream",
          "text": [
            "K-Medoids n-cluster=3 have silhouette score=0.4337\n",
            "K-Medoids n-cluster=4 have silhouette score=0.3352\n",
            "K-Medoids n-cluster=5 have silhouette score=0.3212\n"
          ]
        }
      ],
      "source": [
        "from sklearn_extra.cluster import KMedoids\n",
        "# Experiment 0\n",
        "\n",
        "# Run with several variation hyperparameter (number of cluster)\n",
        "for n_clusters in range(3, 6):\n",
        "    kmedoids = KMedoids(n_clusters=n_clusters, random_state=0)\n",
        "    cluster_labels = kmedoids.fit_predict(exp0)\n",
        "    silhouette_avg = silhouette_score(exp0, cluster_labels)\n",
        "    print(f\"K-Medoids n-cluster={n_clusters} have silhouette score={silhouette_avg:.4f}\")\n",
        "    anal['Clustering_KMedoids_Exp0_'+str(n_clusters)] = cluster_labels"
      ]
    },
    {
      "cell_type": "code",
      "execution_count": 53,
      "metadata": {
        "colab": {
          "base_uri": "https://localhost:8080/"
        },
        "id": "I1NchoMty174",
        "outputId": "1efa409c-92b7-46f3-9e98-72318f12215d"
      },
      "outputs": [
        {
          "name": "stderr",
          "output_type": "stream",
          "text": [
            "c:\\Users\\fahru\\anaconda3\\envs\\piton10\\lib\\site-packages\\sklearn_extra\\cluster\\_k_medoids.py:329: UserWarning: Cluster 2 is empty! self.labels_[self.medoid_indices_[2]] may not be labeled with its corresponding cluster (2).\n",
            "  warnings.warn(\n"
          ]
        },
        {
          "name": "stdout",
          "output_type": "stream",
          "text": [
            "K-Medoids n-cluster=3 have silhouette score=0.0051\n"
          ]
        },
        {
          "name": "stderr",
          "output_type": "stream",
          "text": [
            "c:\\Users\\fahru\\anaconda3\\envs\\piton10\\lib\\site-packages\\sklearn_extra\\cluster\\_k_medoids.py:329: UserWarning: Cluster 2 is empty! self.labels_[self.medoid_indices_[2]] may not be labeled with its corresponding cluster (2).\n",
            "  warnings.warn(\n"
          ]
        },
        {
          "name": "stdout",
          "output_type": "stream",
          "text": [
            "K-Medoids n-cluster=4 have silhouette score=0.4658\n"
          ]
        },
        {
          "name": "stderr",
          "output_type": "stream",
          "text": [
            "c:\\Users\\fahru\\anaconda3\\envs\\piton10\\lib\\site-packages\\sklearn_extra\\cluster\\_k_medoids.py:329: UserWarning: Cluster 2 is empty! self.labels_[self.medoid_indices_[2]] may not be labeled with its corresponding cluster (2).\n",
            "  warnings.warn(\n"
          ]
        },
        {
          "name": "stdout",
          "output_type": "stream",
          "text": [
            "K-Medoids n-cluster=5 have silhouette score=0.4178\n"
          ]
        }
      ],
      "source": [
        "# Experiment 1\n",
        "\n",
        "# Run with several variation hyperparameter (number of cluster)\n",
        "for n_clusters in range(3, 6):\n",
        "    kmedoids = KMedoids(n_clusters=n_clusters, random_state=0)\n",
        "    cluster_labels = kmedoids.fit_predict(exp1)\n",
        "    silhouette_avg = silhouette_score(exp1, cluster_labels)\n",
        "    print(f\"K-Medoids n-cluster={n_clusters} have silhouette score={silhouette_avg:.4f}\")\n",
        "    anal['Clustering_KMedoids_Exp0_'+str(n_clusters)] = cluster_labels"
      ]
    },
    {
      "cell_type": "code",
      "execution_count": 52,
      "metadata": {
        "colab": {
          "base_uri": "https://localhost:8080/"
        },
        "id": "Q9q7dfZSzCol",
        "outputId": "dd90a084-7add-4139-db7e-0382d7028c65"
      },
      "outputs": [
        {
          "name": "stdout",
          "output_type": "stream",
          "text": [
            "K-Medoids n-cluster=3 have silhouette score=0.1166\n",
            "K-Medoids n-cluster=4 have silhouette score=0.0968\n",
            "K-Medoids n-cluster=5 have silhouette score=0.0888\n"
          ]
        }
      ],
      "source": [
        "# Experiment 2\n",
        "\n",
        "# Run with several variation hyperparameter (number of cluster)\n",
        "for n_clusters in range(3, 6):\n",
        "    kmedoids = KMedoids(n_clusters=n_clusters, random_state=0)\n",
        "    cluster_labels = kmedoids.fit_predict(exp2)\n",
        "    silhouette_avg = silhouette_score(exp2, cluster_labels)\n",
        "    print(f\"K-Medoids n-cluster={n_clusters} have silhouette score={silhouette_avg:.4f}\")\n",
        "    anal['Clustering_KMedoids_Exp0_'+str(n_clusters)] = cluster_labels"
      ]
    },
    {
      "cell_type": "markdown",
      "metadata": {
        "id": "0qmGdkPPNXhf"
      },
      "source": [
        "# **Result Analysis**"
      ]
    },
    {
      "cell_type": "markdown",
      "metadata": {
        "id": "jPN_vajBz_qx"
      },
      "source": [
        "Model Experiment 1 with K-Means modelling shows the best result based on silhouette score (0.50). Lets analyze this result."
      ]
    },
    {
      "cell_type": "markdown",
      "metadata": {
        "id": "wtDnLWnuKUBb"
      },
      "source": [
        "## Visualization"
      ]
    },
    {
      "cell_type": "code",
      "execution_count": 54,
      "metadata": {
        "colab": {
          "base_uri": "https://localhost:8080/",
          "height": 472
        },
        "id": "gjElbm_7OHd8",
        "outputId": "e42f42ad-8aed-4eb0-9bdb-1fe48541a135"
      },
      "outputs": [
        {
          "data": {
            "image/png": "[encoded data removed]",
            "text/plain": [
              "<Figure size 640x480 with 1 Axes>"
            ]
          },
          "metadata": {},
          "output_type": "display_data"
        }
      ],
      "source": [
        "# Create plot to show clustered data\n",
        "sns.scatterplot(data=anal, x='Usia', y='Total_Kepemilikan_Produk', hue='Clustering_KMeans_Exp1_3',palette='viridis')\n",
        "plt.title('Clustering from Experiment 1 n-cluster 3')\n",
        "plt.show()"
      ]
    },
    {
      "cell_type": "code",
      "execution_count": 55,
      "metadata": {
        "colab": {
          "base_uri": "https://localhost:8080/",
          "height": 472
        },
        "id": "H3JYlH9RHA6M",
        "outputId": "d0bb8cd1-17d7-4da6-a289-aeef3a5acd36"
      },
      "outputs": [
        {
          "data": {
            "image/png": "[encoded data removed]",
            "text/plain": [
              "<Figure size 640x480 with 1 Axes>"
            ]
          },
          "metadata": {},
          "output_type": "display_data"
        }
      ],
      "source": [
        "# Create plot to show clustered data\n",
        "sns.scatterplot(data=anal, x='Usia', y='Pendapatan_Tahunan', hue='Clustering_KMeans_Exp1_3',palette='viridis')\n",
        "plt.title('Clustering from Experiment 1 n-cluster 3')\n",
        "plt.show()"
      ]
    },
    {
      "cell_type": "code",
      "execution_count": 56,
      "metadata": {
        "colab": {
          "base_uri": "https://localhost:8080/",
          "height": 472
        },
        "id": "0QTOd3bBWrye",
        "outputId": "4eb4d989-771b-48dd-b96c-6c5f98d29d34"
      },
      "outputs": [
        {
          "data": {
            "image/png": "[encoded data removed]",
            "text/plain": [
              "<Figure size 640x480 with 1 Axes>"
            ]
          },
          "metadata": {},
          "output_type": "display_data"
        }
      ],
      "source": [
        "# Create plot to show clustered data\n",
        "sns.scatterplot(data=anal, x='Total_Relationship_Balance', y='Total_Kepemilikan_Produk', hue='Clustering_KMeans_Exp1_3',palette='magma')\n",
        "plt.title('Clustering from Experiment 1 n-cluster 3')\n",
        "plt.show()"
      ]
    },
    {
      "cell_type": "markdown",
      "metadata": {
        "id": "ljbWAJJMEeRA"
      },
      "source": [
        "From two diagram above shows that data will well clustered if we analyze frome  'usia' variabel point of view."
      ]
    },
    {
      "cell_type": "code",
      "execution_count": 57,
      "metadata": {
        "colab": {
          "base_uri": "https://localhost:8080/"
        },
        "id": "JjjiDYaeXHYc",
        "outputId": "56b4619a-69cd-41bc-cd67-ab025cdab34a"
      },
      "outputs": [
        {
          "name": "stdout",
          "output_type": "stream",
          "text": [
            "                               Usia  Jumlah_Anak  Produk_Tabungan  \\\n",
            "Clustering_KMeans_Exp1_3                                            \n",
            "0                         58.840056     1.474672         0.657129   \n",
            "1                         29.503177     1.191528         1.000000   \n",
            "2                         45.571206     1.310945         0.983520   \n",
            "\n",
            "                          Produk_Deposito  Produk_Kartu_Kredit  \\\n",
            "Clustering_KMeans_Exp1_3                                         \n",
            "0                                0.600844             0.338649   \n",
            "1                                0.592436             0.308018   \n",
            "2                                0.602612             0.336443   \n",
            "\n",
            "                          Produk_Kredit_Rumah  Produk_Kredit_Kendaraan  \\\n",
            "Clustering_KMeans_Exp1_3                                                 \n",
            "0                                    0.618668                 0.168386   \n",
            "1                                    0.586989                 0.157337   \n",
            "2                                    0.557214                 0.156716   \n",
            "\n",
            "                          Produk_Kredit_Dana_Tunai  Total_Kepemilikan_Produk  \\\n",
            "Clustering_KMeans_Exp1_3                                                       \n",
            "0                                         0.546435                  2.930113   \n",
            "1                                         0.599092                  3.243873   \n",
            "2                                         0.521455                  3.157960   \n",
            "\n",
            "                          Total_Relationship_Balance  \n",
            "Clustering_KMeans_Exp1_3                              \n",
            "0                                       2.389776e+08  \n",
            "1                                       2.439352e+08  \n",
            "2                                       2.377450e+08  \n"
          ]
        },
        {
          "data": {
            "text/plain": [
              "<module 'pandas' from 'c:\\\\Users\\\\fahru\\\\anaconda3\\\\envs\\\\piton10\\\\lib\\\\site-packages\\\\pandas\\\\__init__.py'>"
            ]
          },
          "execution_count": 57,
          "metadata": {},
          "output_type": "execute_result"
        }
      ],
      "source": [
        "# Summary of Result\n",
        "cluster_means = anal[['Usia','Jumlah_Anak','Produk_Tabungan','Produk_Deposito','Produk_Kartu_Kredit','Produk_Kredit_Rumah','Produk_Kredit_Kendaraan','Produk_Kredit_Dana_Tunai','Total_Kepemilikan_Produk','Total_Relationship_Balance','Clustering_KMeans_Exp1_3']].groupby('Clustering_KMeans_Exp1_3').mean()\n",
        "print(cluster_means)\n",
        "pd"
      ]
    },
    {
      "cell_type": "markdown",
      "metadata": {
        "id": "DobXdpZSKZQ2"
      },
      "source": [
        "## Deep Dives Result"
      ]
    },
    {
      "cell_type": "markdown",
      "metadata": {
        "id": "W-wnkYKes1c6"
      },
      "source": [
        "### Group 0"
      ]
    },
    {
      "cell_type": "code",
      "execution_count": 58,
      "metadata": {
        "colab": {
          "base_uri": "https://localhost:8080/"
        },
        "id": "UE2TCrizKbqA",
        "outputId": "27ee8913-a02d-45de-8629-8a309eb194b2"
      },
      "outputs": [
        {
          "data": {
            "text/html": [
              "<div>\n",
              "<style scoped>\n",
              "    .dataframe tbody tr th:only-of-type {\n",
              "        vertical-align: middle;\n",
              "    }\n",
              "\n",
              "    .dataframe tbody tr th {\n",
              "        vertical-align: top;\n",
              "    }\n",
              "\n",
              "    .dataframe thead th {\n",
              "        text-align: right;\n",
              "    }\n",
              "</style>\n",
              "<table border=\"1\" class=\"dataframe\">\n",
              "  <thead>\n",
              "    <tr style=\"text-align: right;\">\n",
              "      <th></th>\n",
              "      <th>Usia</th>\n",
              "      <th>Jumlah_Anak</th>\n",
              "      <th>Total_Kepemilikan_Produk</th>\n",
              "      <th>Total_Relationship_Balance</th>\n",
              "    </tr>\n",
              "  </thead>\n",
              "  <tbody>\n",
              "    <tr>\n",
              "      <th>count</th>\n",
              "      <td>2132.000000</td>\n",
              "      <td>2132.000000</td>\n",
              "      <td>2132.000000</td>\n",
              "      <td>2.132000e+03</td>\n",
              "    </tr>\n",
              "    <tr>\n",
              "      <th>mean</th>\n",
              "      <td>58.840056</td>\n",
              "      <td>1.474672</td>\n",
              "      <td>2.930113</td>\n",
              "      <td>2.389776e+08</td>\n",
              "    </tr>\n",
              "    <tr>\n",
              "      <th>std</th>\n",
              "      <td>5.133619</td>\n",
              "      <td>1.467245</td>\n",
              "      <td>1.041285</td>\n",
              "      <td>1.379077e+08</td>\n",
              "    </tr>\n",
              "    <tr>\n",
              "      <th>min</th>\n",
              "      <td>53.000000</td>\n",
              "      <td>0.000000</td>\n",
              "      <td>1.000000</td>\n",
              "      <td>1.028000e+03</td>\n",
              "    </tr>\n",
              "    <tr>\n",
              "      <th>25%</th>\n",
              "      <td>55.000000</td>\n",
              "      <td>0.000000</td>\n",
              "      <td>2.000000</td>\n",
              "      <td>1.266333e+08</td>\n",
              "    </tr>\n",
              "    <tr>\n",
              "      <th>50%</th>\n",
              "      <td>57.000000</td>\n",
              "      <td>1.000000</td>\n",
              "      <td>3.000000</td>\n",
              "      <td>2.328763e+08</td>\n",
              "    </tr>\n",
              "    <tr>\n",
              "      <th>75%</th>\n",
              "      <td>62.000000</td>\n",
              "      <td>3.000000</td>\n",
              "      <td>4.000000</td>\n",
              "      <td>3.493216e+08</td>\n",
              "    </tr>\n",
              "    <tr>\n",
              "      <th>max</th>\n",
              "      <td>70.000000</td>\n",
              "      <td>4.000000</td>\n",
              "      <td>6.000000</td>\n",
              "      <td>7.181097e+08</td>\n",
              "    </tr>\n",
              "  </tbody>\n",
              "</table>\n",
              "</div>"
            ],
            "text/plain": [
              "              Usia  Jumlah_Anak  Total_Kepemilikan_Produk  \\\n",
              "count  2132.000000  2132.000000               2132.000000   \n",
              "mean     58.840056     1.474672                  2.930113   \n",
              "std       5.133619     1.467245                  1.041285   \n",
              "min      53.000000     0.000000                  1.000000   \n",
              "25%      55.000000     0.000000                  2.000000   \n",
              "50%      57.000000     1.000000                  3.000000   \n",
              "75%      62.000000     3.000000                  4.000000   \n",
              "max      70.000000     4.000000                  6.000000   \n",
              "\n",
              "       Total_Relationship_Balance  \n",
              "count                2.132000e+03  \n",
              "mean                 2.389776e+08  \n",
              "std                  1.379077e+08  \n",
              "min                  1.028000e+03  \n",
              "25%                  1.266333e+08  \n",
              "50%                  2.328763e+08  \n",
              "75%                  3.493216e+08  \n",
              "max                  7.181097e+08  "
            ]
          },
          "execution_count": 58,
          "metadata": {},
          "output_type": "execute_result"
        }
      ],
      "source": [
        "# Summary Numerical data\n",
        "anal[anal['Clustering_KMeans_Exp1_3']==0][['Usia','Jumlah_Anak','Total_Kepemilikan_Produk','Total_Relationship_Balance']].describe(include=\"all\")"
      ]
    },
    {
      "cell_type": "code",
      "execution_count": 59,
      "metadata": {
        "colab": {
          "base_uri": "https://localhost:8080/"
        },
        "id": "J7ZvFbIrk78L",
        "outputId": "b4c6feb8-7870-432d-ef46-196cc154de1f"
      },
      "outputs": [
        {
          "data": {
            "text/plain": [
              "['Area', 'Vintage', 'Jenis_Kelamin', 'Status_Perkawinan', 'Pendidikan']"
            ]
          },
          "execution_count": 59,
          "metadata": {},
          "output_type": "execute_result"
        }
      ],
      "source": [
        "# Summary Categorical data\n",
        "anal.select_dtypes(include='object').columns.tolist()"
      ]
    },
    {
      "cell_type": "code",
      "execution_count": 60,
      "metadata": {
        "colab": {
          "base_uri": "https://localhost:8080/"
        },
        "id": "H_USFBOJjxk7",
        "outputId": "d5fb8ed4-2210-42e7-d281-897a0bb4f0e6"
      },
      "outputs": [
        {
          "data": {
            "text/plain": [
              "Area\n",
              "Jakarta     0.478893\n",
              "Bandung     0.166041\n",
              "Solo        0.128987\n",
              "Surabaya    0.126173\n",
              "Jogja       0.072702\n",
              "Bogor       0.027205\n",
              "Name: proportion, dtype: float64"
            ]
          },
          "execution_count": 60,
          "metadata": {},
          "output_type": "execute_result"
        }
      ],
      "source": [
        "# Based on Area\n",
        "anal[anal['Clustering_KMeans_Exp1_3']==0]['Area'].value_counts(normalize=True)"
      ]
    },
    {
      "cell_type": "code",
      "execution_count": 61,
      "metadata": {
        "colab": {
          "base_uri": "https://localhost:8080/"
        },
        "id": "OdYjSr4zkcBk",
        "outputId": "36102c60-b2e1-4f9c-ecc6-63d571419bc7"
      },
      "outputs": [
        {
          "data": {
            "text/plain": [
              "Vintage\n",
              "2 - 3 Tahun    0.486867\n",
              "< 1 Tahun      0.313321\n",
              "> 4 Tahun      0.199812\n",
              "Name: proportion, dtype: float64"
            ]
          },
          "execution_count": 61,
          "metadata": {},
          "output_type": "execute_result"
        }
      ],
      "source": [
        "# Based on Vintage\n",
        "anal[anal['Clustering_KMeans_Exp1_3']==0]['Vintage'].value_counts(normalize=True)"
      ]
    },
    {
      "cell_type": "code",
      "execution_count": 62,
      "metadata": {
        "colab": {
          "base_uri": "https://localhost:8080/"
        },
        "id": "_xNQQae3sC0i",
        "outputId": "735924f3-b513-448f-c271-8b7aee3c8f64"
      },
      "outputs": [
        {
          "data": {
            "text/plain": [
              "Jenis_Kelamin\n",
              "Laki-laki    0.668386\n",
              "Perempuan    0.331614\n",
              "Name: proportion, dtype: float64"
            ]
          },
          "execution_count": 62,
          "metadata": {},
          "output_type": "execute_result"
        }
      ],
      "source": [
        "# Based on Jenis\n",
        "anal[anal['Clustering_KMeans_Exp1_3']==0]['Jenis_Kelamin'].value_counts(normalize=True)"
      ]
    },
    {
      "cell_type": "code",
      "execution_count": 63,
      "metadata": {
        "colab": {
          "base_uri": "https://localhost:8080/"
        },
        "id": "vm3qW8N_sctY",
        "outputId": "43baf698-84a4-4198-88dc-adc12f5e3427"
      },
      "outputs": [
        {
          "data": {
            "text/plain": [
              "Pendidikan\n",
              "Sarjana                 0.258443\n",
              "SD                      0.204972\n",
              "SMA                     0.180113\n",
              "Tidak Sekolah Formal    0.101313\n",
              "Magister                0.088180\n",
              "SMP                     0.083959\n",
              "Doktor                  0.083021\n",
              "Name: proportion, dtype: float64"
            ]
          },
          "execution_count": 63,
          "metadata": {},
          "output_type": "execute_result"
        }
      ],
      "source": [
        "# Based on Pendidikan\n",
        "anal[anal['Clustering_KMeans_Exp1_3']==0]['Pendidikan'].value_counts(normalize=True)"
      ]
    },
    {
      "cell_type": "markdown",
      "metadata": {
        "id": "6YkiT1ANs_Yv"
      },
      "source": [
        "### Group 1"
      ]
    },
    {
      "cell_type": "code",
      "execution_count": 64,
      "metadata": {
        "colab": {
          "base_uri": "https://localhost:8080/"
        },
        "id": "eVUoLd3bs_Yw",
        "outputId": "1d035b4f-3f1f-4a3a-8f6b-cc73d8e9fb11"
      },
      "outputs": [
        {
          "data": {
            "text/html": [
              "<div>\n",
              "<style scoped>\n",
              "    .dataframe tbody tr th:only-of-type {\n",
              "        vertical-align: middle;\n",
              "    }\n",
              "\n",
              "    .dataframe tbody tr th {\n",
              "        vertical-align: top;\n",
              "    }\n",
              "\n",
              "    .dataframe thead th {\n",
              "        text-align: right;\n",
              "    }\n",
              "</style>\n",
              "<table border=\"1\" class=\"dataframe\">\n",
              "  <thead>\n",
              "    <tr style=\"text-align: right;\">\n",
              "      <th></th>\n",
              "      <th>Usia</th>\n",
              "      <th>Jumlah_Anak</th>\n",
              "      <th>Total_Kepemilikan_Produk</th>\n",
              "      <th>Total_Relationship_Balance</th>\n",
              "    </tr>\n",
              "  </thead>\n",
              "  <tbody>\n",
              "    <tr>\n",
              "      <th>count</th>\n",
              "      <td>3305.000000</td>\n",
              "      <td>3305.000000</td>\n",
              "      <td>3305.000000</td>\n",
              "      <td>3.305000e+03</td>\n",
              "    </tr>\n",
              "    <tr>\n",
              "      <th>mean</th>\n",
              "      <td>29.503177</td>\n",
              "      <td>1.191528</td>\n",
              "      <td>3.243873</td>\n",
              "      <td>2.439352e+08</td>\n",
              "    </tr>\n",
              "    <tr>\n",
              "      <th>std</th>\n",
              "      <td>4.254972</td>\n",
              "      <td>1.480683</td>\n",
              "      <td>1.008655</td>\n",
              "      <td>1.452356e+08</td>\n",
              "    </tr>\n",
              "    <tr>\n",
              "      <th>min</th>\n",
              "      <td>20.000000</td>\n",
              "      <td>0.000000</td>\n",
              "      <td>1.000000</td>\n",
              "      <td>1.016565e+06</td>\n",
              "    </tr>\n",
              "    <tr>\n",
              "      <th>25%</th>\n",
              "      <td>26.000000</td>\n",
              "      <td>0.000000</td>\n",
              "      <td>3.000000</td>\n",
              "      <td>1.222784e+08</td>\n",
              "    </tr>\n",
              "    <tr>\n",
              "      <th>50%</th>\n",
              "      <td>30.000000</td>\n",
              "      <td>0.000000</td>\n",
              "      <td>3.000000</td>\n",
              "      <td>2.408255e+08</td>\n",
              "    </tr>\n",
              "    <tr>\n",
              "      <th>75%</th>\n",
              "      <td>33.000000</td>\n",
              "      <td>2.000000</td>\n",
              "      <td>4.000000</td>\n",
              "      <td>3.578412e+08</td>\n",
              "    </tr>\n",
              "    <tr>\n",
              "      <th>max</th>\n",
              "      <td>37.000000</td>\n",
              "      <td>4.000000</td>\n",
              "      <td>6.000000</td>\n",
              "      <td>7.228870e+08</td>\n",
              "    </tr>\n",
              "  </tbody>\n",
              "</table>\n",
              "</div>"
            ],
            "text/plain": [
              "              Usia  Jumlah_Anak  Total_Kepemilikan_Produk  \\\n",
              "count  3305.000000  3305.000000               3305.000000   \n",
              "mean     29.503177     1.191528                  3.243873   \n",
              "std       4.254972     1.480683                  1.008655   \n",
              "min      20.000000     0.000000                  1.000000   \n",
              "25%      26.000000     0.000000                  3.000000   \n",
              "50%      30.000000     0.000000                  3.000000   \n",
              "75%      33.000000     2.000000                  4.000000   \n",
              "max      37.000000     4.000000                  6.000000   \n",
              "\n",
              "       Total_Relationship_Balance  \n",
              "count                3.305000e+03  \n",
              "mean                 2.439352e+08  \n",
              "std                  1.452356e+08  \n",
              "min                  1.016565e+06  \n",
              "25%                  1.222784e+08  \n",
              "50%                  2.408255e+08  \n",
              "75%                  3.578412e+08  \n",
              "max                  7.228870e+08  "
            ]
          },
          "execution_count": 64,
          "metadata": {},
          "output_type": "execute_result"
        }
      ],
      "source": [
        "# Summary Numerical data\n",
        "anal[anal['Clustering_KMeans_Exp1_3']==1][['Usia','Jumlah_Anak','Total_Kepemilikan_Produk','Total_Relationship_Balance']].describe(include=\"all\")"
      ]
    },
    {
      "cell_type": "code",
      "execution_count": 65,
      "metadata": {
        "colab": {
          "base_uri": "https://localhost:8080/"
        },
        "id": "FqsyxBjQs_Yw",
        "outputId": "2fb77b75-11ef-4c1d-b7ed-3ea57f4172d0"
      },
      "outputs": [
        {
          "data": {
            "text/plain": [
              "['Area', 'Vintage', 'Jenis_Kelamin', 'Status_Perkawinan', 'Pendidikan']"
            ]
          },
          "execution_count": 65,
          "metadata": {},
          "output_type": "execute_result"
        }
      ],
      "source": [
        "# Summary Categorical data\n",
        "anal.select_dtypes(include='object').columns.tolist()"
      ]
    },
    {
      "cell_type": "code",
      "execution_count": 66,
      "metadata": {
        "colab": {
          "base_uri": "https://localhost:8080/"
        },
        "id": "Eon63JOws_Yx",
        "outputId": "a820ccc6-770b-4118-ce79-5970678f22ea"
      },
      "outputs": [
        {
          "data": {
            "text/plain": [
              "Area\n",
              "Jakarta     0.476248\n",
              "Bandung     0.179728\n",
              "Surabaya    0.126475\n",
              "Solo        0.118306\n",
              "Jogja       0.073222\n",
              "Bogor       0.026021\n",
              "Name: proportion, dtype: float64"
            ]
          },
          "execution_count": 66,
          "metadata": {},
          "output_type": "execute_result"
        }
      ],
      "source": [
        "# Based on Area\n",
        "anal[anal['Clustering_KMeans_Exp1_3']==1]['Area'].value_counts(normalize=True)"
      ]
    },
    {
      "cell_type": "code",
      "execution_count": 67,
      "metadata": {
        "colab": {
          "base_uri": "https://localhost:8080/"
        },
        "id": "y9tpK9Fts_Yx",
        "outputId": "7050561a-dcad-4469-900b-3f91eee66502"
      },
      "outputs": [
        {
          "data": {
            "text/plain": [
              "Vintage\n",
              "2 - 3 Tahun    0.501967\n",
              "< 1 Tahun      0.293192\n",
              "> 4 Tahun      0.204841\n",
              "Name: proportion, dtype: float64"
            ]
          },
          "execution_count": 67,
          "metadata": {},
          "output_type": "execute_result"
        }
      ],
      "source": [
        "# Based on Vintage\n",
        "anal[anal['Clustering_KMeans_Exp1_3']==1]['Vintage'].value_counts(normalize=True)"
      ]
    },
    {
      "cell_type": "code",
      "execution_count": 68,
      "metadata": {
        "colab": {
          "base_uri": "https://localhost:8080/"
        },
        "id": "PpO-hayUs_Yx",
        "outputId": "f3a14e67-c326-4ef0-a4e6-a0baea75ebb9"
      },
      "outputs": [
        {
          "data": {
            "text/plain": [
              "Jenis_Kelamin\n",
              "Laki-laki    0.640847\n",
              "Perempuan    0.359153\n",
              "Name: proportion, dtype: float64"
            ]
          },
          "execution_count": 68,
          "metadata": {},
          "output_type": "execute_result"
        }
      ],
      "source": [
        "# Based on Jenis\n",
        "anal[anal['Clustering_KMeans_Exp1_3']==1]['Jenis_Kelamin'].value_counts(normalize=True)"
      ]
    },
    {
      "cell_type": "code",
      "execution_count": 69,
      "metadata": {
        "colab": {
          "base_uri": "https://localhost:8080/"
        },
        "id": "WiuhSU4us_Yx",
        "outputId": "feb5ec87-6f63-4e82-fafd-9ebe5978de56"
      },
      "outputs": [
        {
          "data": {
            "text/plain": [
              "Pendidikan\n",
              "Sarjana                 0.274130\n",
              "SMA                     0.192436\n",
              "SD                      0.180333\n",
              "Doktor                  0.097731\n",
              "Magister                0.087443\n",
              "SMP                     0.084720\n",
              "Tidak Sekolah Formal    0.083207\n",
              "Name: proportion, dtype: float64"
            ]
          },
          "execution_count": 69,
          "metadata": {},
          "output_type": "execute_result"
        }
      ],
      "source": [
        "# Based on Pendidikan\n",
        "anal[anal['Clustering_KMeans_Exp1_3']==1]['Pendidikan'].value_counts(normalize=True)"
      ]
    },
    {
      "cell_type": "markdown",
      "metadata": {
        "id": "i-a-QG3OtTdJ"
      },
      "source": [
        "### Group 2"
      ]
    },
    {
      "cell_type": "code",
      "execution_count": 70,
      "metadata": {
        "colab": {
          "base_uri": "https://localhost:8080/",
          "height": 300
        },
        "id": "Xqoanc1ktTdK",
        "outputId": "48f6e416-48c5-4506-83a6-148afd34c2de"
      },
      "outputs": [
        {
          "data": {
            "text/html": [
              "<div>\n",
              "<style scoped>\n",
              "    .dataframe tbody tr th:only-of-type {\n",
              "        vertical-align: middle;\n",
              "    }\n",
              "\n",
              "    .dataframe tbody tr th {\n",
              "        vertical-align: top;\n",
              "    }\n",
              "\n",
              "    .dataframe thead th {\n",
              "        text-align: right;\n",
              "    }\n",
              "</style>\n",
              "<table border=\"1\" class=\"dataframe\">\n",
              "  <thead>\n",
              "    <tr style=\"text-align: right;\">\n",
              "      <th></th>\n",
              "      <th>Usia</th>\n",
              "      <th>Jumlah_Anak</th>\n",
              "      <th>Total_Kepemilikan_Produk</th>\n",
              "      <th>Total_Relationship_Balance</th>\n",
              "    </tr>\n",
              "  </thead>\n",
              "  <tbody>\n",
              "    <tr>\n",
              "      <th>count</th>\n",
              "      <td>3216.000000</td>\n",
              "      <td>3216.000000</td>\n",
              "      <td>3216.000000</td>\n",
              "      <td>3.216000e+03</td>\n",
              "    </tr>\n",
              "    <tr>\n",
              "      <th>mean</th>\n",
              "      <td>45.571206</td>\n",
              "      <td>1.310945</td>\n",
              "      <td>3.157960</td>\n",
              "      <td>2.377450e+08</td>\n",
              "    </tr>\n",
              "    <tr>\n",
              "      <th>std</th>\n",
              "      <td>4.278838</td>\n",
              "      <td>1.482616</td>\n",
              "      <td>1.045431</td>\n",
              "      <td>1.437032e+08</td>\n",
              "    </tr>\n",
              "    <tr>\n",
              "      <th>min</th>\n",
              "      <td>38.000000</td>\n",
              "      <td>0.000000</td>\n",
              "      <td>1.000000</td>\n",
              "      <td>1.384147e+06</td>\n",
              "    </tr>\n",
              "    <tr>\n",
              "      <th>25%</th>\n",
              "      <td>42.000000</td>\n",
              "      <td>0.000000</td>\n",
              "      <td>2.000000</td>\n",
              "      <td>1.166975e+08</td>\n",
              "    </tr>\n",
              "    <tr>\n",
              "      <th>50%</th>\n",
              "      <td>46.000000</td>\n",
              "      <td>1.000000</td>\n",
              "      <td>3.000000</td>\n",
              "      <td>2.309003e+08</td>\n",
              "    </tr>\n",
              "    <tr>\n",
              "      <th>75%</th>\n",
              "      <td>50.000000</td>\n",
              "      <td>3.000000</td>\n",
              "      <td>4.000000</td>\n",
              "      <td>3.468400e+08</td>\n",
              "    </tr>\n",
              "    <tr>\n",
              "      <th>max</th>\n",
              "      <td>52.000000</td>\n",
              "      <td>4.000000</td>\n",
              "      <td>6.000000</td>\n",
              "      <td>7.259942e+08</td>\n",
              "    </tr>\n",
              "  </tbody>\n",
              "</table>\n",
              "</div>"
            ],
            "text/plain": [
              "              Usia  Jumlah_Anak  Total_Kepemilikan_Produk  \\\n",
              "count  3216.000000  3216.000000               3216.000000   \n",
              "mean     45.571206     1.310945                  3.157960   \n",
              "std       4.278838     1.482616                  1.045431   \n",
              "min      38.000000     0.000000                  1.000000   \n",
              "25%      42.000000     0.000000                  2.000000   \n",
              "50%      46.000000     1.000000                  3.000000   \n",
              "75%      50.000000     3.000000                  4.000000   \n",
              "max      52.000000     4.000000                  6.000000   \n",
              "\n",
              "       Total_Relationship_Balance  \n",
              "count                3.216000e+03  \n",
              "mean                 2.377450e+08  \n",
              "std                  1.437032e+08  \n",
              "min                  1.384147e+06  \n",
              "25%                  1.166975e+08  \n",
              "50%                  2.309003e+08  \n",
              "75%                  3.468400e+08  \n",
              "max                  7.259942e+08  "
            ]
          },
          "execution_count": 70,
          "metadata": {},
          "output_type": "execute_result"
        }
      ],
      "source": [
        "# Summary Numerical data\n",
        "anal[anal['Clustering_KMeans_Exp1_3']==2][['Usia','Jumlah_Anak','Total_Kepemilikan_Produk','Total_Relationship_Balance']].describe(include=\"all\")"
      ]
    },
    {
      "cell_type": "code",
      "execution_count": 71,
      "metadata": {
        "colab": {
          "base_uri": "https://localhost:8080/"
        },
        "id": "FUig6szItTdK",
        "outputId": "3963526e-78d4-4f14-d425-22cb934338bd"
      },
      "outputs": [
        {
          "data": {
            "text/plain": [
              "['Area', 'Vintage', 'Jenis_Kelamin', 'Status_Perkawinan', 'Pendidikan']"
            ]
          },
          "execution_count": 71,
          "metadata": {},
          "output_type": "execute_result"
        }
      ],
      "source": [
        "# Summary Categorical data\n",
        "anal.select_dtypes(include='object').columns.tolist()"
      ]
    },
    {
      "cell_type": "code",
      "execution_count": 72,
      "metadata": {
        "colab": {
          "base_uri": "https://localhost:8080/",
          "height": 303
        },
        "id": "s5lkWR-NtTdL",
        "outputId": "5570d391-c557-48ff-d61c-ae73d298cd16"
      },
      "outputs": [
        {
          "data": {
            "text/plain": [
              "Area\n",
              "Jakarta     0.484142\n",
              "Bandung     0.161692\n",
              "Surabaya    0.131530\n",
              "Solo        0.112562\n",
              "Jogja       0.081468\n",
              "Bogor       0.028607\n",
              "Name: proportion, dtype: float64"
            ]
          },
          "execution_count": 72,
          "metadata": {},
          "output_type": "execute_result"
        }
      ],
      "source": [
        "# Based on Area\n",
        "anal[anal['Clustering_KMeans_Exp1_3']==2]['Area'].value_counts(normalize=True)"
      ]
    },
    {
      "cell_type": "code",
      "execution_count": 73,
      "metadata": {
        "colab": {
          "base_uri": "https://localhost:8080/",
          "height": 209
        },
        "id": "qNUe9i2otTdL",
        "outputId": "c3b8afa5-4c36-4aed-8ed6-9e1c8d72900b"
      },
      "outputs": [
        {
          "data": {
            "text/plain": [
              "Vintage\n",
              "2 - 3 Tahun    0.503731\n",
              "< 1 Tahun      0.295398\n",
              "> 4 Tahun      0.200871\n",
              "Name: proportion, dtype: float64"
            ]
          },
          "execution_count": 73,
          "metadata": {},
          "output_type": "execute_result"
        }
      ],
      "source": [
        "# Based on Vintage\n",
        "anal[anal['Clustering_KMeans_Exp1_3']==2]['Vintage'].value_counts(normalize=True)"
      ]
    },
    {
      "cell_type": "code",
      "execution_count": 74,
      "metadata": {
        "colab": {
          "base_uri": "https://localhost:8080/",
          "height": 178
        },
        "id": "U5oj_0u1tTdL",
        "outputId": "bd2c7912-11f4-420a-8189-513c5cb8e599"
      },
      "outputs": [
        {
          "data": {
            "text/plain": [
              "Jenis_Kelamin\n",
              "Laki-laki    0.678483\n",
              "Perempuan    0.321517\n",
              "Name: proportion, dtype: float64"
            ]
          },
          "execution_count": 74,
          "metadata": {},
          "output_type": "execute_result"
        }
      ],
      "source": [
        "# Based on Jenis\n",
        "anal[anal['Clustering_KMeans_Exp1_3']==2]['Jenis_Kelamin'].value_counts(normalize=True)"
      ]
    },
    {
      "cell_type": "code",
      "execution_count": 75,
      "metadata": {
        "colab": {
          "base_uri": "https://localhost:8080/",
          "height": 335
        },
        "id": "grTFIYENtTdL",
        "outputId": "dc64896c-7703-433f-9f9d-7fab0508f980"
      },
      "outputs": [
        {
          "data": {
            "text/plain": [
              "Pendidikan\n",
              "Sarjana                 0.273321\n",
              "SD                      0.181592\n",
              "SMA                     0.180037\n",
              "SMP                     0.095771\n",
              "Doktor                  0.093905\n",
              "Tidak Sekolah Formal    0.089552\n",
              "Magister                0.085821\n",
              "Name: proportion, dtype: float64"
            ]
          },
          "execution_count": 75,
          "metadata": {},
          "output_type": "execute_result"
        }
      ],
      "source": [
        "# Based on Pendidikan\n",
        "anal[anal['Clustering_KMeans_Exp1_3']==2]['Pendidikan'].value_counts(normalize=True)"
      ]
    }
  ],
  "metadata": {
    "colab": {
      "collapsed_sections": [
        "jQrI944jjU2R",
        "nP7Ke-UGjveT",
        "bNPjeL3ik40Q",
        "j38bQnJU_xf7",
        "Ik8vOL1Gy29S",
        "GpZuXTqZ8YMK",
        "wtDnLWnuKUBb",
        "W-wnkYKes1c6",
        "6YkiT1ANs_Yv",
        "i-a-QG3OtTdJ"
      ],
      "provenance": [],
      "toc_visible": true
    },
    "kernelspec": {
      "display_name": "piton10",
      "language": "python",
      "name": "python3"
    },
    "language_info": {
      "codemirror_mode": {
        "name": "ipython",
        "version": 3
      },
      "file_extension": ".py",
      "mimetype": "text/x-python",
      "name": "python",
      "nbconvert_exporter": "python",
      "pygments_lexer": "ipython3",
      "version": "3.10.18"
    }
  },
  "nbformat": 4,
  "nbformat_minor": 0
}
